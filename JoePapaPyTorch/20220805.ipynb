{
 "cells": [
  {
   "cell_type": "code",
   "execution_count": 2,
   "id": "fdefd313-df5e-4ca1-ae0c-36214464f335",
   "metadata": {},
   "outputs": [],
   "source": [
    "import urllib.request"
   ]
  },
  {
   "cell_type": "code",
   "execution_count": 3,
   "id": "082ae230-f20d-444b-819f-a9f3deb7481f",
   "metadata": {},
   "outputs": [
    {
     "data": {
      "text/plain": [
       "('coffee.jpg', <http.client.HTTPMessage at 0x7f7ae32212d0>)"
      ]
     },
     "execution_count": 3,
     "metadata": {},
     "output_type": "execute_result"
    }
   ],
   "source": [
    "url = 'https://pytorch.tips/coffee'\n",
    "fpath = 'coffee.jpg'\n",
    "urllib.request.urlretrieve(url=url, filename=fpath)"
   ]
  },
  {
   "cell_type": "code",
   "execution_count": null,
   "id": "6047e3e5-830a-462b-80a1-46fa885c92eb",
   "metadata": {},
   "outputs": [],
   "source": []
  }
 ],
 "metadata": {
  "kernelspec": {
   "display_name": "ML_2022",
   "language": "python",
   "name": "ml_2022"
  },
  "language_info": {
   "codemirror_mode": {
    "name": "ipython",
    "version": 3
   },
   "file_extension": ".py",
   "mimetype": "text/x-python",
   "name": "python",
   "nbconvert_exporter": "python",
   "pygments_lexer": "ipython3",
   "version": "3.7.12"
  }
 },
 "nbformat": 4,
 "nbformat_minor": 5
}
