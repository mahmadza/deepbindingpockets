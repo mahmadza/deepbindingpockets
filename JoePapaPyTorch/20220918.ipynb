{
 "cells": [
  {
   "cell_type": "markdown",
   "id": "5e4ef720-9894-438d-8e81-37116b9ded4d",
   "metadata": {
    "tags": []
   },
   "source": [
    "# Test Notebook for using PyTorch on CIFAR10 dataset"
   ]
  },
  {
   "cell_type": "code",
   "execution_count": 1,
   "id": "74ac175d-b39f-465a-995b-3d2a7f7f3f08",
   "metadata": {},
   "outputs": [
    {
     "name": "stdout",
     "output_type": "stream",
     "text": [
      "Files already downloaded and verified\n"
     ]
    }
   ],
   "source": [
    "import torch\n",
    "from torchvision.datasets import CIFAR10\n",
    "\n",
    "train_data = CIFAR10(root = './train/',\n",
    "                     train = True,\n",
    "                     download = True)"
   ]
  },
  {
   "cell_type": "code",
   "execution_count": 2,
   "id": "e849c144-60d6-4ebe-a0fe-1395208e2ff9",
   "metadata": {},
   "outputs": [
    {
     "data": {
      "text/plain": [
       "Dataset CIFAR10\n",
       "    Number of datapoints: 50000\n",
       "    Root location: ./train/\n",
       "    Split: Train"
      ]
     },
     "execution_count": 2,
     "metadata": {},
     "output_type": "execute_result"
    }
   ],
   "source": [
    "train_data"
   ]
  },
  {
   "cell_type": "code",
   "execution_count": 3,
   "id": "135595e4-058e-4a2b-b9d7-d23f8a1cd953",
   "metadata": {},
   "outputs": [
    {
     "data": {
      "text/plain": [
       "(50000, 32, 32, 3)"
      ]
     },
     "execution_count": 3,
     "metadata": {},
     "output_type": "execute_result"
    }
   ],
   "source": [
    "train_data.data.shape"
   ]
  },
  {
   "cell_type": "code",
   "execution_count": 4,
   "id": "8d02fae1-efa7-44d7-a9a5-59a2a76fb2c7",
   "metadata": {},
   "outputs": [
    {
     "data": {
      "text/plain": [
       "['airplane',\n",
       " 'automobile',\n",
       " 'bird',\n",
       " 'cat',\n",
       " 'deer',\n",
       " 'dog',\n",
       " 'frog',\n",
       " 'horse',\n",
       " 'ship',\n",
       " 'truck']"
      ]
     },
     "execution_count": 4,
     "metadata": {},
     "output_type": "execute_result"
    }
   ],
   "source": [
    "train_data.classes"
   ]
  },
  {
   "cell_type": "code",
   "execution_count": 5,
   "id": "1ffca5ae-92c6-423b-a0ed-266066c72074",
   "metadata": {},
   "outputs": [
    {
     "data": {
      "text/plain": [
       "{'airplane': 0,\n",
       " 'automobile': 1,\n",
       " 'bird': 2,\n",
       " 'cat': 3,\n",
       " 'deer': 4,\n",
       " 'dog': 5,\n",
       " 'frog': 6,\n",
       " 'horse': 7,\n",
       " 'ship': 8,\n",
       " 'truck': 9}"
      ]
     },
     "execution_count": 5,
     "metadata": {},
     "output_type": "execute_result"
    }
   ],
   "source": [
    "train_data.class_to_idx"
   ]
  },
  {
   "cell_type": "code",
   "execution_count": 6,
   "id": "99b7d5e4-b2df-4743-8b40-e9f22064c795",
   "metadata": {},
   "outputs": [],
   "source": [
    "data, label = train_data[0]"
   ]
  },
  {
   "cell_type": "code",
   "execution_count": 7,
   "id": "4d54fb47-3926-41c2-aa84-64f426e345b5",
   "metadata": {},
   "outputs": [
    {
     "data": {
      "image/png": "[encoded data removed]",
      "text/plain": [
       "<PIL.Image.Image image mode=RGB size=32x32 at 0x7FC4BA4CAD50>"
      ]
     },
     "execution_count": 7,
     "metadata": {},
     "output_type": "execute_result"
    }
   ],
   "source": [
    "data"
   ]
  },
  {
   "cell_type": "code",
   "execution_count": 8,
   "id": "fdb1438d-bf5a-4f24-8ab2-613fb2e8e197",
   "metadata": {},
   "outputs": [
    {
     "data": {
      "text/plain": [
       "6"
      ]
     },
     "execution_count": 8,
     "metadata": {},
     "output_type": "execute_result"
    }
   ],
   "source": [
    "label"
   ]
  },
  {
   "cell_type": "code",
   "execution_count": 9,
   "id": "2e5887a0-f1f9-4479-a6ae-a26d06a17639",
   "metadata": {},
   "outputs": [
    {
     "data": {
      "text/plain": [
       "'frog'"
      ]
     },
     "execution_count": 9,
     "metadata": {},
     "output_type": "execute_result"
    }
   ],
   "source": [
    "train_data.classes[label]"
   ]
  },
  {
   "cell_type": "code",
   "execution_count": 10,
   "id": "17f7fd0d-555e-4f65-9131-0438c3b9ac05",
   "metadata": {},
   "outputs": [
    {
     "name": "stdout",
     "output_type": "stream",
     "text": [
      "Files already downloaded and verified\n"
     ]
    }
   ],
   "source": [
    "# Dowload test data, with transform applied\n",
    "from torchvision import transforms\n",
    "\n",
    "train_transforms = transforms.Compose([\n",
    "    transforms.RandomCrop(32, padding=4),\n",
    "    transforms.RandomHorizontalFlip(),\n",
    "    transforms.ToTensor(),\n",
    "    transforms.Normalize(\n",
    "        mean = (0.4914, 0.4822, 0.4465),\n",
    "        std = (0.2023, 0.1994, 0.2010))])\n",
    "\n",
    "train_data = CIFAR10(root = './train/',\n",
    "                     train = True,\n",
    "                     download = True,\n",
    "                     transform = train_transforms)"
   ]
  },
  {
   "cell_type": "code",
   "execution_count": 11,
   "id": "b932fc5b-5d77-4fb8-9259-5d7d1276d793",
   "metadata": {},
   "outputs": [
    {
     "data": {
      "text/plain": [
       "tensor([[[-0.0835, -0.0060,  0.0910,  ..., -1.6924, -1.7894, -2.4291],\n",
       "         [-0.9752, -0.7426, -0.4324,  ..., -1.2854, -1.4598, -2.4291],\n",
       "         [-1.7506, -1.1303, -0.7232,  ..., -0.8007, -1.0527, -2.4291],\n",
       "         ...,\n",
       "         [-2.4291, -2.4291, -2.4291,  ..., -2.4291, -2.4291, -2.4291],\n",
       "         [-2.4291, -2.4291, -2.4291,  ..., -2.4291, -2.4291, -2.4291],\n",
       "         [-2.4291, -2.4291, -2.4291,  ..., -2.4291, -2.4291, -2.4291]],\n",
       "\n",
       "        [[-0.7466, -0.7072, -0.6482,  ..., -2.0249, -1.9266, -2.4183],\n",
       "         [-1.4939, -1.2972, -1.1006,  ..., -1.7889, -1.7889, -2.4183],\n",
       "         [-2.2216, -1.6512, -1.3562,  ..., -1.3759, -1.4742, -2.4183],\n",
       "         ...,\n",
       "         [-2.4183, -2.4183, -2.4183,  ..., -2.4183, -2.4183, -2.4183],\n",
       "         [-2.4183, -2.4183, -2.4183,  ..., -2.4183, -2.4183, -2.4183],\n",
       "         [-2.4183, -2.4183, -2.4183,  ..., -2.4183, -2.4183, -2.4183]],\n",
       "\n",
       "        [[-1.2849, -1.2459, -1.2459,  ..., -2.1434, -1.8897, -2.2214],\n",
       "         [-1.7727, -1.6946, -1.5971,  ..., -2.0068, -1.8117, -2.2214],\n",
       "         [-2.2214, -1.9287, -1.7531,  ..., -1.7531, -1.6556, -2.2214],\n",
       "         ...,\n",
       "         [-2.2214, -2.2214, -2.2214,  ..., -2.2214, -2.2214, -2.2214],\n",
       "         [-2.2214, -2.2214, -2.2214,  ..., -2.2214, -2.2214, -2.2214],\n",
       "         [-2.2214, -2.2214, -2.2214,  ..., -2.2214, -2.2214, -2.2214]]])"
      ]
     },
     "execution_count": 11,
     "metadata": {},
     "output_type": "execute_result"
    }
   ],
   "source": [
    "data, label = train_data[0]\n",
    "data"
   ]
  },
  {
   "cell_type": "code",
   "execution_count": 12,
   "id": "be521de9-9aad-4b9d-a82d-28faff2904c3",
   "metadata": {},
   "outputs": [],
   "source": [
    "test_transforms = transforms.Compose([\n",
    "    transforms.ToTensor(),\n",
    "    transforms.Normalize(\n",
    "        (0.4914, 0.4822, 0.4465),\n",
    "        (0.2023, 0.1994, 0.2010))])\n",
    "\n",
    "test_data = CIFAR10(\n",
    "    root = './test/',\n",
    "    train = False,\n",
    "    transform = test_transforms)"
   ]
  },
  {
   "cell_type": "markdown",
   "id": "adf63115-0058-4761-86d6-fed1c96c9d7b",
   "metadata": {},
   "source": [
    "### Data Batching"
   ]
  },
  {
   "cell_type": "code",
   "execution_count": 13,
   "id": "8d30901e-b4c8-48d9-88b4-b9ffb8595fc8",
   "metadata": {},
   "outputs": [],
   "source": [
    "trainloader = torch.utils.data.DataLoader(\n",
    "    train_data,\n",
    "    batch_size = 16,\n",
    "    shuffle = True)"
   ]
  },
  {
   "cell_type": "code",
   "execution_count": 14,
   "id": "85ceb95b-0935-4422-943b-68b0d6a2d1ed",
   "metadata": {},
   "outputs": [
    {
     "data": {
      "text/plain": [
       "torch.Size([16, 3, 32, 32])"
      ]
     },
     "execution_count": 14,
     "metadata": {},
     "output_type": "execute_result"
    }
   ],
   "source": [
    "# retrieve a batch of samples\n",
    "data_batch, labels_batch = next(iter(trainloader))\n",
    "data_batch.size()"
   ]
  },
  {
   "cell_type": "code",
   "execution_count": 15,
   "id": "4584964c-a78f-48f7-b0a4-8a82b42ed32c",
   "metadata": {},
   "outputs": [
    {
     "data": {
      "text/plain": [
       "torch.Size([16])"
      ]
     },
     "execution_count": 15,
     "metadata": {},
     "output_type": "execute_result"
    }
   ],
   "source": [
    "labels_batch.size()"
   ]
  },
  {
   "cell_type": "code",
   "execution_count": 16,
   "id": "e8bee863-db8e-4fb4-86fc-09976f488179",
   "metadata": {},
   "outputs": [
    {
     "data": {
      "text/plain": [
       "tensor([9, 5, 8, 3, 1, 3, 6, 6, 9, 5, 9, 6, 8, 6, 8, 0])"
      ]
     },
     "execution_count": 16,
     "metadata": {},
     "output_type": "execute_result"
    }
   ],
   "source": [
    "labels_batch"
   ]
  },
  {
   "cell_type": "code",
   "execution_count": 17,
   "id": "206b2137-586c-4c73-9670-dce99cd36f9b",
   "metadata": {},
   "outputs": [],
   "source": [
    "testloader = torch.utils.data.DataLoader(\n",
    "    test_data,\n",
    "    batch_size = 16,\n",
    "    shuffle = False)"
   ]
  },
  {
   "cell_type": "code",
   "execution_count": null,
   "id": "2f445c78-11b9-4906-a87d-da2ff2d3d54d",
   "metadata": {},
   "outputs": [],
   "source": []
  }
 ],
 "metadata": {
  "kernelspec": {
   "display_name": "ML_2022",
   "language": "python",
   "name": "ml_2022"
  },
  "language_info": {
   "codemirror_mode": {
    "name": "ipython",
    "version": 3
   },
   "file_extension": ".py",
   "mimetype": "text/x-python",
   "name": "python",
   "nbconvert_exporter": "python",
   "pygments_lexer": "ipython3",
   "version": "3.7.12"
  }
 },
 "nbformat": 4,
 "nbformat_minor": 5
}
