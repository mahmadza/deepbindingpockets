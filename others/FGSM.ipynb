{
 "cells": [
  {
   "cell_type": "markdown",
   "id": "fd4af3cd",
   "metadata": {},
   "source": [
    "### Fast Gradient Sign Method"
   ]
  },
  {
   "cell_type": "code",
   "execution_count": 1,
   "id": "6990081c",
   "metadata": {},
   "outputs": [],
   "source": [
    "# from website\n",
    "# https://analyticsindiamag.com/how-to-confuse-a-neural-network-using-fast-gradient-sign-method/\n"
   ]
  },
  {
   "cell_type": "code",
   "execution_count": 2,
   "id": "5363af68",
   "metadata": {},
   "outputs": [
    {
     "name": "stderr",
     "output_type": "stream",
     "text": [
      "//anaconda3/envs/deeplearning_2021/lib/python3.7/importlib/_bootstrap.py:219: RuntimeWarning: numpy.ndarray size changed, may indicate binary incompatibility. Expected 88, got 80\n",
      "  return f(*args, **kwds)\n"
     ]
    }
   ],
   "source": [
    "import tensorflow as tf\n",
    "import matplotlib.pyplot as plt\n",
    "import matplotlib as mpl\n",
    "\n",
    "# set figure size\n",
    "mpl.rcParams['figure.figsize'] = (7,7)"
   ]
  },
  {
   "cell_type": "code",
   "execution_count": null,
   "id": "ea116646",
   "metadata": {},
   "outputs": [],
   "source": []
  }
 ],
 "metadata": {
  "kernelspec": {
   "display_name": "Python 3",
   "language": "python",
   "name": "python3"
  },
  "language_info": {
   "codemirror_mode": {
    "name": "ipython",
    "version": 3
   },
   "file_extension": ".py",
   "mimetype": "text/x-python",
   "name": "python",
   "nbconvert_exporter": "python",
   "pygments_lexer": "ipython3",
   "version": "3.7.7"
  }
 },
 "nbformat": 4,
 "nbformat_minor": 5
}
