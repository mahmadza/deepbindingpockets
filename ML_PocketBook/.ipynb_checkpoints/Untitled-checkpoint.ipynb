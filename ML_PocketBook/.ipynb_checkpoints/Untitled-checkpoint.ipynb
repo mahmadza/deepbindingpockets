{
 "cells": [
  {
   "cell_type": "code",
   "execution_count": 7,
   "metadata": {},
   "outputs": [],
   "source": [
    "import matplotlib.pyplot as plt\n",
    "import pandas as pd\n",
    "from sklearn import (ensemble, preprocessing, tree,)\n",
    "from sklearn.metrics import (auc, confusion_matrix, roc_auc_score, roc_curve,)\n",
    "from sklearn.model_selection import (train_test_split, StratifiedKFold,)\n",
    "from yellowbrick.classifier import (ConfusionMatrix, ROCAUC,)\n",
    "from yellowbrick.model_selection import (LearningCurve,)"
   ]
  },
  {
   "cell_type": "code",
   "execution_count": null,
   "metadata": {},
   "outputs": [],
   "source": []
  }
 ],
 "metadata": {
  "kernelspec": {
   "display_name": "Python 3",
   "language": "python",
   "name": "python3"
  },
  "language_info": {
   "codemirror_mode": {
    "name": "ipython",
    "version": 3
   },
   "file_extension": ".py",
   "mimetype": "text/x-python",
   "name": "python",
   "nbconvert_exporter": "python",
   "pygments_lexer": "ipython3",
   "version": "3.6.10"
  }
 },
 "nbformat": 4,
 "nbformat_minor": 4
}
