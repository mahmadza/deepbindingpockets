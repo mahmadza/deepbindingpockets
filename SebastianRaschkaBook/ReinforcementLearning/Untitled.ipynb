{
 "cells": [
  {
   "cell_type": "code",
   "execution_count": 8,
   "id": "88363fdd",
   "metadata": {},
   "outputs": [],
   "source": [
    "import gym\n",
    "env = gym.make('CartPole-v1')"
   ]
  },
  {
   "cell_type": "code",
   "execution_count": 7,
   "id": "870d902a",
   "metadata": {},
   "outputs": [
    {
     "name": "stdout",
     "output_type": "stream",
     "text": [
      "Collecting package metadata (current_repodata.json): done\n",
      "Solving environment: done\n",
      "\n",
      "\n",
      "==> WARNING: A newer version of conda exists. <==\n",
      "  current version: 4.8.4\n",
      "  latest version: 4.10.3\n",
      "\n",
      "Please update conda by running\n",
      "\n",
      "    $ conda update -n base -c defaults conda\n",
      "\n",
      "\n",
      "\n",
      "## Package Plan ##\n",
      "\n",
      "  environment location: //anaconda3/envs/ML_2020\n",
      "\n",
      "  added / updated specs:\n",
      "    - gym\n",
      "\n",
      "\n",
      "The following packages will be downloaded:\n",
      "\n",
      "    package                    |            build\n",
      "    ---------------------------|-----------------\n",
      "    ca-certificates-2021.5.30  |       h033912b_0         136 KB  conda-forge\n",
      "    certifi-2021.5.30          |   py36h79c6626_0         141 KB  conda-forge\n",
      "    cloudpickle-1.6.0          |             py_0          22 KB  conda-forge\n",
      "    ffmpeg-4.3.1               |       he496704_1        49.4 MB  conda-forge\n",
      "    gmp-6.2.1                  |       h2e338ed_0         774 KB  conda-forge\n",
      "    gnutls-3.6.13              |       hc269f14_0         2.1 MB  conda-forge\n",
      "    gym-0.18.0                 |   py36h495a4c6_1         1.9 MB  conda-forge\n",
      "    lame-3.100                 |    h35c211d_1001         521 KB  conda-forge\n",
      "    nettle-3.4.1               |    h3efe00b_1002         1.0 MB  conda-forge\n",
      "    openh264-2.1.1             |       hd174df1_0         1.5 MB  conda-forge\n",
      "    pip-21.1.3                 |     pyhd8ed1ab_0         1.1 MB  conda-forge\n",
      "    pyglet-1.5.16              |   py36h79c6626_0         1.5 MB  conda-forge\n",
      "    x264-1!152.20180806        |       h1de35cc_0         1.5 MB  conda-forge\n",
      "    ------------------------------------------------------------\n",
      "                                           Total:        61.5 MB\n",
      "\n",
      "The following NEW packages will be INSTALLED:\n",
      "\n",
      "  cloudpickle        conda-forge/noarch::cloudpickle-1.6.0-py_0\n",
      "  ffmpeg             conda-forge/osx-64::ffmpeg-4.3.1-he496704_1\n",
      "  gmp                conda-forge/osx-64::gmp-6.2.1-h2e338ed_0\n",
      "  gnutls             conda-forge/osx-64::gnutls-3.6.13-hc269f14_0\n",
      "  gym                conda-forge/osx-64::gym-0.18.0-py36h495a4c6_1\n",
      "  lame               conda-forge/osx-64::lame-3.100-h35c211d_1001\n",
      "  nettle             conda-forge/osx-64::nettle-3.4.1-h3efe00b_1002\n",
      "  openh264           conda-forge/osx-64::openh264-2.1.1-hd174df1_0\n",
      "  pip                conda-forge/noarch::pip-21.1.3-pyhd8ed1ab_0\n",
      "  pyglet             conda-forge/osx-64::pyglet-1.5.16-py36h79c6626_0\n",
      "  x264               conda-forge/osx-64::x264-1!152.20180806-h1de35cc_0\n",
      "\n",
      "The following packages will be UPDATED:\n",
      "\n",
      "  ca-certificates    anaconda::ca-certificates-2020.10.14-0 --> conda-forge::ca-certificates-2021.5.30-h033912b_0\n",
      "  certifi                anaconda::certifi-2020.6.20-py36_0 --> conda-forge::certifi-2021.5.30-py36h79c6626_0\n",
      "\n",
      "The following packages will be SUPERSEDED by a higher-priority channel:\n",
      "\n",
      "  openssl              pkgs/main::openssl-1.1.1k-h9ed2024_0 --> conda-forge::openssl-1.1.1k-h0d85af4_0\n",
      "\n",
      "\n",
      "\n",
      "Downloading and Extracting Packages\n",
      "x264-1!152.20180806  | 1.5 MB    | ##################################### | 100% \n",
      "certifi-2021.5.30    | 141 KB    | ##################################### | 100% \n",
      "pyglet-1.5.16        | 1.5 MB    | ##################################### | 100% \n",
      "gym-0.18.0           | 1.9 MB    | ##################################### | 100% \n",
      "ffmpeg-4.3.1         | 49.4 MB   | ##################################### | 100% \n",
      "openh264-2.1.1       | 1.5 MB    | ##################################### | 100% \n",
      "pip-21.1.3           | 1.1 MB    | ##################################### | 100% \n",
      "lame-3.100           | 521 KB    | ##################################### | 100% \n",
      "gnutls-3.6.13        | 2.1 MB    | ##################################### | 100% \n",
      "ca-certificates-2021 | 136 KB    | ##################################### | 100% \n",
      "nettle-3.4.1         | 1.0 MB    | ##################################### | 100% \n",
      "cloudpickle-1.6.0    | 22 KB     | ##################################### | 100% \n",
      "gmp-6.2.1            | 774 KB    | ##################################### | 100% \n",
      "Preparing transaction: done\n",
      "Verifying transaction: done\n",
      "Executing transaction: done\n"
     ]
    }
   ],
   "source": [
    "!conda install -c conda-forge gym -y"
   ]
  },
  {
   "cell_type": "code",
   "execution_count": null,
   "id": "a47c0b96",
   "metadata": {},
   "outputs": [],
   "source": []
  }
 ],
 "metadata": {
  "kernelspec": {
   "display_name": "Python 3",
   "language": "python",
   "name": "python3"
  },
  "language_info": {
   "codemirror_mode": {
    "name": "ipython",
    "version": 3
   },
   "file_extension": ".py",
   "mimetype": "text/x-python",
   "name": "python",
   "nbconvert_exporter": "python",
   "pygments_lexer": "ipython3",
   "version": "3.6.13"
  }
 },
 "nbformat": 4,
 "nbformat_minor": 5
}
