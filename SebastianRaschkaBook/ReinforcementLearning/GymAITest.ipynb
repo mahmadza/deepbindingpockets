{
 "cells": [
  {
   "cell_type": "code",
   "execution_count": 1,
   "id": "d89697d3",
   "metadata": {},
   "outputs": [],
   "source": [
    "import gym\n",
    "# create environment for the CartPole problem\n",
    "env = gym.make('CartPole-v1')"
   ]
  },
  {
   "cell_type": "code",
   "execution_count": 2,
   "id": "d2df1e13",
   "metadata": {},
   "outputs": [
    {
     "data": {
      "text/plain": [
       "Box(-3.4028234663852886e+38, 3.4028234663852886e+38, (4,), float32)"
      ]
     },
     "execution_count": 2,
     "metadata": {},
     "output_type": "execute_result"
    }
   ],
   "source": [
    "# show observational space\n",
    "env.observation_space"
   ]
  },
  {
   "cell_type": "code",
   "execution_count": 3,
   "id": "bf3a6177",
   "metadata": {},
   "outputs": [
    {
     "data": {
      "text/plain": [
       "Discrete(2)"
      ]
     },
     "execution_count": 3,
     "metadata": {},
     "output_type": "execute_result"
    }
   ],
   "source": [
    "# show action space\n",
    "env.action_space\n",
    "# 2 choices: push cart to left or right"
   ]
  },
  {
   "cell_type": "code",
   "execution_count": 4,
   "id": "f2fa969f",
   "metadata": {},
   "outputs": [
    {
     "data": {
      "text/plain": [
       "array([ 0.0421841 , -0.04716399, -0.0224656 ,  0.00336978])"
      ]
     },
     "execution_count": 4,
     "metadata": {},
     "output_type": "execute_result"
    }
   ],
   "source": [
    "# to reset environment\n",
    "env.reset()\n",
    "# shows initial position, velocity, angle of the pole\n",
    "# and angular velocity of the tip"
   ]
  },
  {
   "cell_type": "code",
   "execution_count": 5,
   "id": "aad49628",
   "metadata": {},
   "outputs": [
    {
     "data": {
      "text/plain": [
       "(array([ 0.04124082, -0.24195667, -0.0223982 ,  0.28888074]), 1.0, False, {})"
      ]
     },
     "execution_count": 5,
     "metadata": {},
     "output_type": "execute_result"
    }
   ],
   "source": [
    "# push cart to the left\n",
    "env.step(action = 0)"
   ]
  },
  {
   "cell_type": "code",
   "execution_count": 6,
   "id": "2947a322",
   "metadata": {},
   "outputs": [
    {
     "data": {
      "text/plain": [
       "(array([ 0.03640169, -0.0465226 , -0.01662058, -0.01078136]), 1.0, False, {})"
      ]
     },
     "execution_count": 6,
     "metadata": {},
     "output_type": "execute_result"
    }
   ],
   "source": [
    "# push cart to the right\n",
    "env.step(action = 1)"
   ]
  },
  {
   "cell_type": "code",
   "execution_count": 7,
   "id": "0688616f",
   "metadata": {},
   "outputs": [
    {
     "data": {
      "text/plain": [
       "True"
      ]
     },
     "execution_count": 7,
     "metadata": {},
     "output_type": "execute_result"
    }
   ],
   "source": [
    "env.render()"
   ]
  },
  {
   "cell_type": "code",
   "execution_count": 8,
   "id": "2a60c542",
   "metadata": {},
   "outputs": [
    {
     "name": "stdout",
     "output_type": "stream",
     "text": [
      "GymAITest.ipynb  gridworld_env.py\r\n"
     ]
    }
   ],
   "source": [
    "!ls"
   ]
  },
  {
   "cell_type": "code",
   "execution_count": 17,
   "id": "6ea657a6",
   "metadata": {},
   "outputs": [
    {
     "name": "stdout",
     "output_type": "stream",
     "text": [
      "[16, 22, 15, 10]\n",
      "Action  6 2   ->  (6, 0.0, False, {'prob': 1.0})\n",
      "Action  0 0   ->  (0, 0.0, False, {'prob': 1.0})\n",
      "Action  1 1   ->  (1, 0.0, False, {'prob': 1.0})\n",
      "Action  2 1   ->  (2, 0.0, False, {'prob': 1.0})\n",
      "Action  8 2   ->  (8, 0.0, False, {'prob': 1.0})\n",
      "Action  9 1   ->  (9, 0.0, False, {'prob': 1.0})\n",
      "Action  15 2   ->  (15, -1.0, False, {'prob': 1.0})\n",
      "Action  15 1   ->  (15, 1.0, True, {'prob': 1.0})\n"
     ]
    }
   ],
   "source": [
    "!python gridworld_env.py"
   ]
  },
  {
   "cell_type": "code",
   "execution_count": 8,
   "id": "26bd13a7",
   "metadata": {},
   "outputs": [
    {
     "name": "stdout",
     "output_type": "stream",
     "text": [
      "[16, 22, 15, 10]\n",
      "Episode 0: Reward -1.0 #Moves 10\n",
      "Episode 1: Reward -1.0 #Moves 40\n",
      "Episode 2: Reward -1.0 #Moves 28\n",
      "Episode 3: Reward -1.0 #Moves 21\n",
      "Episode 4: Reward -1.0 #Moves 20\n",
      "Episode 5: Reward -1.0 #Moves 22\n",
      "Episode 6: Reward -1.0 #Moves 39\n",
      "Episode 7: Reward 1.0 #Moves 42\n",
      "Episode 8: Reward -1.0 #Moves 145\n",
      "Episode 9: Reward -1.0 #Moves 47\n",
      "Episode 10: Reward -1.0 #Moves 9\n",
      "Episode 11: Reward -1.0 #Moves 133\n",
      "Episode 12: Reward 1.0 #Moves 45\n",
      "Episode 13: Reward 1.0 #Moves 264\n",
      "Episode 14: Reward -1.0 #Moves 47\n",
      "Episode 15: Reward 1.0 #Moves 32\n",
      "Episode 16: Reward -1.0 #Moves 321\n",
      "Episode 17: Reward 1.0 #Moves 18\n",
      "Episode 18: Reward 1.0 #Moves 24\n",
      "Episode 19: Reward 1.0 #Moves 50\n",
      "Episode 20: Reward 1.0 #Moves 91\n",
      "Episode 21: Reward 1.0 #Moves 17\n",
      "Episode 22: Reward 1.0 #Moves 51\n",
      "Episode 23: Reward 1.0 #Moves 14\n",
      "Episode 24: Reward 1.0 #Moves 20\n",
      "Episode 25: Reward 1.0 #Moves 13\n",
      "Episode 26: Reward 1.0 #Moves 11\n",
      "Episode 27: Reward 1.0 #Moves 11\n",
      "Episode 28: Reward 1.0 #Moves 11\n",
      "Episode 29: Reward 1.0 #Moves 23\n",
      "Episode 30: Reward 1.0 #Moves 13\n",
      "Episode 31: Reward -1.0 #Moves 8\n",
      "Episode 32: Reward 1.0 #Moves 11\n",
      "Episode 33: Reward 1.0 #Moves 26\n",
      "Episode 34: Reward 1.0 #Moves 14\n",
      "Episode 35: Reward 1.0 #Moves 15\n",
      "Episode 36: Reward 1.0 #Moves 13\n",
      "Episode 37: Reward 1.0 #Moves 14\n",
      "Episode 38: Reward 1.0 #Moves 11\n",
      "Episode 39: Reward 1.0 #Moves 11\n",
      "Episode 40: Reward 1.0 #Moves 12\n",
      "Episode 41: Reward 1.0 #Moves 11\n",
      "Episode 42: Reward -1.0 #Moves 6\n",
      "Episode 43: Reward 1.0 #Moves 11\n",
      "Episode 44: Reward 1.0 #Moves 13\n",
      "Episode 45: Reward 1.0 #Moves 13\n",
      "Episode 46: Reward 1.0 #Moves 11\n",
      "Episode 47: Reward 1.0 #Moves 11\n",
      "Episode 48: Reward 1.0 #Moves 11\n",
      "Episode 49: Reward 1.0 #Moves 11\n",
      "Traceback (most recent call last):\n",
      "  File \"qlearning.py\", line 67, in <module>\n",
      "    plot_learning_history(history)\n",
      "  File \"qlearning.py\", line 47, in plot_learning_history\n",
      "    plt.plot(episodes, moves, lw=4, marker=\"o\", markersize=10)\n",
      "  File \"//anaconda3/envs/ML_2020/lib/python3.6/site-packages/matplotlib/pyplot.py\", line 2842, in plot\n",
      "    **({\"data\": data} if data is not None else {}), **kwargs)\n",
      "  File \"//anaconda3/envs/ML_2020/lib/python3.6/site-packages/matplotlib/axes/_axes.py\", line 1743, in plot\n",
      "    lines = [*self._get_lines(*args, data=data, **kwargs)]\n",
      "  File \"//anaconda3/envs/ML_2020/lib/python3.6/site-packages/matplotlib/axes/_base.py\", line 273, in __call__\n",
      "    yield from self._plot_args(this, kwargs)\n",
      "  File \"//anaconda3/envs/ML_2020/lib/python3.6/site-packages/matplotlib/axes/_base.py\", line 396, in _plot_args\n",
      "    self.axes.yaxis.update_units(y)\n",
      "  File \"//anaconda3/envs/ML_2020/lib/python3.6/site-packages/matplotlib/axis.py\", line 1460, in update_units\n",
      "    converter = munits.registry.get_converter(data)\n",
      "  File \"//anaconda3/envs/ML_2020/lib/python3.6/site-packages/matplotlib/units.py\", line 217, in get_converter\n",
      "    return self.get_converter(first)\n",
      "  File \"//anaconda3/envs/ML_2020/lib/python3.6/site-packages/matplotlib/units.py\", line 210, in get_converter\n",
      "    first = cbook.safe_first_element(x)\n",
      "  File \"//anaconda3/envs/ML_2020/lib/python3.6/site-packages/matplotlib/cbook/__init__.py\", line 1669, in safe_first_element\n",
      "    raise RuntimeError(\"matplotlib does not support generators \"\n",
      "RuntimeError: matplotlib does not support generators as input\n"
     ]
    }
   ],
   "source": [
    "!python qlearning.py"
   ]
  },
  {
   "cell_type": "code",
   "execution_count": null,
   "id": "be5716e8",
   "metadata": {},
   "outputs": [],
   "source": []
  }
 ],
 "metadata": {
  "kernelspec": {
   "display_name": "Python 3",
   "language": "python",
   "name": "python3"
  },
  "language_info": {
   "codemirror_mode": {
    "name": "ipython",
    "version": 3
   },
   "file_extension": ".py",
   "mimetype": "text/x-python",
   "name": "python",
   "nbconvert_exporter": "python",
   "pygments_lexer": "ipython3",
   "version": "3.6.13"
  }
 },
 "nbformat": 4,
 "nbformat_minor": 5
}
