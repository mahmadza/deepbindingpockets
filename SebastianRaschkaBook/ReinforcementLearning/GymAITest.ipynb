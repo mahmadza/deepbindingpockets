{
 "cells": [
  {
   "cell_type": "code",
   "execution_count": 1,
   "id": "d89697d3",
   "metadata": {},
   "outputs": [],
   "source": [
    "import gym\n",
    "# create environment for the CartPole problem\n",
    "env = gym.make('CartPole-v1')"
   ]
  },
  {
   "cell_type": "code",
   "execution_count": 2,
   "id": "d2df1e13",
   "metadata": {},
   "outputs": [
    {
     "data": {
      "text/plain": [
       "Box(-3.4028234663852886e+38, 3.4028234663852886e+38, (4,), float32)"
      ]
     },
     "execution_count": 2,
     "metadata": {},
     "output_type": "execute_result"
    }
   ],
   "source": [
    "# show observational space\n",
    "env.observation_space"
   ]
  },
  {
   "cell_type": "code",
   "execution_count": 3,
   "id": "bf3a6177",
   "metadata": {},
   "outputs": [
    {
     "data": {
      "text/plain": [
       "Discrete(2)"
      ]
     },
     "execution_count": 3,
     "metadata": {},
     "output_type": "execute_result"
    }
   ],
   "source": [
    "# show action space\n",
    "env.action_space\n",
    "# 2 choices: push cart to left or right"
   ]
  },
  {
   "cell_type": "code",
   "execution_count": 4,
   "id": "f2fa969f",
   "metadata": {},
   "outputs": [
    {
     "data": {
      "text/plain": [
       "array([ 0.0421841 , -0.04716399, -0.0224656 ,  0.00336978])"
      ]
     },
     "execution_count": 4,
     "metadata": {},
     "output_type": "execute_result"
    }
   ],
   "source": [
    "# to reset environment\n",
    "env.reset()\n",
    "# shows initial position, velocity, angle of the pole\n",
    "# and angular velocity of the tip"
   ]
  },
  {
   "cell_type": "code",
   "execution_count": 5,
   "id": "aad49628",
   "metadata": {},
   "outputs": [
    {
     "data": {
      "text/plain": [
       "(array([ 0.04124082, -0.24195667, -0.0223982 ,  0.28888074]), 1.0, False, {})"
      ]
     },
     "execution_count": 5,
     "metadata": {},
     "output_type": "execute_result"
    }
   ],
   "source": [
    "# push cart to the left\n",
    "env.step(action = 0)"
   ]
  },
  {
   "cell_type": "code",
   "execution_count": 6,
   "id": "2947a322",
   "metadata": {},
   "outputs": [
    {
     "data": {
      "text/plain": [
       "(array([ 0.03640169, -0.0465226 , -0.01662058, -0.01078136]), 1.0, False, {})"
      ]
     },
     "execution_count": 6,
     "metadata": {},
     "output_type": "execute_result"
    }
   ],
   "source": [
    "# push cart to the right\n",
    "env.step(action = 1)"
   ]
  },
  {
   "cell_type": "code",
   "execution_count": 7,
   "id": "0688616f",
   "metadata": {},
   "outputs": [
    {
     "data": {
      "text/plain": [
       "True"
      ]
     },
     "execution_count": 7,
     "metadata": {},
     "output_type": "execute_result"
    }
   ],
   "source": [
    "env.render()"
   ]
  },
  {
   "cell_type": "code",
   "execution_count": 8,
   "id": "2a60c542",
   "metadata": {},
   "outputs": [
    {
     "name": "stdout",
     "output_type": "stream",
     "text": [
      "GymAITest.ipynb  gridworld_env.py\r\n"
     ]
    }
   ],
   "source": [
    "!ls"
   ]
  },
  {
   "cell_type": "code",
   "execution_count": 17,
   "id": "6ea657a6",
   "metadata": {},
   "outputs": [
    {
     "name": "stdout",
     "output_type": "stream",
     "text": [
      "[16, 22, 15, 10]\n",
      "Action  6 2   ->  (6, 0.0, False, {'prob': 1.0})\n",
      "Action  0 0   ->  (0, 0.0, False, {'prob': 1.0})\n",
      "Action  1 1   ->  (1, 0.0, False, {'prob': 1.0})\n",
      "Action  2 1   ->  (2, 0.0, False, {'prob': 1.0})\n",
      "Action  8 2   ->  (8, 0.0, False, {'prob': 1.0})\n",
      "Action  9 1   ->  (9, 0.0, False, {'prob': 1.0})\n",
      "Action  15 2   ->  (15, -1.0, False, {'prob': 1.0})\n",
      "Action  15 1   ->  (15, 1.0, True, {'prob': 1.0})\n"
     ]
    }
   ],
   "source": [
    "!python gridworld_env.py"
   ]
  },
  {
   "cell_type": "code",
   "execution_count": 5,
   "id": "26bd13a7",
   "metadata": {},
   "outputs": [
    {
     "name": "stdout",
     "output_type": "stream",
     "text": [
      "[16, 22, 15, 10]\n",
      "Traceback (most recent call last):\n",
      "  File \"qlearning.py\", line 63, in <module>\n",
      "    agent = Agent(env)\n",
      "  File \"/Users/zabidi/Documents/GitHub/gradatim_ferociter/SebastianRaschkaBook/ReinforcementLearning/agent.py\", line 20, in __init__\n",
      "    self.lr = lr\n",
      "NameError: name 'lr' is not defined\n"
     ]
    }
   ],
   "source": [
    "!python qlearning.py"
   ]
  },
  {
   "cell_type": "code",
   "execution_count": null,
   "id": "2e9b8486",
   "metadata": {},
   "outputs": [],
   "source": []
  }
 ],
 "metadata": {
  "kernelspec": {
   "display_name": "Python 3",
   "language": "python",
   "name": "python3"
  },
  "language_info": {
   "codemirror_mode": {
    "name": "ipython",
    "version": 3
   },
   "file_extension": ".py",
   "mimetype": "text/x-python",
   "name": "python",
   "nbconvert_exporter": "python",
   "pygments_lexer": "ipython3",
   "version": "3.6.13"
  }
 },
 "nbformat": 4,
 "nbformat_minor": 5
}
