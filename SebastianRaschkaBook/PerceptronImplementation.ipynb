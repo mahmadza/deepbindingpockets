{
 "cells": [
  {
   "cell_type": "code",
   "execution_count": 3,
   "metadata": {},
   "outputs": [],
   "source": [
    "import numpy as np\n",
    "\n",
    "class Perceptron(object):\n",
    "    \"\"\"\n",
    "    Perceptrion clasifier.\n",
    "    \n",
    "    Parameters\n",
    "    eta: float\n",
    "        Learning rate, between 0.0 to 1.0\n",
    "    n_inter: int\n",
    "        Iterations over the training data set\n",
    "    random_state: int\n",
    "        Random num generator seed for random weight initialization\n",
    "    \n",
    "    Attributes\n",
    "    w_: 1d-array\n",
    "        Weights after fitting.\n",
    "    errors_ : list\n",
    "        Numbers of updates in every epoch\n",
    "    \"\"\"\n",
    "    \n",
    "    def __int__(self, eta = 0.01, n_iter = 50, random_state = 1):\n",
    "        self.eta = eta\n",
    "        self.n_iter = n_iter\n",
    "        self.random_state = random_state\n",
    "    \n",
    "    def fit(self, X, y):\n",
    "        \"\"\"\n",
    "        Fit training data.\n",
    "        \n",
    "        Parameters\n",
    "        X: array-like, shape: n_samples, n_features\n",
    "            Training vectors.\n",
    "        y: array-like, shape: n_samples\n",
    "            Target values.\n",
    "            \n",
    "        Returns\n",
    "        self: object\n",
    "        \"\"\"\n",
    "        \n",
    "        #generate random numbers\n",
    "        rgen = np.random.RandomState(self.random_state)\n",
    "        #draw from a normal distribution with stdev = 0.01\n",
    "        #normal distribution and stdev = 0.01 are chosen arbitrarily\n",
    "        self.w_ = rgen.normal(loc = 0.0, scale = 0.01, size = 1 + X.shape[1])\n",
    "        self.errors = []\n",
    "        \n",
    "        for _ in range(self.n_iter):\n",
    "            errors = 0\n",
    "            for xi, target in zip(X,y):\n",
    "                update = self.eta * (target - self.predict(xi))\n",
    "                self.w_[1:] += update * xi\n",
    "                self.w_[0] += update       #the first element, the bias unit\n",
    "                errors += int(update != 0.0)\n",
    "            self-errors_.append(errors)\n",
    "        return self\n",
    "    \n",
    "    def net_input(self, X):\n",
    "        \"\"\"Calculate net input\"\"\"\n",
    "        return np.dot(X, self.w_[1:]) + self.w_[0]\n",
    "    \n",
    "    def predict(self, X):\n",
    "        \"\"\"Return class label after unit step\"\"\"\n",
    "        return np.where(self.net_input(X) >= 0.0, 1, -1)"
   ]
  },
  {
   "cell_type": "code",
   "execution_count": 8,
   "metadata": {},
   "outputs": [
    {
     "data": {
      "text/plain": [
       "0.0"
      ]
     },
     "execution_count": 8,
     "metadata": {},
     "output_type": "execute_result"
    }
   ],
   "source": [
    "v1 = np.array([1, 2, 3])\n",
    "v2 = 0.5 * v1\n",
    "np.arccos(v1.dot(v2) / (np.linalg.norm(v1) * np.linalg.norm(v2)))"
   ]
  },
  {
   "cell_type": "code",
   "execution_count": null,
   "metadata": {},
   "outputs": [],
   "source": []
  }
 ],
 "metadata": {
  "kernelspec": {
   "display_name": "Python 3",
   "language": "python",
   "name": "python3"
  },
  "language_info": {
   "codemirror_mode": {
    "name": "ipython",
    "version": 3
   },
   "file_extension": ".py",
   "mimetype": "text/x-python",
   "name": "python",
   "nbconvert_exporter": "python",
   "pygments_lexer": "ipython3",
   "version": "3.7.3"
  }
 },
 "nbformat": 4,
 "nbformat_minor": 4
}
