{
 "cells": [
  {
   "cell_type": "code",
   "execution_count": null,
   "metadata": {},
   "outputs": [],
   "source": [
    "import numpy as np\n",
    "\n",
    "class Perceptron(object):\n",
    "    \"\"\"Perceptrion clasifier.\n",
    "    \n",
    "    Parameters\n",
    "    eta: float\n",
    "        Learning rate, between 0.0 to 1.0\n",
    "    n_inter: int\n",
    "        iterations over the training data set\n",
    "    random_state: int\n",
    "        random num generator seed for random weight initialization\n",
    "    \n",
    "    Attributes\n",
    "    w_: 1d-array\n",
    "        Weights after fitting.\n",
    "    errors_ : list\n",
    "        Numbers of updates in every epoch\n",
    "    \"\"\""
   ]
  }
 ],
 "metadata": {
  "kernelspec": {
   "display_name": "Python 3",
   "language": "python",
   "name": "python3"
  },
  "language_info": {
   "codemirror_mode": {
    "name": "ipython",
    "version": 3
   },
   "file_extension": ".py",
   "mimetype": "text/x-python",
   "name": "python",
   "nbconvert_exporter": "python",
   "pygments_lexer": "ipython3",
   "version": "3.7.3"
  }
 },
 "nbformat": 4,
 "nbformat_minor": 4
}
