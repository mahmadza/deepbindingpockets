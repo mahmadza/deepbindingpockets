{
 "cells": [
  {
   "cell_type": "code",
   "execution_count": null,
   "metadata": {},
   "outputs": [],
   "source": [
    "import numpy as np\n",
    "\n",
    "class Perceptron(object):\n",
    "    \"\"\"\n",
    "    Perceptrion clasifier.\n",
    "    \n",
    "    Parameters\n",
    "    eta: float\n",
    "        Learning rate, between 0.0 to 1.0\n",
    "    n_inter: int\n",
    "        Iterations over the training data set\n",
    "    random_state: int\n",
    "        Random num generator seed for random weight initialization\n",
    "    \n",
    "    Attributes\n",
    "    w_: 1d-array\n",
    "        Weights after fitting.\n",
    "    errors_ : list\n",
    "        Numbers of updates in every epoch\n",
    "    \"\"\"\n",
    "    \n",
    "    def __int__(self, eta = 0.01, n_iter = 50, random_state = 1):\n",
    "        self.eta = eta\n",
    "        self.n_iter = n_iter\n",
    "        self.random_state = random_state\n",
    "    \n",
    "    def fit(self, X, y):\n",
    "        \"\"\"\n",
    "        Fit training data.\n",
    "        \n",
    "        Parameters\n",
    "        X: array-like, shape: n_samples, n_features\n",
    "            Training vectors.\n",
    "        y: array-like, shape: n_samples\n",
    "            Target values.\n",
    "        \"\"\""
   ]
  }
 ],
 "metadata": {
  "kernelspec": {
   "display_name": "Python 3",
   "language": "python",
   "name": "python3"
  },
  "language_info": {
   "codemirror_mode": {
    "name": "ipython",
    "version": 3
   },
   "file_extension": ".py",
   "mimetype": "text/x-python",
   "name": "python",
   "nbconvert_exporter": "python",
   "pygments_lexer": "ipython3",
   "version": "3.7.3"
  }
 },
 "nbformat": 4,
 "nbformat_minor": 4
}
