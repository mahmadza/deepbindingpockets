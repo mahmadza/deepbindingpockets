{
 "cells": [
  {
   "cell_type": "markdown",
   "id": "headed-damages",
   "metadata": {},
   "source": [
    "### Explore tensorflow_datasets library"
   ]
  },
  {
   "cell_type": "code",
   "execution_count": 5,
   "id": "informed-yacht",
   "metadata": {},
   "outputs": [],
   "source": [
    "import tensorflow_datasets as tfds\n",
    "import tensorflow as tf"
   ]
  },
  {
   "cell_type": "code",
   "execution_count": 6,
   "id": "gentle-finger",
   "metadata": {},
   "outputs": [
    {
     "name": "stdout",
     "output_type": "stream",
     "text": [
      "246\n"
     ]
    }
   ],
   "source": [
    "print(len(tfds.list_builders()))"
   ]
  },
  {
   "cell_type": "code",
   "execution_count": 7,
   "id": "fallen-concept",
   "metadata": {},
   "outputs": [
    {
     "name": "stdout",
     "output_type": "stream",
     "text": [
      "['abstract_reasoning', 'accentdb', 'aeslc', 'aflw2k3d', 'ag_news_subset']\n"
     ]
    }
   ],
   "source": [
    "print(tfds.list_builders()[:5])"
   ]
  },
  {
   "cell_type": "code",
   "execution_count": 8,
   "id": "usual-edmonton",
   "metadata": {},
   "outputs": [],
   "source": [
    "celeba_bldr = tfds.builder('celeb_a')"
   ]
  },
  {
   "cell_type": "code",
   "execution_count": 9,
   "id": "aquatic-chicken",
   "metadata": {},
   "outputs": [
    {
     "name": "stdout",
     "output_type": "stream",
     "text": [
      "FeaturesDict({\n",
      "    'attributes': FeaturesDict({\n",
      "        '5_o_Clock_Shadow': tf.bool,\n",
      "        'Arched_Eyebrows': tf.bool,\n",
      "        'Attractive': tf.bool,\n",
      "        'Bags_Under_Eyes': tf.bool,\n",
      "        'Bald': tf.bool,\n",
      "        'Bangs': tf.bool,\n",
      "        'Big_Lips': tf.bool,\n",
      "        'Big_Nose': tf.bool,\n",
      "        'Black_Hair': tf.bool,\n",
      "        'Blond_Hair': tf.bool,\n",
      "        'Blurry': tf.bool,\n",
      "        'Brown_Hair': tf.bool,\n",
      "        'Bushy_Eyebrows': tf.bool,\n",
      "        'Chubby': tf.bool,\n",
      "        'Double_Chin': tf.bool,\n",
      "        'Eyeglasses': tf.bool,\n",
      "        'Goatee': tf.bool,\n",
      "        'Gray_Hair': tf.bool,\n",
      "        'Heavy_Makeup': tf.bool,\n",
      "        'High_Cheekbones': tf.bool,\n",
      "        'Male': tf.bool,\n",
      "        'Mouth_Slightly_Open': tf.bool,\n",
      "        'Mustache': tf.bool,\n",
      "        'Narrow_Eyes': tf.bool,\n",
      "        'No_Beard': tf.bool,\n",
      "        'Oval_Face': tf.bool,\n",
      "        'Pale_Skin': tf.bool,\n",
      "        'Pointy_Nose': tf.bool,\n",
      "        'Receding_Hairline': tf.bool,\n",
      "        'Rosy_Cheeks': tf.bool,\n",
      "        'Sideburns': tf.bool,\n",
      "        'Smiling': tf.bool,\n",
      "        'Straight_Hair': tf.bool,\n",
      "        'Wavy_Hair': tf.bool,\n",
      "        'Wearing_Earrings': tf.bool,\n",
      "        'Wearing_Hat': tf.bool,\n",
      "        'Wearing_Lipstick': tf.bool,\n",
      "        'Wearing_Necklace': tf.bool,\n",
      "        'Wearing_Necktie': tf.bool,\n",
      "        'Young': tf.bool,\n",
      "    }),\n",
      "    'image': Image(shape=(218, 178, 3), dtype=tf.uint8),\n",
      "    'landmarks': FeaturesDict({\n",
      "        'lefteye_x': tf.int64,\n",
      "        'lefteye_y': tf.int64,\n",
      "        'leftmouth_x': tf.int64,\n",
      "        'leftmouth_y': tf.int64,\n",
      "        'nose_x': tf.int64,\n",
      "        'nose_y': tf.int64,\n",
      "        'righteye_x': tf.int64,\n",
      "        'righteye_y': tf.int64,\n",
      "        'rightmouth_x': tf.int64,\n",
      "        'rightmouth_y': tf.int64,\n",
      "    }),\n",
      "})\n"
     ]
    }
   ],
   "source": [
    "print(celeba_bldr.info.features)"
   ]
  },
  {
   "cell_type": "code",
   "execution_count": 10,
   "id": "damaged-planet",
   "metadata": {},
   "outputs": [
    {
     "name": "stdout",
     "output_type": "stream",
     "text": [
      "Image(shape=(218, 178, 3), dtype=tf.uint8)\n"
     ]
    }
   ],
   "source": [
    "print(celeba_bldr.info.features['image'])"
   ]
  },
  {
   "cell_type": "code",
   "execution_count": 11,
   "id": "vocational-consultancy",
   "metadata": {},
   "outputs": [
    {
     "name": "stdout",
     "output_type": "stream",
     "text": [
      "dict_keys(['5_o_Clock_Shadow', 'Arched_Eyebrows', 'Attractive', 'Bags_Under_Eyes', 'Bald', 'Bangs', 'Big_Lips', 'Big_Nose', 'Black_Hair', 'Blond_Hair', 'Blurry', 'Brown_Hair', 'Bushy_Eyebrows', 'Chubby', 'Double_Chin', 'Eyeglasses', 'Goatee', 'Gray_Hair', 'Heavy_Makeup', 'High_Cheekbones', 'Male', 'Mouth_Slightly_Open', 'Mustache', 'Narrow_Eyes', 'No_Beard', 'Oval_Face', 'Pale_Skin', 'Pointy_Nose', 'Receding_Hairline', 'Rosy_Cheeks', 'Sideburns', 'Smiling', 'Straight_Hair', 'Wavy_Hair', 'Wearing_Earrings', 'Wearing_Hat', 'Wearing_Lipstick', 'Wearing_Necklace', 'Wearing_Necktie', 'Young'])\n"
     ]
    }
   ],
   "source": [
    "print(celeba_bldr.info.features['attributes'].keys())"
   ]
  },
  {
   "cell_type": "code",
   "execution_count": 12,
   "id": "common-registration",
   "metadata": {},
   "outputs": [
    {
     "name": "stdout",
     "output_type": "stream",
     "text": [
      "@inproceedings{conf/iccv/LiuLWT15,\n",
      "  added-at = {2018-10-09T00:00:00.000+0200},\n",
      "  author = {Liu, Ziwei and Luo, Ping and Wang, Xiaogang and Tang, Xiaoou},\n",
      "  biburl = {https://www.bibsonomy.org/bibtex/250e4959be61db325d2f02c1d8cd7bfbb/dblp},\n",
      "  booktitle = {ICCV},\n",
      "  crossref = {conf/iccv/2015},\n",
      "  ee = {http://doi.ieeecomputersociety.org/10.1109/ICCV.2015.425},\n",
      "  interhash = {3f735aaa11957e73914bbe2ca9d5e702},\n",
      "  intrahash = {50e4959be61db325d2f02c1d8cd7bfbb},\n",
      "  isbn = {978-1-4673-8391-2},\n",
      "  keywords = {dblp},\n",
      "  pages = {3730-3738},\n",
      "  publisher = {IEEE Computer Society},\n",
      "  timestamp = {2018-10-11T11:43:28.000+0200},\n",
      "  title = {Deep Learning Face Attributes in the Wild.},\n",
      "  url = {http://dblp.uni-trier.de/db/conf/iccv/iccv2015.html#LiuLWT15},\n",
      "  year = 2015\n",
      "}\n"
     ]
    }
   ],
   "source": [
    "print(celeba_bldr.info.citation)"
   ]
  },
  {
   "cell_type": "code",
   "execution_count": null,
   "id": "warming-message",
   "metadata": {},
   "outputs": [],
   "source": []
  },
  {
   "cell_type": "code",
   "execution_count": null,
   "id": "choice-accident",
   "metadata": {},
   "outputs": [],
   "source": []
  },
  {
   "cell_type": "code",
   "execution_count": null,
   "id": "julian-whale",
   "metadata": {},
   "outputs": [],
   "source": []
  },
  {
   "cell_type": "code",
   "execution_count": null,
   "id": "hollow-snowboard",
   "metadata": {},
   "outputs": [],
   "source": []
  },
  {
   "cell_type": "code",
   "execution_count": null,
   "id": "abstract-survey",
   "metadata": {},
   "outputs": [],
   "source": []
  },
  {
   "cell_type": "code",
   "execution_count": null,
   "id": "electrical-reggae",
   "metadata": {},
   "outputs": [],
   "source": []
  },
  {
   "cell_type": "code",
   "execution_count": null,
   "id": "subject-rider",
   "metadata": {},
   "outputs": [],
   "source": []
  },
  {
   "cell_type": "code",
   "execution_count": null,
   "id": "compressed-literacy",
   "metadata": {},
   "outputs": [],
   "source": []
  },
  {
   "cell_type": "code",
   "execution_count": null,
   "id": "rocky-laugh",
   "metadata": {},
   "outputs": [],
   "source": []
  },
  {
   "cell_type": "code",
   "execution_count": null,
   "id": "departmental-ancient",
   "metadata": {},
   "outputs": [],
   "source": []
  },
  {
   "cell_type": "code",
   "execution_count": null,
   "id": "divided-arizona",
   "metadata": {},
   "outputs": [],
   "source": []
  }
 ],
 "metadata": {
  "kernelspec": {
   "display_name": "Python 3",
   "language": "python",
   "name": "python3"
  },
  "language_info": {
   "codemirror_mode": {
    "name": "ipython",
    "version": 3
   },
   "file_extension": ".py",
   "mimetype": "text/x-python",
   "name": "python",
   "nbconvert_exporter": "python",
   "pygments_lexer": "ipython3",
   "version": "3.6.10"
  }
 },
 "nbformat": 4,
 "nbformat_minor": 5
}
