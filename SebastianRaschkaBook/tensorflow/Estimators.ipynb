{
 "cells": [
  {
   "cell_type": "code",
   "execution_count": 1,
   "id": "tracked-correspondence",
   "metadata": {},
   "outputs": [],
   "source": [
    "import tensorflow as tf\n",
    "import numpy as np\n",
    "import matplotlib.pyplot as plt"
   ]
  },
  {
   "cell_type": "code",
   "execution_count": 2,
   "id": "domestic-optimum",
   "metadata": {},
   "outputs": [],
   "source": [
    "import pandas as pd"
   ]
  },
  {
   "cell_type": "code",
   "execution_count": 3,
   "id": "forbidden-triumph",
   "metadata": {},
   "outputs": [],
   "source": [
    "dataset_path = tf.keras.utils.get_file(\"auto-mpg.data\",\n",
    "                                      (\"http://archive.ics.uci.edu/ml/machine-learning\"\n",
    " \"-databases/auto-mpg/auto-mpg.data\"))"
   ]
  },
  {
   "cell_type": "code",
   "execution_count": 4,
   "id": "swiss-dining",
   "metadata": {},
   "outputs": [],
   "source": [
    "column_names = ['MPG', 'Cylinders', 'Displacement',\n",
    "                'Horsepower', 'Weight', 'Acceleration',\n",
    "                'ModelYear', 'Origin']"
   ]
  },
  {
   "cell_type": "code",
   "execution_count": 5,
   "id": "cleared-contract",
   "metadata": {},
   "outputs": [
    {
     "data": {
      "text/html": [
       "<div>\n",
       "<style scoped>\n",
       "    .dataframe tbody tr th:only-of-type {\n",
       "        vertical-align: middle;\n",
       "    }\n",
       "\n",
       "    .dataframe tbody tr th {\n",
       "        vertical-align: top;\n",
       "    }\n",
       "\n",
       "    .dataframe thead th {\n",
       "        text-align: right;\n",
       "    }\n",
       "</style>\n",
       "<table border=\"1\" class=\"dataframe\">\n",
       "  <thead>\n",
       "    <tr style=\"text-align: right;\">\n",
       "      <th></th>\n",
       "      <th>MPG</th>\n",
       "      <th>Cylinders</th>\n",
       "      <th>Displacement</th>\n",
       "      <th>Horsepower</th>\n",
       "      <th>Weight</th>\n",
       "      <th>Acceleration</th>\n",
       "      <th>ModelYear</th>\n",
       "      <th>Origin</th>\n",
       "    </tr>\n",
       "  </thead>\n",
       "  <tbody>\n",
       "    <tr>\n",
       "      <th>0</th>\n",
       "      <td>18.0</td>\n",
       "      <td>8</td>\n",
       "      <td>307.0</td>\n",
       "      <td>130.0</td>\n",
       "      <td>3504.0</td>\n",
       "      <td>12.0</td>\n",
       "      <td>70</td>\n",
       "      <td>1</td>\n",
       "    </tr>\n",
       "    <tr>\n",
       "      <th>1</th>\n",
       "      <td>15.0</td>\n",
       "      <td>8</td>\n",
       "      <td>350.0</td>\n",
       "      <td>165.0</td>\n",
       "      <td>3693.0</td>\n",
       "      <td>11.5</td>\n",
       "      <td>70</td>\n",
       "      <td>1</td>\n",
       "    </tr>\n",
       "    <tr>\n",
       "      <th>2</th>\n",
       "      <td>18.0</td>\n",
       "      <td>8</td>\n",
       "      <td>318.0</td>\n",
       "      <td>150.0</td>\n",
       "      <td>3436.0</td>\n",
       "      <td>11.0</td>\n",
       "      <td>70</td>\n",
       "      <td>1</td>\n",
       "    </tr>\n",
       "    <tr>\n",
       "      <th>3</th>\n",
       "      <td>16.0</td>\n",
       "      <td>8</td>\n",
       "      <td>304.0</td>\n",
       "      <td>150.0</td>\n",
       "      <td>3433.0</td>\n",
       "      <td>12.0</td>\n",
       "      <td>70</td>\n",
       "      <td>1</td>\n",
       "    </tr>\n",
       "    <tr>\n",
       "      <th>4</th>\n",
       "      <td>17.0</td>\n",
       "      <td>8</td>\n",
       "      <td>302.0</td>\n",
       "      <td>140.0</td>\n",
       "      <td>3449.0</td>\n",
       "      <td>10.5</td>\n",
       "      <td>70</td>\n",
       "      <td>1</td>\n",
       "    </tr>\n",
       "  </tbody>\n",
       "</table>\n",
       "</div>"
      ],
      "text/plain": [
       "    MPG  Cylinders  Displacement  Horsepower  Weight  Acceleration  ModelYear  \\\n",
       "0  18.0          8         307.0       130.0  3504.0          12.0         70   \n",
       "1  15.0          8         350.0       165.0  3693.0          11.5         70   \n",
       "2  18.0          8         318.0       150.0  3436.0          11.0         70   \n",
       "3  16.0          8         304.0       150.0  3433.0          12.0         70   \n",
       "4  17.0          8         302.0       140.0  3449.0          10.5         70   \n",
       "\n",
       "   Origin  \n",
       "0       1  \n",
       "1       1  \n",
       "2       1  \n",
       "3       1  \n",
       "4       1  "
      ]
     },
     "execution_count": 5,
     "metadata": {},
     "output_type": "execute_result"
    }
   ],
   "source": [
    "df = pd.read_csv(dataset_path, names=column_names,\n",
    "                 na_values = '?', comment='\\t',\n",
    "                 sep=' ', skipinitialspace=True)\n",
    "df.head()"
   ]
  },
  {
   "cell_type": "code",
   "execution_count": 6,
   "id": "tender-citizenship",
   "metadata": {},
   "outputs": [
    {
     "data": {
      "text/html": [
       "<div>\n",
       "<style scoped>\n",
       "    .dataframe tbody tr th:only-of-type {\n",
       "        vertical-align: middle;\n",
       "    }\n",
       "\n",
       "    .dataframe tbody tr th {\n",
       "        vertical-align: top;\n",
       "    }\n",
       "\n",
       "    .dataframe thead th {\n",
       "        text-align: right;\n",
       "    }\n",
       "</style>\n",
       "<table border=\"1\" class=\"dataframe\">\n",
       "  <thead>\n",
       "    <tr style=\"text-align: right;\">\n",
       "      <th></th>\n",
       "      <th>MPG</th>\n",
       "      <th>Cylinders</th>\n",
       "      <th>Displacement</th>\n",
       "      <th>Horsepower</th>\n",
       "      <th>Weight</th>\n",
       "      <th>Acceleration</th>\n",
       "      <th>ModelYear</th>\n",
       "      <th>Origin</th>\n",
       "    </tr>\n",
       "  </thead>\n",
       "  <tbody>\n",
       "    <tr>\n",
       "      <th>0</th>\n",
       "      <td>18.0</td>\n",
       "      <td>8</td>\n",
       "      <td>307.0</td>\n",
       "      <td>130.0</td>\n",
       "      <td>3504.0</td>\n",
       "      <td>12.0</td>\n",
       "      <td>70</td>\n",
       "      <td>1</td>\n",
       "    </tr>\n",
       "    <tr>\n",
       "      <th>1</th>\n",
       "      <td>15.0</td>\n",
       "      <td>8</td>\n",
       "      <td>350.0</td>\n",
       "      <td>165.0</td>\n",
       "      <td>3693.0</td>\n",
       "      <td>11.5</td>\n",
       "      <td>70</td>\n",
       "      <td>1</td>\n",
       "    </tr>\n",
       "    <tr>\n",
       "      <th>2</th>\n",
       "      <td>18.0</td>\n",
       "      <td>8</td>\n",
       "      <td>318.0</td>\n",
       "      <td>150.0</td>\n",
       "      <td>3436.0</td>\n",
       "      <td>11.0</td>\n",
       "      <td>70</td>\n",
       "      <td>1</td>\n",
       "    </tr>\n",
       "    <tr>\n",
       "      <th>3</th>\n",
       "      <td>16.0</td>\n",
       "      <td>8</td>\n",
       "      <td>304.0</td>\n",
       "      <td>150.0</td>\n",
       "      <td>3433.0</td>\n",
       "      <td>12.0</td>\n",
       "      <td>70</td>\n",
       "      <td>1</td>\n",
       "    </tr>\n",
       "    <tr>\n",
       "      <th>4</th>\n",
       "      <td>17.0</td>\n",
       "      <td>8</td>\n",
       "      <td>302.0</td>\n",
       "      <td>140.0</td>\n",
       "      <td>3449.0</td>\n",
       "      <td>10.5</td>\n",
       "      <td>70</td>\n",
       "      <td>1</td>\n",
       "    </tr>\n",
       "  </tbody>\n",
       "</table>\n",
       "</div>"
      ],
      "text/plain": [
       "    MPG  Cylinders  Displacement  Horsepower  Weight  Acceleration  ModelYear  \\\n",
       "0  18.0          8         307.0       130.0  3504.0          12.0         70   \n",
       "1  15.0          8         350.0       165.0  3693.0          11.5         70   \n",
       "2  18.0          8         318.0       150.0  3436.0          11.0         70   \n",
       "3  16.0          8         304.0       150.0  3433.0          12.0         70   \n",
       "4  17.0          8         302.0       140.0  3449.0          10.5         70   \n",
       "\n",
       "   Origin  \n",
       "0       1  \n",
       "1       1  \n",
       "2       1  \n",
       "3       1  \n",
       "4       1  "
      ]
     },
     "execution_count": 6,
     "metadata": {},
     "output_type": "execute_result"
    }
   ],
   "source": [
    "df = df.dropna()\n",
    "df = df.reset_index(drop=True)\n",
    "df.head()"
   ]
  },
  {
   "cell_type": "code",
   "execution_count": 7,
   "id": "weighted-cross",
   "metadata": {},
   "outputs": [
    {
     "data": {
      "text/html": [
       "<div>\n",
       "<style scoped>\n",
       "    .dataframe tbody tr th:only-of-type {\n",
       "        vertical-align: middle;\n",
       "    }\n",
       "\n",
       "    .dataframe tbody tr th {\n",
       "        vertical-align: top;\n",
       "    }\n",
       "\n",
       "    .dataframe thead th {\n",
       "        text-align: right;\n",
       "    }\n",
       "</style>\n",
       "<table border=\"1\" class=\"dataframe\">\n",
       "  <thead>\n",
       "    <tr style=\"text-align: right;\">\n",
       "      <th></th>\n",
       "      <th>count</th>\n",
       "      <th>mean</th>\n",
       "      <th>std</th>\n",
       "      <th>min</th>\n",
       "      <th>25%</th>\n",
       "      <th>50%</th>\n",
       "      <th>75%</th>\n",
       "      <th>max</th>\n",
       "    </tr>\n",
       "  </thead>\n",
       "  <tbody>\n",
       "    <tr>\n",
       "      <th>MPG</th>\n",
       "      <td>313.0</td>\n",
       "      <td>23.713099</td>\n",
       "      <td>7.745904</td>\n",
       "      <td>9.0</td>\n",
       "      <td>17.6</td>\n",
       "      <td>23.0</td>\n",
       "      <td>29.0</td>\n",
       "      <td>46.6</td>\n",
       "    </tr>\n",
       "    <tr>\n",
       "      <th>Cylinders</th>\n",
       "      <td>313.0</td>\n",
       "      <td>5.405751</td>\n",
       "      <td>1.690347</td>\n",
       "      <td>3.0</td>\n",
       "      <td>4.0</td>\n",
       "      <td>4.0</td>\n",
       "      <td>6.0</td>\n",
       "      <td>8.0</td>\n",
       "    </tr>\n",
       "    <tr>\n",
       "      <th>Displacement</th>\n",
       "      <td>313.0</td>\n",
       "      <td>188.924920</td>\n",
       "      <td>101.093516</td>\n",
       "      <td>68.0</td>\n",
       "      <td>98.0</td>\n",
       "      <td>140.0</td>\n",
       "      <td>260.0</td>\n",
       "      <td>455.0</td>\n",
       "    </tr>\n",
       "    <tr>\n",
       "      <th>Horsepower</th>\n",
       "      <td>313.0</td>\n",
       "      <td>102.539936</td>\n",
       "      <td>37.192403</td>\n",
       "      <td>46.0</td>\n",
       "      <td>75.0</td>\n",
       "      <td>92.0</td>\n",
       "      <td>120.0</td>\n",
       "      <td>230.0</td>\n",
       "    </tr>\n",
       "    <tr>\n",
       "      <th>Weight</th>\n",
       "      <td>313.0</td>\n",
       "      <td>2940.731629</td>\n",
       "      <td>836.720428</td>\n",
       "      <td>1755.0</td>\n",
       "      <td>2215.0</td>\n",
       "      <td>2725.0</td>\n",
       "      <td>3530.0</td>\n",
       "      <td>5140.0</td>\n",
       "    </tr>\n",
       "    <tr>\n",
       "      <th>Acceleration</th>\n",
       "      <td>313.0</td>\n",
       "      <td>15.664217</td>\n",
       "      <td>2.691403</td>\n",
       "      <td>8.0</td>\n",
       "      <td>14.0</td>\n",
       "      <td>15.5</td>\n",
       "      <td>17.2</td>\n",
       "      <td>24.8</td>\n",
       "    </tr>\n",
       "    <tr>\n",
       "      <th>ModelYear</th>\n",
       "      <td>313.0</td>\n",
       "      <td>76.047923</td>\n",
       "      <td>3.703897</td>\n",
       "      <td>70.0</td>\n",
       "      <td>73.0</td>\n",
       "      <td>76.0</td>\n",
       "      <td>79.0</td>\n",
       "      <td>82.0</td>\n",
       "    </tr>\n",
       "    <tr>\n",
       "      <th>Origin</th>\n",
       "      <td>313.0</td>\n",
       "      <td>1.594249</td>\n",
       "      <td>0.807556</td>\n",
       "      <td>1.0</td>\n",
       "      <td>1.0</td>\n",
       "      <td>1.0</td>\n",
       "      <td>2.0</td>\n",
       "      <td>3.0</td>\n",
       "    </tr>\n",
       "  </tbody>\n",
       "</table>\n",
       "</div>"
      ],
      "text/plain": [
       "              count         mean         std     min     25%     50%     75%  \\\n",
       "MPG           313.0    23.713099    7.745904     9.0    17.6    23.0    29.0   \n",
       "Cylinders     313.0     5.405751    1.690347     3.0     4.0     4.0     6.0   \n",
       "Displacement  313.0   188.924920  101.093516    68.0    98.0   140.0   260.0   \n",
       "Horsepower    313.0   102.539936   37.192403    46.0    75.0    92.0   120.0   \n",
       "Weight        313.0  2940.731629  836.720428  1755.0  2215.0  2725.0  3530.0   \n",
       "Acceleration  313.0    15.664217    2.691403     8.0    14.0    15.5    17.2   \n",
       "ModelYear     313.0    76.047923    3.703897    70.0    73.0    76.0    79.0   \n",
       "Origin        313.0     1.594249    0.807556     1.0     1.0     1.0     2.0   \n",
       "\n",
       "                 max  \n",
       "MPG             46.6  \n",
       "Cylinders        8.0  \n",
       "Displacement   455.0  \n",
       "Horsepower     230.0  \n",
       "Weight        5140.0  \n",
       "Acceleration    24.8  \n",
       "ModelYear       82.0  \n",
       "Origin           3.0  "
      ]
     },
     "execution_count": 7,
     "metadata": {},
     "output_type": "execute_result"
    }
   ],
   "source": [
    "import sklearn\n",
    "import sklearn.model_selection\n",
    "df_train, df_test = sklearn.model_selection.train_test_split(\n",
    "    df, train_size=0.8)\n",
    "train_stats = df_train.describe().transpose()\n",
    "train_stats"
   ]
  },
  {
   "cell_type": "code",
   "execution_count": 8,
   "id": "af3af9fd",
   "metadata": {},
   "outputs": [],
   "source": [
    "numeric_column_names = ['Cylinders', 'Displacement',\n",
    "                        'Horsepower', 'Weight',\n",
    "                        'Acceleration']"
   ]
  },
  {
   "cell_type": "code",
   "execution_count": 9,
   "id": "fe3d67fc",
   "metadata": {},
   "outputs": [],
   "source": [
    "df_train_norm, df_test_norm = df_train.copy(), df_test.copy()"
   ]
  },
  {
   "cell_type": "code",
   "execution_count": 10,
   "id": "5884b214",
   "metadata": {},
   "outputs": [],
   "source": [
    "for col_name in numeric_column_names:\n",
    "    mean = train_stats.loc[col_name, 'mean']\n",
    "    std  = train_stats.loc[col_name, 'std']\n",
    "    df_train_norm.loc[:, col_name] = (\n",
    "        df_train_norm.loc[:, col_name] - mean)/std\n",
    "    df_test_norm.loc[:, col_name] = (\n",
    "        df_test_norm.loc[:, col_name] - mean)/std"
   ]
  },
  {
   "cell_type": "code",
   "execution_count": 11,
   "id": "8126a0ca",
   "metadata": {},
   "outputs": [],
   "source": [
    "numeric_features = []\n",
    "for col_name in numeric_column_names:\n",
    "    numeric_features.append(\n",
    "        tf.feature_column.numeric_column(key=col_name))"
   ]
  },
  {
   "cell_type": "code",
   "execution_count": 12,
   "id": "123aa5a1",
   "metadata": {},
   "outputs": [
    {
     "data": {
      "text/plain": [
       "[NumericColumn(key='Cylinders', shape=(1,), default_value=None, dtype=tf.float32, normalizer_fn=None),\n",
       " NumericColumn(key='Displacement', shape=(1,), default_value=None, dtype=tf.float32, normalizer_fn=None),\n",
       " NumericColumn(key='Horsepower', shape=(1,), default_value=None, dtype=tf.float32, normalizer_fn=None),\n",
       " NumericColumn(key='Weight', shape=(1,), default_value=None, dtype=tf.float32, normalizer_fn=None),\n",
       " NumericColumn(key='Acceleration', shape=(1,), default_value=None, dtype=tf.float32, normalizer_fn=None)]"
      ]
     },
     "execution_count": 12,
     "metadata": {},
     "output_type": "execute_result"
    }
   ],
   "source": [
    "numeric_features"
   ]
  },
  {
   "cell_type": "code",
   "execution_count": 13,
   "id": "92869e90",
   "metadata": {},
   "outputs": [
    {
     "data": {
      "text/plain": [
       "[BucketizedColumn(source_column=NumericColumn(key='ModelYear', shape=(1,), default_value=None, dtype=tf.float32, normalizer_fn=None), boundaries=(73, 76, 79))]"
      ]
     },
     "execution_count": 13,
     "metadata": {},
     "output_type": "execute_result"
    }
   ],
   "source": [
    "feature_year = tf.feature_column.numeric_column(key='ModelYear')\n",
    "bucketized_features = []\n",
    "bucketized_features.append(\n",
    "    tf.feature_column.bucketized_column(\n",
    "    source_column=feature_year,\n",
    "    boundaries=[73, 76, 79]))\n",
    "bucketized_features"
   ]
  },
  {
   "cell_type": "code",
   "execution_count": 16,
   "id": "pressing-helena",
   "metadata": {},
   "outputs": [],
   "source": [
    "feature_origin = tf.feature_column.categorical_column_with_vocabulary_list(\n",
    "       key='Origin',\n",
    "       vocabulary_list=[1, 2, 3])"
   ]
  },
  {
   "cell_type": "code",
   "execution_count": 17,
   "id": "amazing-mandate",
   "metadata": {},
   "outputs": [
    {
     "data": {
      "text/plain": [
       "[IndicatorColumn(categorical_column=VocabularyListCategoricalColumn(key='Origin', vocabulary_list=(1, 2, 3), dtype=tf.int64, default_value=-1, num_oov_buckets=0))]"
      ]
     },
     "execution_count": 17,
     "metadata": {},
     "output_type": "execute_result"
    }
   ],
   "source": [
    "categorical_indicator_features = []\n",
    "categorical_indicator_features.append(\n",
    "    tf.feature_column.indicator_column(feature_origin))\n",
    "categorical_indicator_features"
   ]
  },
  {
   "cell_type": "code",
   "execution_count": null,
   "id": "foreign-germany",
   "metadata": {},
   "outputs": [],
   "source": []
  },
  {
   "cell_type": "code",
   "execution_count": null,
   "id": "communist-large",
   "metadata": {},
   "outputs": [],
   "source": []
  },
  {
   "cell_type": "code",
   "execution_count": null,
   "id": "advance-franchise",
   "metadata": {},
   "outputs": [],
   "source": []
  },
  {
   "cell_type": "code",
   "execution_count": null,
   "id": "medical-berkeley",
   "metadata": {},
   "outputs": [],
   "source": []
  },
  {
   "cell_type": "code",
   "execution_count": null,
   "id": "right-acting",
   "metadata": {},
   "outputs": [],
   "source": []
  },
  {
   "cell_type": "code",
   "execution_count": null,
   "id": "pharmaceutical-norway",
   "metadata": {},
   "outputs": [],
   "source": []
  },
  {
   "cell_type": "code",
   "execution_count": null,
   "id": "bound-current",
   "metadata": {},
   "outputs": [],
   "source": []
  },
  {
   "cell_type": "code",
   "execution_count": null,
   "id": "distinguished-craps",
   "metadata": {},
   "outputs": [],
   "source": []
  },
  {
   "cell_type": "code",
   "execution_count": null,
   "id": "reasonable-hierarchy",
   "metadata": {},
   "outputs": [],
   "source": []
  },
  {
   "cell_type": "code",
   "execution_count": null,
   "id": "social-plate",
   "metadata": {},
   "outputs": [],
   "source": []
  },
  {
   "cell_type": "code",
   "execution_count": null,
   "id": "computational-wealth",
   "metadata": {},
   "outputs": [],
   "source": []
  }
 ],
 "metadata": {
  "kernelspec": {
   "display_name": "Python 3",
   "language": "python",
   "name": "python3"
  },
  "language_info": {
   "codemirror_mode": {
    "name": "ipython",
    "version": 3
   },
   "file_extension": ".py",
   "mimetype": "text/x-python",
   "name": "python",
   "nbconvert_exporter": "python",
   "pygments_lexer": "ipython3",
   "version": "3.6.13"
  }
 },
 "nbformat": 4,
 "nbformat_minor": 5
}
