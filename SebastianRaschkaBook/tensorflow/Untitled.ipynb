{
 "cells": [
  {
   "cell_type": "code",
   "execution_count": 1,
   "id": "wireless-crime",
   "metadata": {},
   "outputs": [],
   "source": [
    "import numpy as np"
   ]
  },
  {
   "cell_type": "code",
   "execution_count": 8,
   "id": "extreme-circular",
   "metadata": {},
   "outputs": [],
   "source": [
    "X = np.array([1, 1.4, 2.5])\n",
    "w = np.array([0.4, 0.3, 0.5])"
   ]
  },
  {
   "cell_type": "code",
   "execution_count": 9,
   "id": "overhead-consensus",
   "metadata": {},
   "outputs": [],
   "source": [
    "def net_input(X, w):\n",
    "    return np.dot(X, w)"
   ]
  },
  {
   "cell_type": "code",
   "execution_count": 10,
   "id": "placed-jumping",
   "metadata": {},
   "outputs": [],
   "source": [
    "def logistic(z):\n",
    "    return 1.0 / (1.0 + np.exp(-z))"
   ]
  },
  {
   "cell_type": "code",
   "execution_count": 11,
   "id": "minimal-andrews",
   "metadata": {},
   "outputs": [],
   "source": [
    "def logistic_activation(X, w):\n",
    "    z = net_input(X, w)\n",
    "    return logistic(z)"
   ]
  },
  {
   "cell_type": "code",
   "execution_count": 12,
   "id": "collected-feeding",
   "metadata": {},
   "outputs": [
    {
     "data": {
      "text/plain": [
       "0.8879529614430097"
      ]
     },
     "execution_count": 12,
     "metadata": {},
     "output_type": "execute_result"
    }
   ],
   "source": [
    "logistic_activation(X, w)"
   ]
  },
  {
   "cell_type": "markdown",
   "id": "surgical-conducting",
   "metadata": {},
   "source": [
    "### testing output layer with multiple logistic activation units"
   ]
  },
  {
   "cell_type": "code",
   "execution_count": 14,
   "id": "crucial-tamil",
   "metadata": {},
   "outputs": [
    {
     "data": {
      "text/plain": [
       "array([[1.1, 1.2, 0.8, 0.4],\n",
       "       [0.2, 0.4, 1. , 0.2],\n",
       "       [0.6, 1.5, 1.2, 0.7]])"
      ]
     },
     "execution_count": 14,
     "metadata": {},
     "output_type": "execute_result"
    }
   ],
   "source": [
    "W = np.array([[1.1, 1.2, 0.8, 0.4],\n",
    "            [0.2, 0.4, 1.0, 0.2],\n",
    "            [0.6, 1.5, 1.2, 0.7]])\n",
    "W"
   ]
  },
  {
   "cell_type": "code",
   "execution_count": 15,
   "id": "computational-trash",
   "metadata": {},
   "outputs": [
    {
     "data": {
      "text/plain": [
       "array([[1. , 0.1, 0.4, 0.6]])"
      ]
     },
     "execution_count": 15,
     "metadata": {},
     "output_type": "execute_result"
    }
   ],
   "source": [
    "A = np.array([[1, 0.1, 0.4, 0.6]])\n",
    "A"
   ]
  },
  {
   "cell_type": "code",
   "execution_count": 16,
   "id": "coral-dinner",
   "metadata": {},
   "outputs": [],
   "source": [
    "Z = np.dot(W, A[0])"
   ]
  },
  {
   "cell_type": "code",
   "execution_count": 17,
   "id": "third-arkansas",
   "metadata": {},
   "outputs": [
    {
     "data": {
      "text/plain": [
       "array([1.78, 0.76, 1.65])"
      ]
     },
     "execution_count": 17,
     "metadata": {},
     "output_type": "execute_result"
    }
   ],
   "source": [
    "y_probas = logistic(Z)\n",
    "Z"
   ]
  },
  {
   "cell_type": "code",
   "execution_count": 18,
   "id": "alike-conjunction",
   "metadata": {},
   "outputs": [
    {
     "data": {
      "text/plain": [
       "array([0.85569687, 0.68135373, 0.83889105])"
      ]
     },
     "execution_count": 18,
     "metadata": {},
     "output_type": "execute_result"
    }
   ],
   "source": [
    "y_probas"
   ]
  },
  {
   "cell_type": "code",
   "execution_count": 20,
   "id": "distinct-agent",
   "metadata": {},
   "outputs": [
    {
     "data": {
      "text/plain": [
       "0"
      ]
     },
     "execution_count": 20,
     "metadata": {},
     "output_type": "execute_result"
    }
   ],
   "source": [
    "np.argmax(Z, axis = 0)"
   ]
  },
  {
   "cell_type": "code",
   "execution_count": 21,
   "id": "jewish-steal",
   "metadata": {},
   "outputs": [],
   "source": [
    "def softmax(z):\n",
    "    return np.exp(z) / np.sum(np.exp(z))"
   ]
  },
  {
   "cell_type": "code",
   "execution_count": 23,
   "id": "funny-clinton",
   "metadata": {},
   "outputs": [
    {
     "data": {
      "text/plain": [
       "array([0.44668973, 0.16107406, 0.39223621])"
      ]
     },
     "execution_count": 23,
     "metadata": {},
     "output_type": "execute_result"
    }
   ],
   "source": [
    "softmax(Z)"
   ]
  },
  {
   "cell_type": "code",
   "execution_count": 24,
   "id": "several-bulletin",
   "metadata": {},
   "outputs": [
    {
     "data": {
      "text/plain": [
       "array([1.78, 0.76, 1.65])"
      ]
     },
     "execution_count": 24,
     "metadata": {},
     "output_type": "execute_result"
    }
   ],
   "source": [
    "Z"
   ]
  },
  {
   "cell_type": "code",
   "execution_count": 25,
   "id": "russian-aquatic",
   "metadata": {},
   "outputs": [
    {
     "data": {
      "text/plain": [
       "<tf.Tensor: shape=(1, 3), dtype=float64, numpy=array([[1.78, 0.76, 1.65]])>"
      ]
     },
     "execution_count": 25,
     "metadata": {},
     "output_type": "execute_result"
    }
   ],
   "source": [
    "# use tensorflow instead\n",
    "import tensorflow as tf\n",
    "Z_tensor = tf.expand_dims(Z, axis = 0)\n",
    "Z_tensor"
   ]
  },
  {
   "cell_type": "code",
   "execution_count": 27,
   "id": "challenging-woman",
   "metadata": {},
   "outputs": [
    {
     "data": {
      "text/plain": [
       "<tf.Tensor: shape=(1, 3), dtype=float64, numpy=array([[0.44668973, 0.16107406, 0.39223621]])>"
      ]
     },
     "execution_count": 27,
     "metadata": {},
     "output_type": "execute_result"
    }
   ],
   "source": [
    "tf.keras.activations.softmax(Z_tensor)"
   ]
  },
  {
   "cell_type": "code",
   "execution_count": 28,
   "id": "owned-schedule",
   "metadata": {},
   "outputs": [],
   "source": [
    "# hyperbolic tangent / tanh\n",
    "# has a broader spectrum in the open interval"
   ]
  },
  {
   "cell_type": "code",
   "execution_count": 29,
   "id": "lined-journey",
   "metadata": {},
   "outputs": [],
   "source": [
    "import matplotlib.pyplot as plt"
   ]
  },
  {
   "cell_type": "code",
   "execution_count": 35,
   "id": "satisfied-legend",
   "metadata": {},
   "outputs": [],
   "source": [
    "def tanh(z):\n",
    "    e_p = np.exp(z)\n",
    "    e_m = np.exp(-z)\n",
    "    return (e_p - e_m) / (e_p + e_m)"
   ]
  },
  {
   "cell_type": "code",
   "execution_count": 36,
   "id": "considerable-orange",
   "metadata": {},
   "outputs": [
    {
     "data": {
      "text/plain": [
       "array([-5.   , -4.995, -4.99 , ...,  4.985,  4.99 ,  4.995])"
      ]
     },
     "execution_count": 36,
     "metadata": {},
     "output_type": "execute_result"
    }
   ],
   "source": [
    "z = np.arange(-5,5, 0.005)\n",
    "z"
   ]
  },
  {
   "cell_type": "code",
   "execution_count": 37,
   "id": "behavioral-register",
   "metadata": {},
   "outputs": [
    {
     "data": {
      "text/plain": [
       "array([0.00669285, 0.00672617, 0.00675966, ..., 0.99320669, 0.99324034,\n",
       "       0.99327383])"
      ]
     },
     "execution_count": 37,
     "metadata": {},
     "output_type": "execute_result"
    }
   ],
   "source": [
    "log_act = logistic(z)\n",
    "log_act"
   ]
  },
  {
   "cell_type": "code",
   "execution_count": 38,
   "id": "negative-irrigation",
   "metadata": {},
   "outputs": [
    {
     "data": {
      "text/plain": [
       "array([-0.9999092 , -0.99990829, -0.99990737, ...,  0.99990644,\n",
       "        0.99990737,  0.99990829])"
      ]
     },
     "execution_count": 38,
     "metadata": {},
     "output_type": "execute_result"
    }
   ],
   "source": [
    "tanh_act = tanh(z)\n",
    "tanh_act"
   ]
  },
  {
   "cell_type": "code",
   "execution_count": 39,
   "id": "mental-society",
   "metadata": {},
   "outputs": [
    {
     "data": {
      "image/png": "[encoded data removed]",
      "text/plain": [
       "<Figure size 432x288 with 1 Axes>"
      ]
     },
     "metadata": {
      "needs_background": "light"
     },
     "output_type": "display_data"
    }
   ],
   "source": [
    "plt.ylim([-1.5, 1.5])\n",
    "plt.xlabel('net input $z$')\n",
    "plt.ylabel('activation $\\phi(z)$')\n",
    "plt.axhline(1, color='black', linestyle=':')\n",
    "plt.axhline(0.5, color='black', linestyle=':')\n",
    "plt.axhline(0, color='black', linestyle=':')\n",
    "plt.axhline(-0.5, color='black', linestyle=':')\n",
    "plt.axhline(-1, color='black', linestyle=':')\n",
    "plt.plot(z, tanh_act,linewidth=3, linestyle='--',label='tanh')\n",
    "plt.plot(z, log_act,\n",
    "         linewidth=3,\n",
    "         label='logistic')\n",
    "plt.legend(loc='lower right')\n",
    "plt.tight_layout()\n",
    "plt.show()"
   ]
  },
  {
   "cell_type": "code",
   "execution_count": 40,
   "id": "certified-motorcycle",
   "metadata": {},
   "outputs": [
    {
     "data": {
      "text/plain": [
       "array([-0.9999092 , -0.99990829, -0.99990737, ...,  0.99990644,\n",
       "        0.99990737,  0.99990829])"
      ]
     },
     "execution_count": 40,
     "metadata": {},
     "output_type": "execute_result"
    }
   ],
   "source": [
    "np.tanh(z)"
   ]
  },
  {
   "cell_type": "code",
   "execution_count": 41,
   "id": "photographic-oklahoma",
   "metadata": {},
   "outputs": [
    {
     "data": {
      "text/plain": [
       "<tf.Tensor: shape=(2000,), dtype=float64, numpy=\n",
       "array([-0.9999092 , -0.99990829, -0.99990737, ...,  0.99990644,\n",
       "        0.99990737,  0.99990829])>"
      ]
     },
     "execution_count": 41,
     "metadata": {},
     "output_type": "execute_result"
    }
   ],
   "source": [
    "tf.keras.activations.tanh(z)"
   ]
  },
  {
   "cell_type": "code",
   "execution_count": 42,
   "id": "suburban-reggae",
   "metadata": {},
   "outputs": [
    {
     "data": {
      "text/plain": [
       "array([0.00669285, 0.00672617, 0.00675966, ..., 0.99320669, 0.99324034,\n",
       "       0.99327383])"
      ]
     },
     "execution_count": 42,
     "metadata": {},
     "output_type": "execute_result"
    }
   ],
   "source": [
    "from scipy.special import expit\n",
    "expit(z)"
   ]
  },
  {
   "cell_type": "code",
   "execution_count": 43,
   "id": "northern-manitoba",
   "metadata": {},
   "outputs": [
    {
     "data": {
      "text/plain": [
       "<tf.Tensor: shape=(2000,), dtype=float64, numpy=\n",
       "array([0.00669285, 0.00672617, 0.00675966, ..., 0.99320669, 0.99324034,\n",
       "       0.99327383])>"
      ]
     },
     "execution_count": 43,
     "metadata": {},
     "output_type": "execute_result"
    }
   ],
   "source": [
    "tf.keras.activations.sigmoid(z)"
   ]
  },
  {
   "cell_type": "markdown",
   "id": "unlikely-judges",
   "metadata": {},
   "source": [
    "### Rectified linear unit activation"
   ]
  },
  {
   "cell_type": "code",
   "execution_count": null,
   "id": "inclusive-location",
   "metadata": {},
   "outputs": [],
   "source": []
  },
  {
   "cell_type": "code",
   "execution_count": null,
   "id": "pressed-cherry",
   "metadata": {},
   "outputs": [],
   "source": []
  },
  {
   "cell_type": "code",
   "execution_count": null,
   "id": "basic-square",
   "metadata": {},
   "outputs": [],
   "source": []
  },
  {
   "cell_type": "code",
   "execution_count": null,
   "id": "pleased-society",
   "metadata": {},
   "outputs": [],
   "source": []
  },
  {
   "cell_type": "code",
   "execution_count": null,
   "id": "threatened-secret",
   "metadata": {},
   "outputs": [],
   "source": []
  },
  {
   "cell_type": "code",
   "execution_count": null,
   "id": "informational-tongue",
   "metadata": {},
   "outputs": [],
   "source": []
  },
  {
   "cell_type": "code",
   "execution_count": null,
   "id": "middle-touch",
   "metadata": {},
   "outputs": [],
   "source": []
  },
  {
   "cell_type": "code",
   "execution_count": null,
   "id": "infrared-handling",
   "metadata": {},
   "outputs": [],
   "source": []
  },
  {
   "cell_type": "code",
   "execution_count": null,
   "id": "continent-fleet",
   "metadata": {},
   "outputs": [],
   "source": []
  },
  {
   "cell_type": "code",
   "execution_count": null,
   "id": "balanced-commission",
   "metadata": {},
   "outputs": [],
   "source": []
  },
  {
   "cell_type": "code",
   "execution_count": null,
   "id": "sunrise-birmingham",
   "metadata": {},
   "outputs": [],
   "source": []
  },
  {
   "cell_type": "code",
   "execution_count": null,
   "id": "disciplinary-greek",
   "metadata": {},
   "outputs": [],
   "source": []
  },
  {
   "cell_type": "code",
   "execution_count": null,
   "id": "personalized-patch",
   "metadata": {},
   "outputs": [],
   "source": []
  },
  {
   "cell_type": "code",
   "execution_count": null,
   "id": "combined-least",
   "metadata": {},
   "outputs": [],
   "source": []
  },
  {
   "cell_type": "code",
   "execution_count": null,
   "id": "operating-qatar",
   "metadata": {},
   "outputs": [],
   "source": []
  }
 ],
 "metadata": {
  "kernelspec": {
   "display_name": "Python 3",
   "language": "python",
   "name": "python3"
  },
  "language_info": {
   "codemirror_mode": {
    "name": "ipython",
    "version": 3
   },
   "file_extension": ".py",
   "mimetype": "text/x-python",
   "name": "python",
   "nbconvert_exporter": "python",
   "pygments_lexer": "ipython3",
   "version": "3.6.10"
  }
 },
 "nbformat": 4,
 "nbformat_minor": 5
}
