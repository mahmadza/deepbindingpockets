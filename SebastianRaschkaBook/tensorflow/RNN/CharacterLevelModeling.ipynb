{
 "cells": [
  {
   "cell_type": "code",
   "execution_count": null,
   "id": "d3c805d4",
   "metadata": {},
   "outputs": [],
   "source": [
    "import numpy as np\n",
    "\n",
    "with open('../../1268-0.txt', 'r') as fp:\n",
    "    text = fp.read()\n",
    "    \n",
    "start_index = text.find('THE MYSTERIOUS ISLAND')\n",
    "end_index = text.find('End of the Project Gutenberg')\n",
    "text = text[s]"
   ]
  },
  {
   "cell_type": "code",
   "execution_count": 1,
   "id": "8fce9225",
   "metadata": {},
   "outputs": [],
   "source": [
    "%config Completer.use_jedi = False"
   ]
  },
  {
   "cell_type": "code",
   "execution_count": null,
   "id": "ee1add9e",
   "metadata": {},
   "outputs": [],
   "source": []
  }
 ],
 "metadata": {
  "kernelspec": {
   "display_name": "Python 3",
   "language": "python",
   "name": "python3"
  },
  "language_info": {
   "codemirror_mode": {
    "name": "ipython",
    "version": 3
   },
   "file_extension": ".py",
   "mimetype": "text/x-python",
   "name": "python",
   "nbconvert_exporter": "python",
   "pygments_lexer": "ipython3",
   "version": "3.6.13"
  }
 },
 "nbformat": 4,
 "nbformat_minor": 5
}
