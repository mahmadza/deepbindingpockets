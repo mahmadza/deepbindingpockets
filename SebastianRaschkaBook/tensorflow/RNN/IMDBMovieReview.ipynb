{
 "cells": [
  {
   "cell_type": "code",
   "execution_count": 1,
   "id": "22424f53",
   "metadata": {},
   "outputs": [],
   "source": [
    "import tensorflow as tf\n",
    "import tensorflow_datasets as tfds\n",
    "import numpy as np\n",
    "import pandas as pd"
   ]
  },
  {
   "cell_type": "code",
   "execution_count": 2,
   "id": "627e736e",
   "metadata": {},
   "outputs": [],
   "source": [
    "df = pd.read_csv(\"../../movie_data.csv\", encoding = 'utf-8')"
   ]
  },
  {
   "cell_type": "code",
   "execution_count": 3,
   "id": "ca3dcbd3",
   "metadata": {},
   "outputs": [
    {
     "data": {
      "text/html": [
       "<div>\n",
       "<style scoped>\n",
       "    .dataframe tbody tr th:only-of-type {\n",
       "        vertical-align: middle;\n",
       "    }\n",
       "\n",
       "    .dataframe tbody tr th {\n",
       "        vertical-align: top;\n",
       "    }\n",
       "\n",
       "    .dataframe thead th {\n",
       "        text-align: right;\n",
       "    }\n",
       "</style>\n",
       "<table border=\"1\" class=\"dataframe\">\n",
       "  <thead>\n",
       "    <tr style=\"text-align: right;\">\n",
       "      <th></th>\n",
       "      <th>review</th>\n",
       "      <th>sentiment</th>\n",
       "    </tr>\n",
       "  </thead>\n",
       "  <tbody>\n",
       "    <tr>\n",
       "      <th>0</th>\n",
       "      <td>Election is a Chinese mob movie, or triads in ...</td>\n",
       "      <td>1</td>\n",
       "    </tr>\n",
       "    <tr>\n",
       "      <th>1</th>\n",
       "      <td>I was just watching a Forensic Files marathon ...</td>\n",
       "      <td>0</td>\n",
       "    </tr>\n",
       "    <tr>\n",
       "      <th>2</th>\n",
       "      <td>Police Story is a stunning series of set piece...</td>\n",
       "      <td>1</td>\n",
       "    </tr>\n",
       "    <tr>\n",
       "      <th>3</th>\n",
       "      <td>Dear Readers,&lt;br /&gt;&lt;br /&gt;The final battle betw...</td>\n",
       "      <td>1</td>\n",
       "    </tr>\n",
       "    <tr>\n",
       "      <th>4</th>\n",
       "      <td>I have seen The Perfect Son about three times....</td>\n",
       "      <td>1</td>\n",
       "    </tr>\n",
       "  </tbody>\n",
       "</table>\n",
       "</div>"
      ],
      "text/plain": [
       "                                              review  sentiment\n",
       "0  Election is a Chinese mob movie, or triads in ...          1\n",
       "1  I was just watching a Forensic Files marathon ...          0\n",
       "2  Police Story is a stunning series of set piece...          1\n",
       "3  Dear Readers,<br /><br />The final battle betw...          1\n",
       "4  I have seen The Perfect Son about three times....          1"
      ]
     },
     "execution_count": 3,
     "metadata": {},
     "output_type": "execute_result"
    }
   ],
   "source": [
    "df.head()"
   ]
  },
  {
   "cell_type": "code",
   "execution_count": 5,
   "id": "11598428",
   "metadata": {},
   "outputs": [
    {
     "data": {
      "text/plain": [
       "<TensorSliceDataset shapes: ((1,), ()), types: (tf.string, tf.int64)>"
      ]
     },
     "execution_count": 5,
     "metadata": {},
     "output_type": "execute_result"
    }
   ],
   "source": [
    "# create a Tensorflow dataset object\n",
    "target = df.pop('sentiment')\n",
    "ds_raw = tf.data.Dataset.from_tensor_slices((df.values, target.values))\n",
    "ds_raw"
   ]
  },
  {
   "cell_type": "code",
   "execution_count": 26,
   "id": "7456e6f3",
   "metadata": {},
   "outputs": [
    {
     "name": "stdout",
     "output_type": "stream",
     "text": [
      "b'Election is a Chinese mob movie, or triads in this' 1\n",
      "b'I was just watching a Forensic Files marathon on C' 0\n",
      "b'Police Story is a stunning series of set pieces fo' 1\n"
     ]
    }
   ],
   "source": [
    "# verify\n",
    "# print first 50 characters of the review, and the sentiment\n",
    "for ex in ds_raw.take(3):\n",
    "    tf.print(ex[0].numpy()[0][:50], ex[1])"
   ]
  },
  {
   "cell_type": "code",
   "execution_count": 18,
   "id": "f5ce0e70",
   "metadata": {},
   "outputs": [],
   "source": [
    "# split into training, testing and validation dataset\n",
    "tf.random.set_seed(1)\n",
    "ds_raw = ds_raw.shuffle(50000, reshuffle_each_iteration = False)\n",
    "ds_raw_test = ds_raw.take(25000)\n",
    "ds_raw_train_valid = ds_raw.skip(25000)\n",
    "ds_raw_train = ds_raw_train_valid.take(20000)\n",
    "ds_raw_valid = ds_raw_train_valid.skip(20000)"
   ]
  },
  {
   "cell_type": "code",
   "execution_count": 19,
   "id": "d6e10959",
   "metadata": {},
   "outputs": [],
   "source": [
    "# collect unique tokens\n",
    "# use Counter class from the collections package\n",
    "from collections import Counter\n",
    "\n",
    "tokenizer = tfds.features.text.Tokenizer()\n",
    "token_counts = Counter()"
   ]
  },
  {
   "cell_type": "code",
   "execution_count": 24,
   "id": "7b11a7dd",
   "metadata": {},
   "outputs": [
    {
     "name": "stdout",
     "output_type": "stream",
     "text": [
      "87397\n"
     ]
    }
   ],
   "source": [
    "for example in ds_raw_train:\n",
    "    tokens = tokenizer.tokenize(example[0].numpy()[0])\n",
    "    token_counts.update(tokens)\n",
    "# show vocab size\n",
    "print(len(token_counts))"
   ]
  },
  {
   "cell_type": "code",
   "execution_count": 26,
   "id": "24796252",
   "metadata": {},
   "outputs": [
    {
     "name": "stdout",
     "output_type": "stream",
     "text": [
      "[104, 105, 24, 10193]\n"
     ]
    }
   ],
   "source": [
    "# use TokenTextEoncoder class to create mappings\n",
    "# create an encoder object:\n",
    "encoder = tfds.features.text.TokenTextEncoder(token_counts)\n",
    "# see for an example text:\n",
    "example_str = 'This is example, YOU!'\n",
    "print(encoder.encode(example_str))"
   ]
  },
  {
   "cell_type": "code",
   "execution_count": 28,
   "id": "4021cb7b",
   "metadata": {},
   "outputs": [],
   "source": [
    "# define transformation function\n",
    "def encode(text_tensor, label):\n",
    "    text = text_tensor.numpy()[0]\n",
    "    encoded_text = encoder.encode(text)\n",
    "    return encoded_text, label\n",
    "\n",
    "# create another function to wrap the transformation function\n",
    "# and convert it into a Tensorflow operator\n",
    "def encode_map_fn(text, label):\n",
    "    return tf.py_function(encode, inp = [text, label],\n",
    "                         Tout = (tf.int64, tf.int64))"
   ]
  },
  {
   "cell_type": "code",
   "execution_count": 29,
   "id": "ffffd953",
   "metadata": {},
   "outputs": [],
   "source": [
    "# encode the text into integers\n",
    "ds_train = ds_raw_train.map(encode_map_fn)\n",
    "ds_valid = ds_raw_valid.map(encode_map_fn)\n",
    "ds_test = ds_raw_test.map(encode_map_fn)"
   ]
  },
  {
   "cell_type": "code",
   "execution_count": 30,
   "id": "7250508f",
   "metadata": {},
   "outputs": [
    {
     "name": "stdout",
     "output_type": "stream",
     "text": [
      "Sequence length:  (248,)\n",
      "Sequence length:  (181,)\n",
      "Sequence length:  (243,)\n",
      "Sequence length:  (801,)\n",
      "Sequence length:  (662,)\n"
     ]
    }
   ],
   "source": [
    "# verify\n",
    "tf.random.set_seed(1)\n",
    "for example in ds_train.shuffle(1000).take(5):\n",
    "    print('Sequence length: ', example[0].shape)"
   ]
  },
  {
   "cell_type": "code",
   "execution_count": 31,
   "id": "98d3c736",
   "metadata": {},
   "outputs": [],
   "source": [
    "# divide datasets into mini-batches with a batch size of 32\n",
    "# generate sequence of the same length\n",
    "train_data = ds_train.padded_batch(32, padded_shapes = ([-1], []))\n",
    "valid_data = ds_valid.padded_batch(32, padded_shapes = ([-1], []))\n",
    "test_data = ds_test.padded_batch(32, padded_shapes = ([-1], []))"
   ]
  },
  {
   "cell_type": "markdown",
   "id": "b989679d",
   "metadata": {},
   "source": [
    "### Feature Embedding"
   ]
  },
  {
   "cell_type": "code",
   "execution_count": 32,
   "id": "000dbe70",
   "metadata": {},
   "outputs": [
    {
     "name": "stdout",
     "output_type": "stream",
     "text": [
      "Model: \"sequential\"\n",
      "_________________________________________________________________\n",
      "Layer (type)                 Output Shape              Param #   \n",
      "=================================================================\n",
      "embed-layer (Embedding)      (None, 20, 6)             600       \n",
      "=================================================================\n",
      "Total params: 600\n",
      "Trainable params: 600\n",
      "Non-trainable params: 0\n",
      "_________________________________________________________________\n"
     ]
    }
   ],
   "source": [
    "# create an embedding layer\n",
    "from tensorflow.keras.layers import Embedding\n",
    "model = tf.keras.Sequential()\n",
    "model.add(Embedding(input_dim = 100,\n",
    "                   output_dim = 6,\n",
    "                   input_length = 20,\n",
    "                   name = 'embed-layer'))\n",
    "model.summary()"
   ]
  },
  {
   "cell_type": "code",
   "execution_count": 34,
   "id": "f34cee45",
   "metadata": {},
   "outputs": [
    {
     "name": "stdout",
     "output_type": "stream",
     "text": [
      "Model: \"sequential_2\"\n",
      "_________________________________________________________________\n",
      "Layer (type)                 Output Shape              Param #   \n",
      "=================================================================\n",
      "embedding (Embedding)        (None, None, 32)          32000     \n",
      "_________________________________________________________________\n",
      "simple_rnn (SimpleRNN)       (None, None, 32)          2080      \n",
      "_________________________________________________________________\n",
      "simple_rnn_1 (SimpleRNN)     (None, 32)                2080      \n",
      "_________________________________________________________________\n",
      "dense (Dense)                (None, 1)                 33        \n",
      "=================================================================\n",
      "Total params: 36,193\n",
      "Trainable params: 36,193\n",
      "Non-trainable params: 0\n",
      "_________________________________________________________________\n"
     ]
    }
   ],
   "source": [
    "from tensorflow.keras import Sequential\n",
    "from tensorflow.keras.layers import Embedding, SimpleRNN, Dense\n",
    "\n",
    "model = Sequential()\n",
    "model.add(Embedding(input_dim = 1000, output_dim = 32))\n",
    "model.add(SimpleRNN(32, return_sequences = True))\n",
    "model.add(SimpleRNN(32))\n",
    "model.add(Dense(1))\n",
    "model.summary()"
   ]
  },
  {
   "cell_type": "code",
   "execution_count": 36,
   "id": "ec9be481",
   "metadata": {},
   "outputs": [
    {
     "name": "stdout",
     "output_type": "stream",
     "text": [
      "Model: \"sequential_4\"\n",
      "_________________________________________________________________\n",
      "Layer (type)                 Output Shape              Param #   \n",
      "=================================================================\n",
      "embed-layer (Embedding)      (None, None, 20)          1747980   \n",
      "_________________________________________________________________\n",
      "bidir-lstm (Bidirectional)   (None, 128)               43520     \n",
      "_________________________________________________________________\n",
      "dense_3 (Dense)              (None, 64)                8256      \n",
      "_________________________________________________________________\n",
      "dense_4 (Dense)              (None, 1)                 65        \n",
      "=================================================================\n",
      "Total params: 1,799,821\n",
      "Trainable params: 1,799,821\n",
      "Non-trainable params: 0\n",
      "_________________________________________________________________\n"
     ]
    }
   ],
   "source": [
    "embedding_dim = 20\n",
    "vocab_size = len(token_counts) + 2\n",
    "tf.random.set_seed(1)\n",
    "# build embedding layer, bidirectional LSTM,\n",
    "# and add ReLu and Sigmoid activation\n",
    "bi_lstm_model = tf.keras.Sequential([\n",
    "    tf.keras.layers.Embedding(input_dim = vocab_size, \n",
    "                             output_dim = embedding_dim,\n",
    "                             name = 'embed-layer'),\n",
    "    tf.keras.layers.Bidirectional(tf.keras.layers.LSTM(64,\n",
    "                                                      name = 'lstm-layer'),\n",
    "                                 name = 'bidir-lstm'),\n",
    "    tf.keras.layers.Dense(64, activation = 'relu'),\n",
    "    tf.keras.layers.Dense(1, activation = 'sigmoid')\n",
    "    ])\n",
    "bi_lstm_model.summary()"
   ]
  },
  {
   "cell_type": "code",
   "execution_count": null,
   "id": "12cd9398",
   "metadata": {},
   "outputs": [
    {
     "name": "stdout",
     "output_type": "stream",
     "text": [
      "Epoch 1/10\n",
      "625/625 [==============================] - 375s 594ms/step - loss: 0.5905 - accuracy: 0.6644 - val_loss: 0.3604 - val_accuracy: 0.8630\n",
      "Epoch 2/10\n",
      "625/625 [==============================] - 350s 559ms/step - loss: 0.2774 - accuracy: 0.8893 - val_loss: 0.3684 - val_accuracy: 0.8534\n",
      "Epoch 3/10\n",
      "625/625 [==============================] - 337s 538ms/step - loss: 0.1591 - accuracy: 0.9444 - val_loss: 0.4147 - val_accuracy: 0.8458\n",
      "Epoch 4/10\n",
      "552/625 [=========================>....] - ETA: 37s - loss: 0.1061 - accuracy: 0.9663"
     ]
    }
   ],
   "source": [
    "# compile and train\n",
    "# will take a while!\n",
    "bi_lstm_model.compile(optimizer = tf.keras.optimizers.Adam(1e-3),\n",
    "                      loss = tf.keras.losses.BinaryCrossentropy(from_logits = False),\n",
    "                      metrics = ['accuracy'])\n",
    "history = bi_lstm_model.fit(train_data,\n",
    "                           validation_data = valid_data,\n",
    "                           epochs = 10)"
   ]
  },
  {
   "cell_type": "code",
   "execution_count": null,
   "id": "aaa41a38",
   "metadata": {},
   "outputs": [],
   "source": [
    "# evaluate on test data\n",
    "test_results = bi_lstm_model.evaluate(test_data)\n",
    "print('Test accuracy: {:.2f}%'.format(test_results[1]*100))"
   ]
  },
  {
   "cell_type": "code",
   "execution_count": null,
   "id": "e9f3a8e0",
   "metadata": {},
   "outputs": [],
   "source": [
    "# how does it do on training data itself?\n",
    "train_results = bi_lstm_model.evaluate(train_data)\n",
    "print('Test accuracy: {:.2f}%'.format(train_results[1]*100))"
   ]
  },
  {
   "cell_type": "markdown",
   "id": "b98c268b",
   "metadata": {},
   "source": [
    "### Using SimpleRNN, focusing only on the last tokens"
   ]
  },
  {
   "cell_type": "code",
   "execution_count": null,
   "id": "5a7e79a2",
   "metadata": {},
   "outputs": [],
   "source": [
    "# define a helper function to simplify preprocessing\n",
    "def preproces_datasets(ds_raw_train,\n",
    "                      ds_raw_valid,\n",
    "                      ds_raw_test,\n",
    "                      max_seq_length = None,\n",
    "                      batch_size = 32):\n",
    "    \n",
    "    # find unique tokens\n",
    "    tokenizer = tfds.features.text.Tokenizer()\n",
    "    token_counts = Counter()\n",
    "    \n",
    "    for example in ds_raw_train:\n",
    "        tokens = tokenizer.tokenizer(example[0].numpy()[0])\n",
    "        if max_seq_length is not None:\n",
    "            tokens = tokens[-max_seq_length:]\n",
    "        token_counts.update(tokens)\n",
    "    \n",
    "    print('Vocab-size:', len(token_counts))\n",
    "    \n",
    "    # encode the text\n",
    "    encoder = tfds.features.text.TokenTextEncoder(token_counts)\n",
    "    def encode(text_tensor, label):\n",
    "        text = text_tensor.numpy()[0]\n",
    "        encoded_text = encoder.encode(text)\n",
    "        if max_seq_length is not None:\n",
    "            encoded_text = encoded_text[-max_seq_length:]\n",
    "        return encoded_text, label\n",
    "    \n",
    "    def encode_map_fn(text, label):\n",
    "        return tf.py_function(encode, inp = [text, label],\n",
    "                             Tout = (tf.int64, tf.int64))\n",
    "    \n",
    "    ds_train = ds_raw_train.map(encode_map_fn)\n",
    "    ds_valid = ds_raw_valid.map(encode_map_fn)\n",
    "    ds_test = ds_raw_test.map(encode_map_fn)\n",
    "    \n",
    "    # batch datasets\n",
    "    train_data = ds_train.padded_batch(batch_size,\n",
    "                                      padded_shapes = ([-1],[]))\n",
    "    valid_data = ds_valid.padded_batch(batch_size,\n",
    "                                      padded_shapes = ([-1],[]))\n",
    "    test_data = ds_test.padded_batch(batch_size,\n",
    "                                      padded_shapes = ([-1],[]))\n",
    "    \n",
    "    return (train_data, valid_data, test_data, len(token_counts))"
   ]
  },
  {
   "cell_type": "code",
   "execution_count": null,
   "id": "6ce3d18e",
   "metadata": {},
   "outputs": [],
   "source": [
    "# define helper function for building models with different architectures\n",
    "from tensorflow.keras.layers import (\n",
    "    Embedding, Bidirectional, SimpleRNN, LSTM, GRU)\n",
    "\n",
    "def build_rnn_model(embedding_dim, vocab_size,\n",
    "                   recurrent_type = 'SimpleRNN',\n",
    "                   n_recurrent_units = 64,\n",
    "                   n_recurrent_layers = 1,\n",
    "                   bidirectional = True):\n",
    "    tf.random.set_seed(1)\n",
    "    model = tf.keras.Sequential()\n",
    "    model.add(Embedding(input_dim = vocab_size, \n",
    "                       output_dim = embedding_dim,\n",
    "                       name = 'embed-layer'))\n",
    "    for i in range(n_recurrent_layers):\n",
    "        return_sequences = (i < n_recurrent_layers-1)\n",
    "        if recurrent_type = 'SimpleRNN':\n",
    "            recurrent_layer = SimpleRNN(units = n_recurrent_units,\n",
    "                                       return_sequences = return_sequences,\n",
    "                                       name = 'simprnn-layer-{}'.format(i))\n",
    "        elif recurrent_type == 'LSTM':\n",
    "            recurrent_layer = LSTM(units = n_recurrent_units,\n",
    "                                       return_sequences = return_sequences,\n",
    "                                       name = 'lstm-layer-{}'.format(i))\n",
    "        elif recurrent_type == 'GRU':\n",
    "            recurrent_layer = GRU(units = n_recurrent_units,\n",
    "                                       return_sequences = return_sequences,\n",
    "                                       name = 'gru-layer-{}'.format(i))\n",
    "        if bidirectional:\n",
    "            recurrent_layer = Bidirectional(recurrent_layer,\n",
    "                                       name = 'bidir-' + recurrent_layer.name)\n",
    "\n",
    "        model.add(recurrent_layer)\n",
    "    \n",
    "    model.add(tf.keras.layers.Dense(64, activation = 'relu'))\n",
    "    model.add(tf.keras.layers.Dense(1, activation = 'sigmoid'))\n",
    "\n",
    "    return model\n"
   ]
  },
  {
   "cell_type": "code",
   "execution_count": null,
   "id": "2de7aafa",
   "metadata": {},
   "outputs": [],
   "source": []
  },
  {
   "cell_type": "code",
   "execution_count": null,
   "id": "9511abb2",
   "metadata": {},
   "outputs": [],
   "source": []
  },
  {
   "cell_type": "code",
   "execution_count": null,
   "id": "859535cf",
   "metadata": {},
   "outputs": [],
   "source": []
  },
  {
   "cell_type": "code",
   "execution_count": null,
   "id": "2b15d005",
   "metadata": {},
   "outputs": [],
   "source": []
  },
  {
   "cell_type": "code",
   "execution_count": null,
   "id": "40110fad",
   "metadata": {},
   "outputs": [],
   "source": []
  },
  {
   "cell_type": "code",
   "execution_count": null,
   "id": "a12e0d17",
   "metadata": {},
   "outputs": [],
   "source": []
  },
  {
   "cell_type": "code",
   "execution_count": null,
   "id": "13192603",
   "metadata": {},
   "outputs": [],
   "source": []
  },
  {
   "cell_type": "code",
   "execution_count": null,
   "id": "64405b2a",
   "metadata": {},
   "outputs": [],
   "source": []
  },
  {
   "cell_type": "code",
   "execution_count": null,
   "id": "aeb13edf",
   "metadata": {},
   "outputs": [],
   "source": []
  },
  {
   "cell_type": "code",
   "execution_count": null,
   "id": "da1dcda0",
   "metadata": {},
   "outputs": [],
   "source": []
  },
  {
   "cell_type": "code",
   "execution_count": null,
   "id": "f1d31d35",
   "metadata": {},
   "outputs": [],
   "source": []
  },
  {
   "cell_type": "code",
   "execution_count": null,
   "id": "2a75d416",
   "metadata": {},
   "outputs": [],
   "source": []
  },
  {
   "cell_type": "code",
   "execution_count": null,
   "id": "5f85f1db",
   "metadata": {},
   "outputs": [],
   "source": []
  },
  {
   "cell_type": "code",
   "execution_count": null,
   "id": "ed572a81",
   "metadata": {},
   "outputs": [],
   "source": []
  }
 ],
 "metadata": {
  "kernelspec": {
   "display_name": "Python 3",
   "language": "python",
   "name": "python3"
  },
  "language_info": {
   "codemirror_mode": {
    "name": "ipython",
    "version": 3
   },
   "file_extension": ".py",
   "mimetype": "text/x-python",
   "name": "python",
   "nbconvert_exporter": "python",
   "pygments_lexer": "ipython3",
   "version": "3.6.13"
  }
 },
 "nbformat": 4,
 "nbformat_minor": 5
}
