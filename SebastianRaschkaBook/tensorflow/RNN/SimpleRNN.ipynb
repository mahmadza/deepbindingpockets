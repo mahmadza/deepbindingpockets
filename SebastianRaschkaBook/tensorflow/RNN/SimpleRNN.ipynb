{
 "cells": [
  {
   "cell_type": "code",
   "execution_count": 1,
   "id": "43059430",
   "metadata": {},
   "outputs": [],
   "source": [
    "import tensorflow as tf\n",
    "tf.random.set_seed(1)"
   ]
  },
  {
   "cell_type": "code",
   "execution_count": 7,
   "id": "a0e81b7b",
   "metadata": {},
   "outputs": [],
   "source": [
    "rnn_layer = tf.keras.layers.SimpleRNN(units = 2,\n",
    "                                     use_bias = True,\n",
    "                                     return_sequences = True)\n",
    "# define input shape\n",
    "# first dimension: batch dimension, use None for variable batch size\n",
    "# second dimension: sequence dimension, use None for variable sequence length\n",
    "# last dimension: feature dimension\n",
    "rnn_layer.build(input_shape = (None, None, 5))"
   ]
  },
  {
   "cell_type": "code",
   "execution_count": 8,
   "id": "5939085e",
   "metadata": {},
   "outputs": [],
   "source": [
    "w_xh, w_oo, b_h = rnn_layer.weights"
   ]
  },
  {
   "cell_type": "code",
   "execution_count": 9,
   "id": "b6795431",
   "metadata": {},
   "outputs": [
    {
     "data": {
      "text/plain": [
       "<tf.Variable 'simple_rnn_cell_1/kernel:0' shape=(5, 2) dtype=float32, numpy=\n",
       "array([[ 0.6097033 ,  0.24854195],\n",
       "       [ 0.0272702 , -0.20167905],\n",
       "       [ 0.14980292, -0.8360492 ],\n",
       "       [-0.5969094 ,  0.3790338 ],\n",
       "       [-0.0149827 , -0.28507388]], dtype=float32)>"
      ]
     },
     "execution_count": 9,
     "metadata": {},
     "output_type": "execute_result"
    }
   ],
   "source": [
    "w_xh"
   ]
  },
  {
   "cell_type": "code",
   "execution_count": 10,
   "id": "d4a39b90",
   "metadata": {},
   "outputs": [
    {
     "data": {
      "text/plain": [
       "<tf.Variable 'simple_rnn_cell_1/recurrent_kernel:0' shape=(2, 2) dtype=float32, numpy=\n",
       "array([[ 0.82544434,  0.5644834 ],\n",
       "       [-0.5644834 ,  0.8254444 ]], dtype=float32)>"
      ]
     },
     "execution_count": 10,
     "metadata": {},
     "output_type": "execute_result"
    }
   ],
   "source": [
    "w_oo"
   ]
  },
  {
   "cell_type": "code",
   "execution_count": 11,
   "id": "6e0e1ada",
   "metadata": {},
   "outputs": [
    {
     "data": {
      "text/plain": [
       "<tf.Variable 'simple_rnn_cell_1/bias:0' shape=(2,) dtype=float32, numpy=array([0., 0.], dtype=float32)>"
      ]
     },
     "execution_count": 11,
     "metadata": {},
     "output_type": "execute_result"
    }
   ],
   "source": [
    "b_h"
   ]
  },
  {
   "cell_type": "code",
   "execution_count": 12,
   "id": "51c2553c",
   "metadata": {},
   "outputs": [
    {
     "data": {
      "text/plain": [
       "<tf.Tensor: shape=(3, 5), dtype=float32, numpy=\n",
       "array([[1., 1., 1., 1., 1.],\n",
       "       [2., 2., 2., 2., 2.],\n",
       "       [3., 3., 3., 3., 3.]], dtype=float32)>"
      ]
     },
     "execution_count": 12,
     "metadata": {},
     "output_type": "execute_result"
    }
   ],
   "source": [
    "# call forward pass on the rnn_layer\n",
    "# then manually compute the outputs each step\n",
    "x_seq = tf.convert_to_tensor([[1.0]*5, [2.0]*5, [3.0]*5],\n",
    "                            dtype = tf.float32)\n",
    "x_seq"
   ]
  },
  {
   "cell_type": "code",
   "execution_count": 14,
   "id": "ea2617c5",
   "metadata": {},
   "outputs": [
    {
     "data": {
      "text/plain": [
       "<tf.Tensor: shape=(1, 3, 2), dtype=float32, numpy=\n",
       "array([[[ 0.17312294, -0.601329  ],\n",
       "        [ 0.6816086 , -0.94566447],\n",
       "        [ 0.92478275, -0.98611367]]], dtype=float32)>"
      ]
     },
     "execution_count": 14,
     "metadata": {},
     "output_type": "execute_result"
    }
   ],
   "source": [
    "# compute output of simpleRNN\n",
    "output = rnn_layer(tf.reshape(x_seq, shape = (1, 3, 5)))\n",
    "output"
   ]
  },
  {
   "cell_type": "code",
   "execution_count": 16,
   "id": "78f186fc",
   "metadata": {},
   "outputs": [
    {
     "name": "stdout",
     "output_type": "stream",
     "text": [
      "Time step 0 =>\n",
      "Input : [[1. 1. 1. 1. 1.]]\n",
      "Hidden : [[ 0.17488432 -0.6952264 ]]\n",
      "Output (manual):  [[ 0.17312294 -0.601329  ]]\n",
      "SimpleRNN output:  [ 0.17312294 -0.601329  ]\n",
      "\n",
      "Time step 1 =>\n",
      "Input : [[2. 2. 2. 2. 2.]]\n",
      "Hidden : [[ 0.34976864 -1.3904527 ]]\n",
      "Output (manual):  [[ 0.6816086  -0.94566447]]\n",
      "SimpleRNN output:  [ 0.6816086  -0.94566447]\n",
      "\n",
      "Time step 2 =>\n",
      "Input : [[3. 3. 3. 3. 3.]]\n",
      "Hidden : [[ 0.52465284 -2.085679  ]]\n",
      "Output (manual):  [[ 0.92478275 -0.98611367]]\n",
      "SimpleRNN output:  [ 0.92478275 -0.98611367]\n",
      "\n"
     ]
    }
   ],
   "source": [
    "# compute output manually\n",
    "out_man = []\n",
    "for t in range(len(x_seq)):\n",
    "    xt = tf.reshape(x_seq[t], (1, 5))\n",
    "    print('Time step {} =>'.format(t))\n",
    "    print('Input :', xt.numpy())\n",
    "    ht = tf.matmul(xt, w_xh) + b_h\n",
    "    print('Hidden :', ht.numpy())\n",
    "    if t>0:\n",
    "        prev_o = out_man[t-1]\n",
    "    else:\n",
    "        prev_o = tf.zeros(shape=(ht.shape))\n",
    "    ot = ht + tf.matmul(prev_o, w_oo)\n",
    "    ot = tf.math.tanh(ot)\n",
    "    out_man.append(ot)\n",
    "    print('Output (manual): ', ot.numpy())\n",
    "    print('SimpleRNN output: '.format(t), output[0][t].numpy())\n",
    "    print()"
   ]
  },
  {
   "cell_type": "code",
   "execution_count": null,
   "id": "37a2b805",
   "metadata": {},
   "outputs": [],
   "source": []
  },
  {
   "cell_type": "code",
   "execution_count": null,
   "id": "4a39a0e8",
   "metadata": {},
   "outputs": [],
   "source": []
  },
  {
   "cell_type": "code",
   "execution_count": null,
   "id": "a5e1ea95",
   "metadata": {},
   "outputs": [],
   "source": []
  },
  {
   "cell_type": "code",
   "execution_count": null,
   "id": "07bbee4d",
   "metadata": {},
   "outputs": [],
   "source": []
  },
  {
   "cell_type": "code",
   "execution_count": null,
   "id": "fe673a98",
   "metadata": {},
   "outputs": [],
   "source": []
  },
  {
   "cell_type": "code",
   "execution_count": null,
   "id": "d99dff86",
   "metadata": {},
   "outputs": [],
   "source": []
  }
 ],
 "metadata": {
  "kernelspec": {
   "display_name": "Python 3",
   "language": "python",
   "name": "python3"
  },
  "language_info": {
   "codemirror_mode": {
    "name": "ipython",
    "version": 3
   },
   "file_extension": ".py",
   "mimetype": "text/x-python",
   "name": "python",
   "nbconvert_exporter": "python",
   "pygments_lexer": "ipython3",
   "version": "3.6.13"
  }
 },
 "nbformat": 4,
 "nbformat_minor": 5
}
