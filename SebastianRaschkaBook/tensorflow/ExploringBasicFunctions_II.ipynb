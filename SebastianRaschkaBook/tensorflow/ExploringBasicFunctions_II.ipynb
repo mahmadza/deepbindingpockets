{
 "cells": [
  {
   "cell_type": "code",
   "execution_count": 1,
   "id": "enhanced-heath",
   "metadata": {},
   "outputs": [],
   "source": [
    "import tensorflow as tf"
   ]
  },
  {
   "cell_type": "code",
   "execution_count": 2,
   "id": "charming-copyright",
   "metadata": {},
   "outputs": [
    {
     "data": {
      "text/plain": [
       "<tf.Tensor: id=7, shape=(4, 3), dtype=float32, numpy=\n",
       "array([[0.16513085, 0.9014813 , 0.6309742 ],\n",
       "       [0.4345461 , 0.29193902, 0.64250207],\n",
       "       [0.9757855 , 0.43509948, 0.6601019 ],\n",
       "       [0.60489583, 0.6366315 , 0.6144488 ]], dtype=float32)>"
      ]
     },
     "execution_count": 2,
     "metadata": {},
     "output_type": "execute_result"
    }
   ],
   "source": [
    "tf.random.set_seed(1)\n",
    "t_x = tf.random.uniform([4,3], dtype = tf.float32)\n",
    "t_x"
   ]
  },
  {
   "cell_type": "code",
   "execution_count": 3,
   "id": "residential-margin",
   "metadata": {},
   "outputs": [
    {
     "data": {
      "text/plain": [
       "<tf.Tensor: id=11, shape=(4,), dtype=int32, numpy=array([0, 1, 2, 3], dtype=int32)>"
      ]
     },
     "execution_count": 3,
     "metadata": {},
     "output_type": "execute_result"
    }
   ],
   "source": [
    "t_y = tf.range(4)\n",
    "t_y"
   ]
  },
  {
   "cell_type": "code",
   "execution_count": 5,
   "id": "frequent-cement",
   "metadata": {},
   "outputs": [],
   "source": [
    "ds_x = tf.data.Dataset.from_tensor_slices(t_x)\n",
    "ds_y = tf.data.Dataset.from_tensor_slices(t_y)"
   ]
  },
  {
   "cell_type": "code",
   "execution_count": 6,
   "id": "hispanic-module",
   "metadata": {},
   "outputs": [
    {
     "name": "stdout",
     "output_type": "stream",
     "text": [
      "x: [0.16513085 0.9014813  0.6309742 ] y: 0\n",
      "x: [0.4345461  0.29193902 0.64250207] y: 1\n",
      "x: [0.9757855  0.43509948 0.6601019 ] y: 2\n",
      "x: [0.60489583 0.6366315  0.6144488 ] y: 3\n"
     ]
    }
   ],
   "source": [
    "ds_joint = tf.data.Dataset.zip((ds_x, ds_y))\n",
    "for i in ds_joint:\n",
    "    print('x:', i[0].numpy(), 'y:', i[1].numpy())"
   ]
  },
  {
   "cell_type": "code",
   "execution_count": 9,
   "id": "together-jaguar",
   "metadata": {},
   "outputs": [
    {
     "name": "stdout",
     "output_type": "stream",
     "text": [
      "(<tf.Tensor: id=34, shape=(3,), dtype=float32, numpy=array([0.16513085, 0.9014813 , 0.6309742 ], dtype=float32)>, <tf.Tensor: id=35, shape=(), dtype=int32, numpy=0>)\n",
      "(<tf.Tensor: id=36, shape=(3,), dtype=float32, numpy=array([0.4345461 , 0.29193902, 0.64250207], dtype=float32)>, <tf.Tensor: id=37, shape=(), dtype=int32, numpy=1>)\n",
      "(<tf.Tensor: id=38, shape=(3,), dtype=float32, numpy=array([0.9757855 , 0.43509948, 0.6601019 ], dtype=float32)>, <tf.Tensor: id=39, shape=(), dtype=int32, numpy=2>)\n",
      "(<tf.Tensor: id=40, shape=(3,), dtype=float32, numpy=array([0.60489583, 0.6366315 , 0.6144488 ], dtype=float32)>, <tf.Tensor: id=41, shape=(), dtype=int32, numpy=3>)\n"
     ]
    }
   ],
   "source": [
    "for i in ds_joint:\n",
    "    print(i)"
   ]
  },
  {
   "cell_type": "code",
   "execution_count": 10,
   "id": "commercial-utilization",
   "metadata": {},
   "outputs": [
    {
     "name": "stdout",
     "output_type": "stream",
     "text": [
      "x: [0.16513085 0.9014813  0.6309742 ] y: 0\n",
      "x: [0.4345461  0.29193902 0.64250207] y: 1\n",
      "x: [0.9757855  0.43509948 0.6601019 ] y: 2\n",
      "x: [0.60489583 0.6366315  0.6144488 ] y: 3\n"
     ]
    }
   ],
   "source": [
    "ds_joint = tf.data.Dataset.from_tensor_slices((t_x, t_y))\n",
    "for i in ds_joint:\n",
    "    print('x:', i[0].numpy(), 'y:', i[1].numpy())"
   ]
  },
  {
   "cell_type": "code",
   "execution_count": 11,
   "id": "polar-reason",
   "metadata": {},
   "outputs": [
    {
     "name": "stdout",
     "output_type": "stream",
     "text": [
      "x: [-0.6697383   0.80296254  0.26194835] y: 0\n",
      "x: [-0.13090777 -0.41612196  0.28500414] y: 1\n",
      "x: [ 0.951571   -0.12980103  0.32020378] y: 2\n",
      "x: [0.20979166 0.27326298 0.22889757] y: 3\n"
     ]
    }
   ],
   "source": [
    "ds_trans = ds_joint.map(lambda x, y: (x*2 - 1.0, y))\n",
    "for i in ds_trans:\n",
    "    print('x:', i[0].numpy(), 'y:', i[1].numpy())"
   ]
  },
  {
   "cell_type": "code",
   "execution_count": 12,
   "id": "owned-participation",
   "metadata": {},
   "outputs": [
    {
     "name": "stdout",
     "output_type": "stream",
     "text": [
      "x:  [0.9757855  0.43509948 0.6601019 ] y:  2\n",
      "x:  [0.4345461  0.29193902 0.64250207] y:  1\n",
      "x:  [0.16513085 0.9014813  0.6309742 ] y:  0\n",
      "x:  [0.60489583 0.6366315  0.6144488 ] y:  3\n"
     ]
    }
   ],
   "source": [
    "tf.random.set_seed(1)\n",
    "ds = ds_joint.shuffle(buffer_size = len(t_x))\n",
    "for example in ds:\n",
    "    print('x: ', example[0].numpy(), 'y: ', example[1].numpy())"
   ]
  },
  {
   "cell_type": "code",
   "execution_count": 15,
   "id": "binary-reader",
   "metadata": {},
   "outputs": [
    {
     "data": {
      "text/plain": [
       "[]"
      ]
     },
     "execution_count": 15,
     "metadata": {},
     "output_type": "execute_result"
    }
   ],
   "source": [
    "import pathlib\n",
    "imgdir_path = pathlib.Path('cat_dog_images')\n",
    "file_list = sorted([str(path) for path in imgdir_path.glob('*.jpg')])\n",
    "file_list"
   ]
  },
  {
   "cell_type": "code",
   "execution_count": null,
   "id": "original-foundation",
   "metadata": {},
   "outputs": [],
   "source": []
  },
  {
   "cell_type": "code",
   "execution_count": null,
   "id": "marine-planet",
   "metadata": {},
   "outputs": [],
   "source": []
  },
  {
   "cell_type": "code",
   "execution_count": null,
   "id": "dependent-typing",
   "metadata": {},
   "outputs": [],
   "source": []
  },
  {
   "cell_type": "code",
   "execution_count": null,
   "id": "musical-pottery",
   "metadata": {},
   "outputs": [],
   "source": []
  },
  {
   "cell_type": "code",
   "execution_count": null,
   "id": "polish-million",
   "metadata": {},
   "outputs": [],
   "source": []
  },
  {
   "cell_type": "code",
   "execution_count": null,
   "id": "cheap-fifteen",
   "metadata": {},
   "outputs": [],
   "source": []
  }
 ],
 "metadata": {
  "kernelspec": {
   "display_name": "Python 3",
   "language": "python",
   "name": "python3"
  },
  "language_info": {
   "codemirror_mode": {
    "name": "ipython",
    "version": 3
   },
   "file_extension": ".py",
   "mimetype": "text/x-python",
   "name": "python",
   "nbconvert_exporter": "python",
   "pygments_lexer": "ipython3",
   "version": "3.6.10"
  }
 },
 "nbformat": 4,
 "nbformat_minor": 5
}
