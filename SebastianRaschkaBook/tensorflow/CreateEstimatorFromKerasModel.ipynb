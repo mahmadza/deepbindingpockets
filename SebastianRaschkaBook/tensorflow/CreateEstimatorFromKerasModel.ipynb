{
 "cells": [
  {
   "cell_type": "code",
   "execution_count": 1,
   "id": "e234b045",
   "metadata": {},
   "outputs": [],
   "source": [
    "import numpy as np\n",
    "import tensorflow as tf"
   ]
  },
  {
   "cell_type": "code",
   "execution_count": 3,
   "id": "2b7f1692",
   "metadata": {},
   "outputs": [],
   "source": [
    "tf.random.set_seed(1)\n",
    "np.random.seed(1)"
   ]
  },
  {
   "cell_type": "code",
   "execution_count": 4,
   "id": "97499664",
   "metadata": {},
   "outputs": [],
   "source": [
    "x = np.random.uniform(low = -1, high = 1, size = (200, 2))\n",
    "y = np.ones(len(x))\n",
    "y[x[:, 0] * x[:,1]<0] = 0"
   ]
  },
  {
   "cell_type": "code",
   "execution_count": 5,
   "id": "82a23ab6",
   "metadata": {},
   "outputs": [],
   "source": [
    "x_train = x[:100, :]\n",
    "y_train = y[:100]\n",
    "x_valid = x[100:, :]\n",
    "y_valid = y[100:]"
   ]
  },
  {
   "cell_type": "code",
   "execution_count": 6,
   "id": "e07baca9",
   "metadata": {},
   "outputs": [],
   "source": [
    "# build a keras model using Sequential\n",
    "model = tf.keras.Sequential([\n",
    "    tf.keras.layers.Input(shape = (2,), name = 'input-features'),\n",
    "    tf.keras.layers.Dense(units = 4, activation = 'relu'),\n",
    "    tf.keras.layers.Dense(units = 4, activation = 'relu'),\n",
    "    tf.keras.layers.Dense(units = 4, activation = 'relu'),\n",
    "    tf.keras.layers.Dense(1, activation = 'sigmoid'),\n",
    "])"
   ]
  },
  {
   "cell_type": "code",
   "execution_count": null,
   "id": "bb0b2225",
   "metadata": {},
   "outputs": [],
   "source": []
  }
 ],
 "metadata": {
  "kernelspec": {
   "display_name": "Python 3",
   "language": "python",
   "name": "python3"
  },
  "language_info": {
   "codemirror_mode": {
    "name": "ipython",
    "version": 3
   },
   "file_extension": ".py",
   "mimetype": "text/x-python",
   "name": "python",
   "nbconvert_exporter": "python",
   "pygments_lexer": "ipython3",
   "version": "3.6.13"
  }
 },
 "nbformat": 4,
 "nbformat_minor": 5
}
