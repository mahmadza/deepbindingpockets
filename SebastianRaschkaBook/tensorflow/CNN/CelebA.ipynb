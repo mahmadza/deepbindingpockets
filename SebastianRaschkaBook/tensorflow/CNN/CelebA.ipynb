{
 "cells": [
  {
   "cell_type": "code",
   "execution_count": 1,
   "id": "c8e53ad9",
   "metadata": {},
   "outputs": [],
   "source": [
    "import tensorflow as tf\n",
    "import tensorflow_datasets as tfds\n",
    "\n",
    "celeba_bldr = tfds.builder('celeb_a')\n",
    "celeba_bldr.download_and_prepare()\n",
    "celeba = celeba_bldr.as_dataset(shuffle_files=False)\n",
    "\n",
    "celeba_train = celeba['train']\n",
    "celeba_valid = celeba['validation']\n",
    "celeba_test = celeba['test']\n",
    "\n",
    "def count_items(ds):\n",
    "    n = 0\n",
    "    for _ in ds:\n",
    "        n += 1\n",
    "    return n"
   ]
  },
  {
   "cell_type": "code",
   "execution_count": 2,
   "id": "78a89299",
   "metadata": {},
   "outputs": [
    {
     "name": "stdout",
     "output_type": "stream",
     "text": [
      "Train set:  162770\n"
     ]
    }
   ],
   "source": [
    "print('Train set:  {}'.format(count_items(celeba_train)))"
   ]
  },
  {
   "cell_type": "code",
   "execution_count": 3,
   "id": "55855319",
   "metadata": {},
   "outputs": [
    {
     "name": "stdout",
     "output_type": "stream",
     "text": [
      "Validation: 19867\n"
     ]
    }
   ],
   "source": [
    "print('Validation: {}'.format(count_items(celeba_valid)))"
   ]
  },
  {
   "cell_type": "code",
   "execution_count": 4,
   "id": "23d4423a",
   "metadata": {},
   "outputs": [
    {
     "name": "stdout",
     "output_type": "stream",
     "text": [
      "Test set:   19962\n"
     ]
    }
   ],
   "source": [
    "print('Test set:   {}'.format(count_items(celeba_test)))"
   ]
  },
  {
   "cell_type": "code",
   "execution_count": 5,
   "id": "efd2f417",
   "metadata": {},
   "outputs": [],
   "source": [
    "# take a subset only\n",
    "celeba_train = celeba_train.take(16000)\n",
    "celeba_valid = celeba_valid.take(1000)"
   ]
  },
  {
   "cell_type": "code",
   "execution_count": 6,
   "id": "ccc6e984",
   "metadata": {},
   "outputs": [],
   "source": [
    "import matplotlib.pyplot as plt"
   ]
  },
  {
   "cell_type": "code",
   "execution_count": 9,
   "id": "517b378b",
   "metadata": {},
   "outputs": [],
   "source": [
    "examples = []\n",
    "for example in celeba_train.take(5):\n",
    "    examples.append(example['image'])"
   ]
  },
  {
   "cell_type": "code",
   "execution_count": 10,
   "id": "5e687af5",
   "metadata": {},
   "outputs": [],
   "source": [
    "%config Completer.use_jedi = False"
   ]
  },
  {
   "cell_type": "code",
   "execution_count": null,
   "id": "10aa4c46",
   "metadata": {},
   "outputs": [],
   "source": []
  },
  {
   "cell_type": "code",
   "execution_count": null,
   "id": "bb0a607f",
   "metadata": {},
   "outputs": [],
   "source": []
  },
  {
   "cell_type": "code",
   "execution_count": null,
   "id": "75490c40",
   "metadata": {},
   "outputs": [],
   "source": []
  },
  {
   "cell_type": "code",
   "execution_count": null,
   "id": "f08af46b",
   "metadata": {},
   "outputs": [],
   "source": []
  },
  {
   "cell_type": "code",
   "execution_count": null,
   "id": "46958bd7",
   "metadata": {},
   "outputs": [],
   "source": []
  },
  {
   "cell_type": "code",
   "execution_count": null,
   "id": "a0a8be5e",
   "metadata": {},
   "outputs": [],
   "source": []
  },
  {
   "cell_type": "code",
   "execution_count": null,
   "id": "3ac88a4d",
   "metadata": {},
   "outputs": [],
   "source": []
  }
 ],
 "metadata": {
  "kernelspec": {
   "display_name": "Python 3",
   "language": "python",
   "name": "python3"
  },
  "language_info": {
   "codemirror_mode": {
    "name": "ipython",
    "version": 3
   },
   "file_extension": ".py",
   "mimetype": "text/x-python",
   "name": "python",
   "nbconvert_exporter": "python",
   "pygments_lexer": "ipython3",
   "version": "3.6.13"
  }
 },
 "nbformat": 4,
 "nbformat_minor": 5
}
