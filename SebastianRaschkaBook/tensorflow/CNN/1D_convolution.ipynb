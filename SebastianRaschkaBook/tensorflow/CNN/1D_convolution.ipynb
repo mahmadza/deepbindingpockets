{
 "cells": [
  {
   "cell_type": "code",
   "execution_count": 1,
   "id": "feee6adf",
   "metadata": {},
   "outputs": [],
   "source": [
    "import numpy as np"
   ]
  },
  {
   "cell_type": "code",
   "execution_count": 23,
   "id": "5c11a154",
   "metadata": {},
   "outputs": [],
   "source": [
    "def conv1d(x, w, p=0, s=1):\n",
    "    \n",
    "    x_padded = np.array(x)\n",
    "\n",
    "    # reverse w\n",
    "    w_rot = np.array(w[::-1])\n",
    "    \n",
    "    # pad zeros to x\n",
    "    if p > 0:\n",
    "        zero_pad = np.zeros(shape = p)\n",
    "        x_padded = np.concatenate([zero_pad, x_padded, zero_pad])\n",
    "\n",
    "    res = []\n",
    "    for i in range(0, int(len(x)/s), s):\n",
    "        res.append(np.sum(x_padded[i:i + w_rot.shape[0]] * w_rot))\n",
    "    return np.array(res)"
   ]
  },
  {
   "cell_type": "code",
   "execution_count": 24,
   "id": "0e0d7b7e",
   "metadata": {},
   "outputs": [],
   "source": [
    "x = [1, 3, 2, 4, 5, 6, 1, 3]\n",
    "w = [1, 0, 3, 1, 2]"
   ]
  },
  {
   "cell_type": "code",
   "execution_count": 25,
   "id": "23c2cd0b",
   "metadata": {},
   "outputs": [
    {
     "data": {
      "text/plain": [
       "array([ 5., 14., 16., 26., 24., 34., 19., 22.])"
      ]
     },
     "execution_count": 25,
     "metadata": {},
     "output_type": "execute_result"
    }
   ],
   "source": [
    "conv1d(x, w, p = 2, s =1)"
   ]
  },
  {
   "cell_type": "code",
   "execution_count": 26,
   "id": "6c9cf80f",
   "metadata": {},
   "outputs": [
    {
     "data": {
      "text/plain": [
       "array([ 5, 14, 16, 26, 24, 34, 19, 22])"
      ]
     },
     "execution_count": 26,
     "metadata": {},
     "output_type": "execute_result"
    }
   ],
   "source": [
    "# if use numpy function\n",
    "np.convolve(x, w, mode = 'same')"
   ]
  },
  {
   "cell_type": "code",
   "execution_count": null,
   "id": "4c435ca9",
   "metadata": {},
   "outputs": [],
   "source": []
  }
 ],
 "metadata": {
  "kernelspec": {
   "display_name": "Python 3",
   "language": "python",
   "name": "python3"
  },
  "language_info": {
   "codemirror_mode": {
    "name": "ipython",
    "version": 3
   },
   "file_extension": ".py",
   "mimetype": "text/x-python",
   "name": "python",
   "nbconvert_exporter": "python",
   "pygments_lexer": "ipython3",
   "version": "3.6.13"
  }
 },
 "nbformat": 4,
 "nbformat_minor": 5
}
