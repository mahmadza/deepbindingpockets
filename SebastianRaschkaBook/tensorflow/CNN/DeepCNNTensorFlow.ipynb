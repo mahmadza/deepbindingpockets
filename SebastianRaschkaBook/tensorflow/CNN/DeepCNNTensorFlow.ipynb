{
 "cells": [
  {
   "cell_type": "code",
   "execution_count": 1,
   "id": "a9c72d95",
   "metadata": {},
   "outputs": [],
   "source": [
    "import tensorflow_datasets as tfds\n",
    "import tensorflow as tf\n",
    "mnist_bldr = tfds.builder('mnist')\n",
    "mnist_bldr.download_and_prepare()\n",
    "datasets = mnist_bldr.as_dataset(shuffle_files = False)\n",
    "mnist_train_orig = datasets['train']\n",
    "mnist_test_orig = datasets['test']"
   ]
  },
  {
   "cell_type": "code",
   "execution_count": 2,
   "id": "e5de6ee4",
   "metadata": {},
   "outputs": [],
   "source": [
    "BUFFER_SIZE = 10000\n",
    "BATCH_SIZE = 64\n",
    "NUM_EPOCS = 20"
   ]
  },
  {
   "cell_type": "code",
   "execution_count": 3,
   "id": "21d6cbcc",
   "metadata": {},
   "outputs": [],
   "source": [
    "mnist_train = mnist_train_orig.map(lambda item: (tf.cast(item['image'], tf.float32)/255.0,\n",
    "                                                tf.cast(item['label'], tf.int32)))\n",
    "mnist_test = mnist_test_orig.map(lambda item: (tf.cast(item['image'], tf.float32)/255.0,\n",
    "                                                tf.cast(item['label'], tf.int32)))"
   ]
  },
  {
   "cell_type": "code",
   "execution_count": 4,
   "id": "18797a87",
   "metadata": {},
   "outputs": [],
   "source": [
    "tf.random.set_seed(1)\n",
    "mnist_train = mnist_train.shuffle(buffer_size = BUFFER_SIZE,\n",
    "                                 reshuffle_each_iteration = False)"
   ]
  },
  {
   "cell_type": "code",
   "execution_count": 5,
   "id": "4e2f32e7",
   "metadata": {},
   "outputs": [],
   "source": [
    "mnist_valid = mnist_train.take(10000).batch(BATCH_SIZE)\n",
    "mnist_train = mnist_train.skip(10000).batch(BATCH_SIZE)"
   ]
  },
  {
   "cell_type": "code",
   "execution_count": 6,
   "id": "554274f8",
   "metadata": {},
   "outputs": [],
   "source": [
    "model = tf.keras.Sequential()\n",
    "model.add(tf.keras.layers.Conv2D(filters = 32,\n",
    "                                kernel_size = (5,5),\n",
    "                                strides = (1,1),\n",
    "                                padding = 'same',\n",
    "                                data_format = 'channels_last',\n",
    "                                name = 'conv_1', activation = 'relu'))\n",
    "model.add(tf.keras.layers.MaxPool2D(pool_size = (2,2), name = 'pool_1'))\n",
    "model.add(tf.keras.layers.Conv2D(filters = 64,\n",
    "                                kernel_size = (5,5),\n",
    "                                strides = (1,1),\n",
    "                                padding = 'same',\n",
    "                                name = 'conv_2',\n",
    "                                activation = 'relu'))\n",
    "model.add(tf.keras.layers.MaxPool2D(pool_size = (2,2), name = 'pool_2'))"
   ]
  },
  {
   "cell_type": "code",
   "execution_count": 7,
   "id": "d3dab30b",
   "metadata": {},
   "outputs": [
    {
     "data": {
      "text/plain": [
       "TensorShape([16, 7, 7, 64])"
      ]
     },
     "execution_count": 7,
     "metadata": {},
     "output_type": "execute_result"
    }
   ],
   "source": [
    "# calculate size of feature map\n",
    "model.compute_output_shape(input_shape = (16, 28, 28, 1))"
   ]
  },
  {
   "cell_type": "code",
   "execution_count": 8,
   "id": "6449523a",
   "metadata": {},
   "outputs": [
    {
     "data": {
      "text/plain": [
       "TensorShape([16, 3136])"
      ]
     },
     "execution_count": 8,
     "metadata": {},
     "output_type": "execute_result"
    }
   ],
   "source": [
    "# add dense layer for classifier\n",
    "# flatten first\n",
    "model.add(tf.keras.layers.Flatten())\n",
    "model.compute_output_shape(input_shape = (16,28,28, 1))"
   ]
  },
  {
   "cell_type": "code",
   "execution_count": 9,
   "id": "511393bb",
   "metadata": {},
   "outputs": [],
   "source": [
    "# add two dense layers with dropout layer in between\n",
    "model.add(tf.keras.layers.Dense(units = 1024,\n",
    "                              name = 'fc_l',\n",
    "                              activation = 'relu'))\n",
    "model.add(tf.keras.layers.Dropout(rate = 0.5))\n",
    "model.add(tf.keras.layers.Dense(units = 10,\n",
    "                               name = 'fc_2',\n",
    "                               activation = 'softmax'))"
   ]
  },
  {
   "cell_type": "code",
   "execution_count": 10,
   "id": "58887f40",
   "metadata": {},
   "outputs": [],
   "source": [
    "tf.random.set_seed(1)"
   ]
  },
  {
   "cell_type": "code",
   "execution_count": 12,
   "id": "b5c0a6c3",
   "metadata": {},
   "outputs": [],
   "source": [
    "model.build(input_shape = (None, 28, 28, 1))\n",
    "model.compile(optimizer = tf.keras.optimizers.Adam(),\n",
    "             loss = tf.keras.losses.SparseCategoricalCrossentropy(),\n",
    "             metrics = ['accuracy'])"
   ]
  },
  {
   "cell_type": "code",
   "execution_count": null,
   "id": "17517852",
   "metadata": {},
   "outputs": [],
   "source": []
  }
 ],
 "metadata": {
  "kernelspec": {
   "display_name": "Python 3",
   "language": "python",
   "name": "python3"
  },
  "language_info": {
   "codemirror_mode": {
    "name": "ipython",
    "version": 3
   },
   "file_extension": ".py",
   "mimetype": "text/x-python",
   "name": "python",
   "nbconvert_exporter": "python",
   "pygments_lexer": "ipython3",
   "version": "3.6.13"
  }
 },
 "nbformat": 4,
 "nbformat_minor": 5
}
