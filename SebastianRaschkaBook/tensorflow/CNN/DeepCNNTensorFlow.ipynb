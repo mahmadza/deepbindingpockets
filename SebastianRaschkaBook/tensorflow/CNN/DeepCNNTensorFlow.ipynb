{
 "cells": [
  {
   "cell_type": "code",
   "execution_count": 1,
   "id": "a9c72d95",
   "metadata": {},
   "outputs": [],
   "source": [
    "import tensorflow_datasets as tfds\n",
    "import tensorflow as tf\n",
    "mnist_bldr = tfds.builder('mnist')\n",
    "mnist_bldr.download_and_prepare()\n",
    "datasets = mnist_bldr.as_dataset(shuffle_files = False)\n",
    "mnist_train_orig = datasets['train']\n",
    "mnist_test_orig = datasets['test']"
   ]
  },
  {
   "cell_type": "code",
   "execution_count": 14,
   "id": "e5de6ee4",
   "metadata": {},
   "outputs": [],
   "source": [
    "BUFFER_SIZE = 10000\n",
    "BATCH_SIZE = 64\n",
    "NUM_EPOCHS = 20"
   ]
  },
  {
   "cell_type": "code",
   "execution_count": 3,
   "id": "21d6cbcc",
   "metadata": {},
   "outputs": [],
   "source": [
    "mnist_train = mnist_train_orig.map(lambda item: (tf.cast(item['image'], tf.float32)/255.0,\n",
    "                                                tf.cast(item['label'], tf.int32)))\n",
    "mnist_test = mnist_test_orig.map(lambda item: (tf.cast(item['image'], tf.float32)/255.0,\n",
    "                                                tf.cast(item['label'], tf.int32)))"
   ]
  },
  {
   "cell_type": "code",
   "execution_count": 4,
   "id": "18797a87",
   "metadata": {},
   "outputs": [],
   "source": [
    "tf.random.set_seed(1)\n",
    "mnist_train = mnist_train.shuffle(buffer_size = BUFFER_SIZE,\n",
    "                                 reshuffle_each_iteration = False)"
   ]
  },
  {
   "cell_type": "code",
   "execution_count": 5,
   "id": "4e2f32e7",
   "metadata": {},
   "outputs": [],
   "source": [
    "mnist_valid = mnist_train.take(10000).batch(BATCH_SIZE)\n",
    "mnist_train = mnist_train.skip(10000).batch(BATCH_SIZE)"
   ]
  },
  {
   "cell_type": "code",
   "execution_count": 6,
   "id": "554274f8",
   "metadata": {},
   "outputs": [],
   "source": [
    "model = tf.keras.Sequential()\n",
    "model.add(tf.keras.layers.Conv2D(filters = 32,\n",
    "                                kernel_size = (5,5),\n",
    "                                strides = (1,1),\n",
    "                                padding = 'same',\n",
    "                                data_format = 'channels_last',\n",
    "                                name = 'conv_1', activation = 'relu'))\n",
    "model.add(tf.keras.layers.MaxPool2D(pool_size = (2,2), name = 'pool_1'))\n",
    "model.add(tf.keras.layers.Conv2D(filters = 64,\n",
    "                                kernel_size = (5,5),\n",
    "                                strides = (1,1),\n",
    "                                padding = 'same',\n",
    "                                name = 'conv_2',\n",
    "                                activation = 'relu'))\n",
    "model.add(tf.keras.layers.MaxPool2D(pool_size = (2,2), name = 'pool_2'))"
   ]
  },
  {
   "cell_type": "code",
   "execution_count": 7,
   "id": "c008d071",
   "metadata": {},
   "outputs": [
    {
     "data": {
      "text/plain": [
       "TensorShape([16, 7, 7, 64])"
      ]
     },
     "execution_count": 7,
     "metadata": {},
     "output_type": "execute_result"
    }
   ],
   "source": [
    "# calculate size of feature map\n",
    "model.compute_output_shape(input_shape = (16, 28, 28, 1))"
   ]
  },
  {
   "cell_type": "code",
   "execution_count": 8,
   "id": "88a9c406",
   "metadata": {},
   "outputs": [
    {
     "data": {
      "text/plain": [
       "TensorShape([16, 3136])"
      ]
     },
     "execution_count": 8,
     "metadata": {},
     "output_type": "execute_result"
    }
   ],
   "source": [
    "# add dense layer for classifier\n",
    "# flatten first\n",
    "model.add(tf.keras.layers.Flatten())\n",
    "model.compute_output_shape(input_shape = (16,28,28, 1))"
   ]
  },
  {
   "cell_type": "code",
   "execution_count": 9,
   "id": "d4b255d1",
   "metadata": {},
   "outputs": [],
   "source": [
    "# add two dense layers with dropout layer in between\n",
    "model.add(tf.keras.layers.Dense(units = 1024,\n",
    "                              name = 'fc_l',\n",
    "                              activation = 'relu'))\n",
    "model.add(tf.keras.layers.Dropout(rate = 0.5))\n",
    "model.add(tf.keras.layers.Dense(units = 10,\n",
    "                               name = 'fc_2',\n",
    "                               activation = 'softmax'))"
   ]
  },
  {
   "cell_type": "code",
   "execution_count": 10,
   "id": "301390fb",
   "metadata": {},
   "outputs": [],
   "source": [
    "tf.random.set_seed(1)"
   ]
  },
  {
   "cell_type": "code",
   "execution_count": 12,
   "id": "d356235e",
   "metadata": {},
   "outputs": [],
   "source": [
    "model.build(input_shape = (None, 28, 28, 1))\n",
    "model.compile(optimizer = tf.keras.optimizers.Adam(),\n",
    "             loss = tf.keras.losses.SparseCategoricalCrossentropy(),\n",
    "             metrics = ['accuracy'])"
   ]
  },
  {
   "cell_type": "code",
   "execution_count": null,
   "id": "df73a72e",
   "metadata": {},
   "outputs": [
    {
     "name": "stdout",
     "output_type": "stream",
     "text": [
      "Epoch 1/20\n",
      "782/782 [==============================] - 106s 134ms/step - loss: 0.3113 - accuracy: 0.9017 - val_loss: 0.0466 - val_accuracy: 0.9853\n",
      "Epoch 2/20\n",
      "782/782 [==============================] - 91s 116ms/step - loss: 0.0483 - accuracy: 0.9853 - val_loss: 0.0384 - val_accuracy: 0.9879\n",
      "Epoch 3/20\n",
      "782/782 [==============================] - 83s 105ms/step - loss: 0.0304 - accuracy: 0.9898 - val_loss: 0.0431 - val_accuracy: 0.9867\n",
      "Epoch 4/20\n",
      "782/782 [==============================] - 89s 113ms/step - loss: 0.0254 - accuracy: 0.9923 - val_loss: 0.0347 - val_accuracy: 0.9893\n"
     ]
    }
   ],
   "source": [
    "history = model.fit(mnist_train, epochs = NUM_EPOCHS,\n",
    "                   validation_data = mnist_valid,\n",
    "                   shuffle = True)"
   ]
  },
  {
   "cell_type": "code",
   "execution_count": null,
   "id": "6fe29270",
   "metadata": {},
   "outputs": [],
   "source": [
    "import matplotlib.pyplot as plt\n",
    "hist = history.history\n",
    "x_arr = np.arange(len(hist['loss'])) + 1\n",
    "fig = plt.figure(figsize=(12, 4))\n",
    "ax = fig.add_subplot(1, 2, 1)\n",
    "ax.plot(x_arr, hist['loss'], '-o', label='Train loss')\n",
    "ax.plot(x_arr, hist['val_loss'], '--<', label='Validation loss')\n",
    "ax.legend(fontsize=15)\n",
    "ax = fig.add_subplot(1, 2, 2)\n",
    "ax.plot(x_arr, hist['accuracy'], '-o', label='Train acc.')\n",
    "ax.plot(x_arr, hist['val_accuracy'], '--<', label='Validation acc.')\n",
    "ax.legend(fontsize=15)\n",
    "plt.show()"
   ]
  }
 ],
 "metadata": {
  "kernelspec": {
   "display_name": "Python 3",
   "language": "python",
   "name": "python3"
  },
  "language_info": {
   "codemirror_mode": {
    "name": "ipython",
    "version": 3
   },
   "file_extension": ".py",
   "mimetype": "text/x-python",
   "name": "python",
   "nbconvert_exporter": "python",
   "pygments_lexer": "ipython3",
   "version": "3.6.13"
  }
 },
 "nbformat": 4,
 "nbformat_minor": 5
}
