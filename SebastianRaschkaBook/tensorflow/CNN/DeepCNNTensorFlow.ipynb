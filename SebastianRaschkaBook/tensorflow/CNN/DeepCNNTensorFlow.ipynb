{
 "cells": [
  {
   "cell_type": "code",
   "execution_count": 1,
   "id": "a9c72d95",
   "metadata": {},
   "outputs": [],
   "source": [
    "import tensorflow_datasets as tfds\n",
    "import tensorflow as tf\n",
    "mnist_bldr = tfds.builder('mnist')\n",
    "mnist_bldr.download_and_prepare()\n",
    "datasets = mnist_bldr.as_dataset(shuffle_files = False)\n",
    "mnist_train_orig = datasets['train']\n",
    "mnist_test_orig = datasets['test']"
   ]
  },
  {
   "cell_type": "code",
   "execution_count": 14,
   "id": "e5de6ee4",
   "metadata": {},
   "outputs": [],
   "source": [
    "BUFFER_SIZE = 10000\n",
    "BATCH_SIZE = 64\n",
    "NUM_EPOCHS = 20"
   ]
  },
  {
   "cell_type": "code",
   "execution_count": 3,
   "id": "21d6cbcc",
   "metadata": {},
   "outputs": [],
   "source": [
    "mnist_train = mnist_train_orig.map(lambda item: (tf.cast(item['image'], tf.float32)/255.0,\n",
    "                                                tf.cast(item['label'], tf.int32)))\n",
    "mnist_test = mnist_test_orig.map(lambda item: (tf.cast(item['image'], tf.float32)/255.0,\n",
    "                                                tf.cast(item['label'], tf.int32)))"
   ]
  },
  {
   "cell_type": "code",
   "execution_count": 4,
   "id": "18797a87",
   "metadata": {},
   "outputs": [],
   "source": [
    "tf.random.set_seed(1)\n",
    "mnist_train = mnist_train.shuffle(buffer_size = BUFFER_SIZE,\n",
    "                                 reshuffle_each_iteration = False)"
   ]
  },
  {
   "cell_type": "code",
   "execution_count": 5,
   "id": "4e2f32e7",
   "metadata": {},
   "outputs": [],
   "source": [
    "mnist_valid = mnist_train.take(10000).batch(BATCH_SIZE)\n",
    "mnist_train = mnist_train.skip(10000).batch(BATCH_SIZE)"
   ]
  },
  {
   "cell_type": "code",
   "execution_count": 6,
   "id": "554274f8",
   "metadata": {},
   "outputs": [],
   "source": [
    "model = tf.keras.Sequential()\n",
    "model.add(tf.keras.layers.Conv2D(filters = 32,\n",
    "                                kernel_size = (5,5),\n",
    "                                strides = (1,1),\n",
    "                                padding = 'same',\n",
    "                                data_format = 'channels_last',\n",
    "                                name = 'conv_1', activation = 'relu'))\n",
    "model.add(tf.keras.layers.MaxPool2D(pool_size = (2,2), name = 'pool_1'))\n",
    "model.add(tf.keras.layers.Conv2D(filters = 64,\n",
    "                                kernel_size = (5,5),\n",
    "                                strides = (1,1),\n",
    "                                padding = 'same',\n",
    "                                name = 'conv_2',\n",
    "                                activation = 'relu'))\n",
    "model.add(tf.keras.layers.MaxPool2D(pool_size = (2,2), name = 'pool_2'))"
   ]
  },
  {
   "cell_type": "code",
   "execution_count": 7,
   "id": "ff3f9c0b",
   "metadata": {},
   "outputs": [
    {
     "data": {
      "text/plain": [
       "TensorShape([16, 7, 7, 64])"
      ]
     },
     "execution_count": 7,
     "metadata": {},
     "output_type": "execute_result"
    }
   ],
   "source": [
    "# calculate size of feature map\n",
    "model.compute_output_shape(input_shape = (16, 28, 28, 1))"
   ]
  },
  {
   "cell_type": "code",
   "execution_count": 8,
   "id": "5d531bb7",
   "metadata": {},
   "outputs": [
    {
     "data": {
      "text/plain": [
       "TensorShape([16, 3136])"
      ]
     },
     "execution_count": 8,
     "metadata": {},
     "output_type": "execute_result"
    }
   ],
   "source": [
    "# add dense layer for classifier\n",
    "# flatten first\n",
    "model.add(tf.keras.layers.Flatten())\n",
    "model.compute_output_shape(input_shape = (16,28,28, 1))"
   ]
  },
  {
   "cell_type": "code",
   "execution_count": 9,
   "id": "c1aede60",
   "metadata": {},
   "outputs": [],
   "source": [
    "# add two dense layers with dropout layer in between\n",
    "model.add(tf.keras.layers.Dense(units = 1024,\n",
    "                              name = 'fc_l',\n",
    "                              activation = 'relu'))\n",
    "model.add(tf.keras.layers.Dropout(rate = 0.5))\n",
    "model.add(tf.keras.layers.Dense(units = 10,\n",
    "                               name = 'fc_2',\n",
    "                               activation = 'softmax'))"
   ]
  },
  {
   "cell_type": "code",
   "execution_count": 10,
   "id": "82acfec0",
   "metadata": {},
   "outputs": [],
   "source": [
    "tf.random.set_seed(1)"
   ]
  },
  {
   "cell_type": "code",
   "execution_count": 12,
   "id": "72e37ce1",
   "metadata": {},
   "outputs": [],
   "source": [
    "model.build(input_shape = (None, 28, 28, 1))\n",
    "model.compile(optimizer = tf.keras.optimizers.Adam(),\n",
    "             loss = tf.keras.losses.SparseCategoricalCrossentropy(),\n",
    "             metrics = ['accuracy'])"
   ]
  },
  {
   "cell_type": "code",
   "execution_count": 15,
   "id": "7feda649",
   "metadata": {},
   "outputs": [
    {
     "name": "stdout",
     "output_type": "stream",
     "text": [
      "Epoch 1/20\n",
      "782/782 [==============================] - 106s 134ms/step - loss: 0.3113 - accuracy: 0.9017 - val_loss: 0.0466 - val_accuracy: 0.9853\n",
      "Epoch 2/20\n",
      "782/782 [==============================] - 91s 116ms/step - loss: 0.0483 - accuracy: 0.9853 - val_loss: 0.0384 - val_accuracy: 0.9879\n",
      "Epoch 3/20\n",
      "782/782 [==============================] - 83s 105ms/step - loss: 0.0304 - accuracy: 0.9898 - val_loss: 0.0431 - val_accuracy: 0.9867\n",
      "Epoch 4/20\n",
      "782/782 [==============================] - 89s 113ms/step - loss: 0.0254 - accuracy: 0.9923 - val_loss: 0.0347 - val_accuracy: 0.9893\n",
      "Epoch 5/20\n",
      "782/782 [==============================] - 81s 103ms/step - loss: 0.0182 - accuracy: 0.9940 - val_loss: 0.0482 - val_accuracy: 0.9873\n",
      "Epoch 6/20\n",
      "782/782 [==============================] - 92s 116ms/step - loss: 0.0175 - accuracy: 0.9941 - val_loss: 0.0462 - val_accuracy: 0.9887\n",
      "Epoch 7/20\n",
      "782/782 [==============================] - 111s 141ms/step - loss: 0.0122 - accuracy: 0.9961 - val_loss: 0.0530 - val_accuracy: 0.9897\n",
      "Epoch 8/20\n",
      "782/782 [==============================] - 99s 125ms/step - loss: 0.0120 - accuracy: 0.9961 - val_loss: 0.0442 - val_accuracy: 0.9893\n",
      "Epoch 9/20\n",
      "782/782 [==============================] - 80s 101ms/step - loss: 0.0086 - accuracy: 0.9973 - val_loss: 0.0566 - val_accuracy: 0.9892\n",
      "Epoch 10/20\n",
      "782/782 [==============================] - 81s 102ms/step - loss: 0.0088 - accuracy: 0.9971 - val_loss: 0.0451 - val_accuracy: 0.9902\n",
      "Epoch 11/20\n",
      "782/782 [==============================] - 88s 112ms/step - loss: 0.0103 - accuracy: 0.9965 - val_loss: 0.0543 - val_accuracy: 0.9899\n",
      "Epoch 12/20\n",
      "782/782 [==============================] - 83s 105ms/step - loss: 0.0105 - accuracy: 0.9966 - val_loss: 0.0533 - val_accuracy: 0.9901\n",
      "Epoch 13/20\n",
      "782/782 [==============================] - 83s 105ms/step - loss: 0.0060 - accuracy: 0.9980 - val_loss: 0.0673 - val_accuracy: 0.9889\n",
      "Epoch 14/20\n",
      "782/782 [==============================] - 85s 107ms/step - loss: 0.0091 - accuracy: 0.9974 - val_loss: 0.0499 - val_accuracy: 0.9918\n",
      "Epoch 15/20\n",
      "782/782 [==============================] - 84s 106ms/step - loss: 0.0049 - accuracy: 0.9986 - val_loss: 0.0525 - val_accuracy: 0.9917\n",
      "Epoch 16/20\n",
      "782/782 [==============================] - 84s 106ms/step - loss: 0.0069 - accuracy: 0.9981 - val_loss: 0.0572 - val_accuracy: 0.9909\n",
      "Epoch 17/20\n",
      "782/782 [==============================] - 84s 107ms/step - loss: 0.0048 - accuracy: 0.9984 - val_loss: 0.0626 - val_accuracy: 0.9907\n",
      "Epoch 18/20\n",
      "782/782 [==============================] - 87s 110ms/step - loss: 0.0049 - accuracy: 0.9982 - val_loss: 0.0722 - val_accuracy: 0.9894\n",
      "Epoch 19/20\n",
      "782/782 [==============================] - 85s 107ms/step - loss: 0.0069 - accuracy: 0.9978 - val_loss: 0.0669 - val_accuracy: 0.9898\n",
      "Epoch 20/20\n",
      "782/782 [==============================] - 84s 106ms/step - loss: 0.0057 - accuracy: 0.9982 - val_loss: 0.0588 - val_accuracy: 0.9921\n"
     ]
    }
   ],
   "source": [
    "history = model.fit(mnist_train, epochs = NUM_EPOCHS,\n",
    "                   validation_data = mnist_valid,\n",
    "                   shuffle = True)"
   ]
  },
  {
   "cell_type": "code",
   "execution_count": 17,
   "id": "e95efad9",
   "metadata": {},
   "outputs": [
    {
     "data": {
      "image/png": "[encoded data removed]",
      "text/plain": [
       "<Figure size 864x288 with 2 Axes>"
      ]
     },
     "metadata": {
      "needs_background": "light"
     },
     "output_type": "display_data"
    }
   ],
   "source": [
    "import numpy as np\n",
    "import matplotlib.pyplot as plt\n",
    "hist = history.history\n",
    "x_arr = np.arange(len(hist['loss'])) + 1\n",
    "fig = plt.figure(figsize=(12, 4))\n",
    "ax = fig.add_subplot(1, 2, 1)\n",
    "ax.plot(x_arr, hist['loss'], '-o', label='Train loss')\n",
    "ax.plot(x_arr, hist['val_loss'], '--<', label='Validation loss')\n",
    "ax.legend(fontsize=15)\n",
    "ax = fig.add_subplot(1, 2, 2)\n",
    "ax.plot(x_arr, hist['accuracy'], '-o', label='Train acc.')\n",
    "ax.plot(x_arr, hist['val_accuracy'], '--<', label='Validation acc.')\n",
    "ax.legend(fontsize=15)\n",
    "plt.show()"
   ]
  },
  {
   "cell_type": "code",
   "execution_count": 18,
   "id": "cd37465c",
   "metadata": {},
   "outputs": [
    {
     "name": "stdout",
     "output_type": "stream",
     "text": [
      "500/500 [==============================] - 5s 10ms/step - loss: 0.0483 - accuracy: 0.9924\n"
     ]
    },
    {
     "data": {
      "text/plain": [
       "[0.04826177656650543, 0.9923999905586243]"
      ]
     },
     "execution_count": 18,
     "metadata": {},
     "output_type": "execute_result"
    }
   ],
   "source": [
    "model.evaluate(mnist_test.batch(20))"
   ]
  },
  {
   "cell_type": "code",
   "execution_count": 19,
   "id": "57d2e34c",
   "metadata": {},
   "outputs": [],
   "source": [
    "# predict\n",
    "batch_test = next(iter(mnist_test.batch(12)))\n",
    "preds = model(batch_test[0])\n",
    "preds = tf.argmax(preds, axis=1)"
   ]
  },
  {
   "cell_type": "code",
   "execution_count": 20,
   "id": "bbd0bf60",
   "metadata": {},
   "outputs": [
    {
     "data": {
      "image/png": "[encoded data removed]",
      "text/plain": [
       "<Figure size 864x288 with 12 Axes>"
      ]
     },
     "metadata": {},
     "output_type": "display_data"
    }
   ],
   "source": [
    "fig = plt.figure(figsize=(12, 4))\n",
    "for i in range(12):\n",
    "    ax = fig.add_subplot(2, 6, i+1)\n",
    "    ax.set_xticks([]); ax.set_yticks([])\n",
    "    img = batch_test[0][i, :, :, 0]\n",
    "    ax.imshow(img, cmap='gray_r')\n",
    "    ax.text(0.9, 0.1, '{}'.format(preds[i]),\n",
    "            size=15, color='blue',\n",
    "            horizontalalignment='center',\n",
    "            verticalalignment='center',\n",
    "            transform=ax.transAxes)\n",
    "plt.show()         "
   ]
  },
  {
   "cell_type": "code",
   "execution_count": null,
   "id": "7cca70ad",
   "metadata": {},
   "outputs": [],
   "source": []
  }
 ],
 "metadata": {
  "kernelspec": {
   "display_name": "Python 3",
   "language": "python",
   "name": "python3"
  },
  "language_info": {
   "codemirror_mode": {
    "name": "ipython",
    "version": 3
   },
   "file_extension": ".py",
   "mimetype": "text/x-python",
   "name": "python",
   "nbconvert_exporter": "python",
   "pygments_lexer": "ipython3",
   "version": "3.6.13"
  }
 },
 "nbformat": 4,
 "nbformat_minor": 5
}
