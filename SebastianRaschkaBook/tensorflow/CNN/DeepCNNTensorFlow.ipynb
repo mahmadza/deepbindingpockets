{
 "cells": [
  {
   "cell_type": "code",
   "execution_count": 5,
   "id": "a9c72d95",
   "metadata": {},
   "outputs": [],
   "source": [
    "import tensorflow_datasets as tfds\n",
    "import tensorflow as tf\n",
    "mnist_bldr = tfds.builder('mnist')\n",
    "mnist_bldr.download_and_prepare()\n",
    "datasets = mnist_bldr.as_dataset(shuffle_files = False)\n",
    "mnist_train_orig = datasets['train']\n",
    "mnist_test_orig = datasets['test']"
   ]
  },
  {
   "cell_type": "code",
   "execution_count": 6,
   "id": "e5de6ee4",
   "metadata": {},
   "outputs": [],
   "source": [
    "BUFFER_SIZE = 10000\n",
    "BATCH_SIZE = 64\n",
    "NUM_EPOCS = 20"
   ]
  },
  {
   "cell_type": "code",
   "execution_count": 9,
   "id": "21d6cbcc",
   "metadata": {},
   "outputs": [],
   "source": [
    "mnist_train = mnist_train_orig.map(lambda item: (tf.cast(item['image'], tf.float32)/255.0,\n",
    "                                                tf.cast(item['label'], tf.int32)))\n",
    "mnist_test = mnist_test_orig.map(lambda item: (tf.cast(item['image'], tf.float32)/255.0,\n",
    "                                                tf.cast(item['label'], tf.int32)))"
   ]
  },
  {
   "cell_type": "code",
   "execution_count": 10,
   "id": "18797a87",
   "metadata": {},
   "outputs": [],
   "source": [
    "tf.random.set_seed(1)\n",
    "mnist_train = mnist_train.shuffle(buffer_size = BUFFER_SIZE,\n",
    "                                 reshuffle_each_iteration = False)"
   ]
  },
  {
   "cell_type": "code",
   "execution_count": 11,
   "id": "4e2f32e7",
   "metadata": {},
   "outputs": [],
   "source": [
    "mnist_valid = mnist_train.take(10000).batch(BATCH_SIZE)\n",
    "mnist_train = mnist_train.skip(10000).batch(BATCH_SIZE)"
   ]
  },
  {
   "cell_type": "code",
   "execution_count": null,
   "id": "554274f8",
   "metadata": {},
   "outputs": [],
   "source": []
  }
 ],
 "metadata": {
  "kernelspec": {
   "display_name": "Python 3",
   "language": "python",
   "name": "python3"
  },
  "language_info": {
   "codemirror_mode": {
    "name": "ipython",
    "version": 3
   },
   "file_extension": ".py",
   "mimetype": "text/x-python",
   "name": "python",
   "nbconvert_exporter": "python",
   "pygments_lexer": "ipython3",
   "version": "3.6.13"
  }
 },
 "nbformat": 4,
 "nbformat_minor": 5
}
