{
 "cells": [
  {
   "cell_type": "code",
   "execution_count": 1,
   "id": "8269fdbb",
   "metadata": {},
   "outputs": [],
   "source": [
    "import numpy as np\n",
    "import scipy.signal"
   ]
  },
  {
   "cell_type": "code",
   "execution_count": null,
   "id": "b403028d",
   "metadata": {},
   "outputs": [],
   "source": [
    "def conv2d(X, W, p = (0, 0), s = (1, 1)):\n",
    "    W_rot = np.array(W::-1, ::-1)\n",
    "    x_orig = np.array(X)\n",
    "    \n",
    "    n1 = X_orig.shape[0] + 2*p[0]\n",
    "    n2 = X_orig.shape[1] + 2*p[1]\n",
    "    \n",
    "    X_padded = np.zeros(shape = (n1, n2))\n",
    "    X_padded[p[0]:p[0] + X_orig.shape[0],\n",
    "            p[1]:p[1] + X_orig.shape[1]] = X_orig\n",
    "    \n",
    "    res = []\n",
    "    "
   ]
  }
 ],
 "metadata": {
  "kernelspec": {
   "display_name": "Python 3",
   "language": "python",
   "name": "python3"
  },
  "language_info": {
   "codemirror_mode": {
    "name": "ipython",
    "version": 3
   },
   "file_extension": ".py",
   "mimetype": "text/x-python",
   "name": "python",
   "nbconvert_exporter": "python",
   "pygments_lexer": "ipython3",
   "version": "3.6.13"
  }
 },
 "nbformat": 4,
 "nbformat_minor": 5
}
