{
 "cells": [
  {
   "cell_type": "code",
   "execution_count": 1,
   "id": "conventional-messaging",
   "metadata": {},
   "outputs": [],
   "source": [
    "import tensorflow as tf\n",
    "import numpy as np"
   ]
  },
  {
   "cell_type": "code",
   "execution_count": 2,
   "id": "wired-birmingham",
   "metadata": {},
   "outputs": [],
   "source": [
    "np.set_printoptions(precision = 3)"
   ]
  },
  {
   "cell_type": "code",
   "execution_count": 3,
   "id": "noble-freight",
   "metadata": {},
   "outputs": [
    {
     "data": {
      "text/plain": [
       "array([1, 2, 3], dtype=int32)"
      ]
     },
     "execution_count": 3,
     "metadata": {},
     "output_type": "execute_result"
    }
   ],
   "source": [
    "a = np.array([1,2,3], dtype = np.int32)\n",
    "a"
   ]
  },
  {
   "cell_type": "code",
   "execution_count": 4,
   "id": "improving-groove",
   "metadata": {},
   "outputs": [
    {
     "data": {
      "text/plain": [
       "[4, 5, 6]"
      ]
     },
     "execution_count": 4,
     "metadata": {},
     "output_type": "execute_result"
    }
   ],
   "source": [
    "b = [4,5,6]\n",
    "b"
   ]
  },
  {
   "cell_type": "code",
   "execution_count": 5,
   "id": "potential-brain",
   "metadata": {},
   "outputs": [
    {
     "data": {
      "text/plain": [
       "<tf.Tensor: id=0, shape=(3,), dtype=int32, numpy=array([1, 2, 3], dtype=int32)>"
      ]
     },
     "execution_count": 5,
     "metadata": {},
     "output_type": "execute_result"
    }
   ],
   "source": [
    "t_a = tf.convert_to_tensor(a)\n",
    "t_a"
   ]
  },
  {
   "cell_type": "code",
   "execution_count": 6,
   "id": "revised-barrier",
   "metadata": {},
   "outputs": [
    {
     "name": "stdout",
     "output_type": "stream",
     "text": [
      "tf.Tensor([1 2 3], shape=(3,), dtype=int32)\n"
     ]
    }
   ],
   "source": [
    "print(t_a)"
   ]
  },
  {
   "cell_type": "code",
   "execution_count": 7,
   "id": "configured-literacy",
   "metadata": {},
   "outputs": [
    {
     "data": {
      "text/plain": [
       "<tf.Tensor: id=1, shape=(3,), dtype=int32, numpy=array([4, 5, 6], dtype=int32)>"
      ]
     },
     "execution_count": 7,
     "metadata": {},
     "output_type": "execute_result"
    }
   ],
   "source": [
    "t_b = tf.convert_to_tensor(b)\n",
    "t_b"
   ]
  },
  {
   "cell_type": "code",
   "execution_count": 8,
   "id": "coral-decline",
   "metadata": {},
   "outputs": [
    {
     "data": {
      "text/plain": [
       "TensorShape([2, 3])"
      ]
     },
     "execution_count": 8,
     "metadata": {},
     "output_type": "execute_result"
    }
   ],
   "source": [
    "t_ones = tf.ones((2,3))\n",
    "t_ones.shape"
   ]
  },
  {
   "cell_type": "code",
   "execution_count": 9,
   "id": "inappropriate-amendment",
   "metadata": {},
   "outputs": [
    {
     "data": {
      "text/plain": [
       "array([[1., 1., 1.],\n",
       "       [1., 1., 1.]], dtype=float32)"
      ]
     },
     "execution_count": 9,
     "metadata": {},
     "output_type": "execute_result"
    }
   ],
   "source": [
    "t_ones.numpy()"
   ]
  },
  {
   "cell_type": "code",
   "execution_count": 10,
   "id": "extended-calvin",
   "metadata": {},
   "outputs": [
    {
     "data": {
      "text/plain": [
       "array([1, 2, 3], dtype=int32)"
      ]
     },
     "execution_count": 10,
     "metadata": {},
     "output_type": "execute_result"
    }
   ],
   "source": [
    "t_a.numpy()"
   ]
  },
  {
   "cell_type": "code",
   "execution_count": 11,
   "id": "adjustable-updating",
   "metadata": {},
   "outputs": [
    {
     "name": "stdout",
     "output_type": "stream",
     "text": [
      "tf.Tensor([1.    2.    5.    3.142], shape=(4,), dtype=float32)\n"
     ]
    }
   ],
   "source": [
    "const_tensor = tf.constant([1,2,5,np.pi])\n",
    "print(const_tensor)"
   ]
  },
  {
   "cell_type": "code",
   "execution_count": 12,
   "id": "electric-times",
   "metadata": {},
   "outputs": [
    {
     "data": {
      "text/plain": [
       "array([1.   , 2.   , 5.   , 3.142], dtype=float32)"
      ]
     },
     "execution_count": 12,
     "metadata": {},
     "output_type": "execute_result"
    }
   ],
   "source": [
    "const_tensor.numpy()"
   ]
  },
  {
   "cell_type": "code",
   "execution_count": 13,
   "id": "potential-fleece",
   "metadata": {},
   "outputs": [
    {
     "name": "stdout",
     "output_type": "stream",
     "text": [
      "<dtype: 'int64'>\n"
     ]
    }
   ],
   "source": [
    "# change data type of a tensor\n",
    "t_a_new = tf.cast(t_a, tf.int64)\n",
    "print(t_a_new.dtype)"
   ]
  },
  {
   "cell_type": "code",
   "execution_count": 14,
   "id": "starting-adaptation",
   "metadata": {},
   "outputs": [
    {
     "data": {
      "text/plain": [
       "<tf.Tensor: id=13, shape=(3, 5), dtype=float32, numpy=\n",
       "array([[0.464, 0.877, 0.868, 0.306, 0.012],\n",
       "       [0.802, 0.958, 0.432, 0.397, 0.024],\n",
       "       [0.574, 0.777, 0.011, 0.515, 0.064]], dtype=float32)>"
      ]
     },
     "execution_count": 14,
     "metadata": {},
     "output_type": "execute_result"
    }
   ],
   "source": [
    "# transpose a tensor\n",
    "t = tf.random.uniform(shape = (3,5))\n",
    "t"
   ]
  },
  {
   "cell_type": "code",
   "execution_count": 15,
   "id": "seeing-pharmacology",
   "metadata": {},
   "outputs": [
    {
     "data": {
      "text/plain": [
       "<tf.Tensor: id=15, shape=(5, 3), dtype=float32, numpy=\n",
       "array([[0.464, 0.802, 0.574],\n",
       "       [0.877, 0.958, 0.777],\n",
       "       [0.868, 0.432, 0.011],\n",
       "       [0.306, 0.397, 0.515],\n",
       "       [0.012, 0.024, 0.064]], dtype=float32)>"
      ]
     },
     "execution_count": 15,
     "metadata": {},
     "output_type": "execute_result"
    }
   ],
   "source": [
    "t_tr = tf.transpose(t)\n",
    "t_tr"
   ]
  },
  {
   "cell_type": "code",
   "execution_count": 16,
   "id": "annual-genome",
   "metadata": {},
   "outputs": [
    {
     "data": {
      "text/plain": [
       "<tf.Tensor: id=18, shape=(30,), dtype=float32, numpy=\n",
       "array([0., 0., 0., 0., 0., 0., 0., 0., 0., 0., 0., 0., 0., 0., 0., 0., 0.,\n",
       "       0., 0., 0., 0., 0., 0., 0., 0., 0., 0., 0., 0., 0.], dtype=float32)>"
      ]
     },
     "execution_count": 16,
     "metadata": {},
     "output_type": "execute_result"
    }
   ],
   "source": [
    "# reshape a tensor\n",
    "t = tf.zeros((30,))\n",
    "t"
   ]
  },
  {
   "cell_type": "code",
   "execution_count": 17,
   "id": "stock-agenda",
   "metadata": {},
   "outputs": [
    {
     "data": {
      "text/plain": [
       "<tf.Tensor: id=20, shape=(5, 6), dtype=float32, numpy=\n",
       "array([[0., 0., 0., 0., 0., 0.],\n",
       "       [0., 0., 0., 0., 0., 0.],\n",
       "       [0., 0., 0., 0., 0., 0.],\n",
       "       [0., 0., 0., 0., 0., 0.],\n",
       "       [0., 0., 0., 0., 0., 0.]], dtype=float32)>"
      ]
     },
     "execution_count": 17,
     "metadata": {},
     "output_type": "execute_result"
    }
   ],
   "source": [
    "tf.reshape(t, shape = (5,6))"
   ]
  },
  {
   "cell_type": "code",
   "execution_count": 18,
   "id": "little-replacement",
   "metadata": {},
   "outputs": [
    {
     "data": {
      "text/plain": [
       "<tf.Tensor: id=23, shape=(1, 2, 1, 4, 1), dtype=float32, numpy=\n",
       "array([[[[[0.],\n",
       "          [0.],\n",
       "          [0.],\n",
       "          [0.]]],\n",
       "\n",
       "\n",
       "        [[[0.],\n",
       "          [0.],\n",
       "          [0.],\n",
       "          [0.]]]]], dtype=float32)>"
      ]
     },
     "execution_count": 18,
     "metadata": {},
     "output_type": "execute_result"
    }
   ],
   "source": [
    "# remove unnecessary dimension\n",
    "t = tf.zeros((1,2,1,4,1))\n",
    "t"
   ]
  },
  {
   "cell_type": "code",
   "execution_count": 19,
   "id": "moderate-platform",
   "metadata": {},
   "outputs": [
    {
     "data": {
      "text/plain": [
       "<tf.Tensor: id=24, shape=(1, 2, 4), dtype=float32, numpy=\n",
       "array([[[0., 0., 0., 0.],\n",
       "        [0., 0., 0., 0.]]], dtype=float32)>"
      ]
     },
     "execution_count": 19,
     "metadata": {},
     "output_type": "execute_result"
    }
   ],
   "source": [
    "t_sqz = tf.squeeze(t, axis = (2,4))\n",
    "t_sqz"
   ]
  },
  {
   "cell_type": "code",
   "execution_count": 20,
   "id": "fleet-passing",
   "metadata": {},
   "outputs": [
    {
     "name": "stdout",
     "output_type": "stream",
     "text": [
      "(1, 2, 1, 4, 1)  -->  (1, 2, 4)\n"
     ]
    }
   ],
   "source": [
    "print(t.shape, ' --> ', t_sqz.shape)"
   ]
  },
  {
   "cell_type": "code",
   "execution_count": 21,
   "id": "nutritional-chicago",
   "metadata": {},
   "outputs": [],
   "source": [
    "tf.random.set_seed(1)"
   ]
  },
  {
   "cell_type": "code",
   "execution_count": 23,
   "id": "dress-adventure",
   "metadata": {},
   "outputs": [
    {
     "data": {
      "text/plain": [
       "<tf.Tensor: id=32, shape=(5, 2), dtype=float32, numpy=\n",
       "array([[-0.67 ,  0.803],\n",
       "       [ 0.262, -0.131],\n",
       "       [-0.416,  0.285],\n",
       "       [ 0.952, -0.13 ],\n",
       "       [ 0.32 ,  0.21 ]], dtype=float32)>"
      ]
     },
     "execution_count": 23,
     "metadata": {},
     "output_type": "execute_result"
    }
   ],
   "source": [
    "t1 = tf.random.uniform(shape = (5,2), minval = -1.0, maxval=1.0)\n",
    "t1"
   ]
  },
  {
   "cell_type": "code",
   "execution_count": 24,
   "id": "fundamental-progress",
   "metadata": {},
   "outputs": [
    {
     "data": {
      "text/plain": [
       "<tf.Tensor: id=38, shape=(5, 2), dtype=float32, numpy=\n",
       "array([[ 0.403, -1.088],\n",
       "       [-0.063,  1.337],\n",
       "       [ 0.712, -0.489],\n",
       "       [-0.764, -1.037],\n",
       "       [-1.252,  0.021]], dtype=float32)>"
      ]
     },
     "execution_count": 24,
     "metadata": {},
     "output_type": "execute_result"
    }
   ],
   "source": [
    "t2 = tf.random.normal(shape = (5,2), mean = 0.0, stddev = 1.0)\n",
    "t2"
   ]
  },
  {
   "cell_type": "code",
   "execution_count": 26,
   "id": "reverse-behalf",
   "metadata": {},
   "outputs": [
    {
     "data": {
      "text/plain": [
       "array([[-0.27 , -0.874],\n",
       "       [-0.017, -0.175],\n",
       "       [-0.296, -0.139],\n",
       "       [-0.727,  0.135],\n",
       "       [-0.401,  0.004]], dtype=float32)"
      ]
     },
     "execution_count": 26,
     "metadata": {},
     "output_type": "execute_result"
    }
   ],
   "source": [
    "t3 = tf.multiply(t1, t2).numpy()\n",
    "t3"
   ]
  },
  {
   "cell_type": "code",
   "execution_count": null,
   "id": "constitutional-disposition",
   "metadata": {},
   "outputs": [],
   "source": [
    "t4 = tf.math.reduce_me"
   ]
  },
  {
   "cell_type": "code",
   "execution_count": null,
   "id": "opened-option",
   "metadata": {},
   "outputs": [],
   "source": []
  },
  {
   "cell_type": "code",
   "execution_count": null,
   "id": "competitive-convention",
   "metadata": {},
   "outputs": [],
   "source": []
  },
  {
   "cell_type": "code",
   "execution_count": null,
   "id": "female-madrid",
   "metadata": {},
   "outputs": [],
   "source": []
  },
  {
   "cell_type": "code",
   "execution_count": null,
   "id": "anonymous-aruba",
   "metadata": {},
   "outputs": [],
   "source": []
  }
 ],
 "metadata": {
  "kernelspec": {
   "display_name": "Python 3",
   "language": "python",
   "name": "python3"
  },
  "language_info": {
   "codemirror_mode": {
    "name": "ipython",
    "version": 3
   },
   "file_extension": ".py",
   "mimetype": "text/x-python",
   "name": "python",
   "nbconvert_exporter": "python",
   "pygments_lexer": "ipython3",
   "version": "3.6.10"
  }
 },
 "nbformat": 4,
 "nbformat_minor": 5
}
