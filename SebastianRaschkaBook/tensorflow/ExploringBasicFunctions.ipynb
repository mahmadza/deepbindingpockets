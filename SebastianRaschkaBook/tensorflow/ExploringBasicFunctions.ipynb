{
 "cells": [
  {
   "cell_type": "code",
   "execution_count": 1,
   "id": "3378bec1",
   "metadata": {},
   "outputs": [
    {
     "name": "stdout",
     "output_type": "stream",
     "text": [
      "WARNING:tensorflow:From /Users/mamduhzabidi/opt/anaconda3/envs/ML_2022/lib/python3.7/site-packages/tensorflow/python/compat/v2_compat.py:107: disable_resource_variables (from tensorflow.python.ops.variable_scope) is deprecated and will be removed in a future version.\n",
      "Instructions for updating:\n",
      "non-resource variables are not supported in the long term\n",
      "2.8.0\n"
     ]
    }
   ],
   "source": [
    "import tensorflow.compat.v1 as tf\n",
    "tf.disable_v2_behavior()\n",
    "import numpy as np\n",
    "print(tf.__version__)"
   ]
  },
  {
   "cell_type": "code",
   "execution_count": 2,
   "id": "d1856ecf",
   "metadata": {},
   "outputs": [],
   "source": [
    "np.set_printoptions(precision = 3)"
   ]
  },
  {
   "cell_type": "markdown",
   "id": "4114efaf",
   "metadata": {},
   "source": [
    "### Create tensors"
   ]
  },
  {
   "cell_type": "code",
   "execution_count": 5,
   "id": "7470aaf4",
   "metadata": {},
   "outputs": [
    {
     "name": "stdout",
     "output_type": "stream",
     "text": [
      "tf.Tensor([1 2 3], shape=(3,), dtype=int32)\n"
     ]
    }
   ],
   "source": [
    "# use numpy array\n",
    "a = np.array([1,2,3], dtype = np.int32)\n",
    "t_a = tf.convert_to_tensor(a)\n",
    "print(t_a)"
   ]
  },
  {
   "cell_type": "code",
   "execution_count": 7,
   "id": "4b98d5a3",
   "metadata": {},
   "outputs": [
    {
     "name": "stdout",
     "output_type": "stream",
     "text": [
      "tf.Tensor([4 5 6], shape=(3,), dtype=int32)\n"
     ]
    }
   ],
   "source": [
    "# use list\n",
    "b = [4,5,6]\n",
    "t_b = tf.convert_to_tensor(b)\n",
    "print(t_b)"
   ]
  },
  {
   "cell_type": "code",
   "execution_count": 8,
   "id": "dc535395",
   "metadata": {},
   "outputs": [
    {
     "name": "stdout",
     "output_type": "stream",
     "text": [
      "tf.Tensor(\n",
      "[[1. 1. 1.]\n",
      " [1. 1. 1.]], shape=(2, 3), dtype=float32)\n"
     ]
    }
   ],
   "source": [
    "t_ones = tf.ones((2,3))\n",
    "print(t_ones)"
   ]
  },
  {
   "cell_type": "code",
   "execution_count": 9,
   "id": "1a8c76cf",
   "metadata": {},
   "outputs": [
    {
     "data": {
      "text/plain": [
       "array([[1., 1., 1.],\n",
       "       [1., 1., 1.]], dtype=float32)"
      ]
     },
     "execution_count": 9,
     "metadata": {},
     "output_type": "execute_result"
    }
   ],
   "source": [
    "# access the values\n",
    "t_ones.numpy()"
   ]
  },
  {
   "cell_type": "code",
   "execution_count": 10,
   "id": "314b77a6",
   "metadata": {},
   "outputs": [
    {
     "name": "stdout",
     "output_type": "stream",
     "text": [
      "tf.Tensor([1.        2.        5.        3.1415927], shape=(4,), dtype=float32)\n"
     ]
    }
   ],
   "source": [
    "# another way to create a tensor\n",
    "const_tensor = tf.constant([1,2,5,np.pi])\n",
    "print(const_tensor)"
   ]
  },
  {
   "cell_type": "markdown",
   "id": "a33e196f",
   "metadata": {},
   "source": [
    "### Manipulate data type"
   ]
  },
  {
   "cell_type": "code",
   "execution_count": 11,
   "id": "8e2b88df",
   "metadata": {},
   "outputs": [
    {
     "name": "stdout",
     "output_type": "stream",
     "text": [
      "<dtype: 'int64'>\n"
     ]
    }
   ],
   "source": [
    "# change data type of a tensor\n",
    "t_a_new = tf.cast(t_a, tf.int64)\n",
    "print(t_a_new.dtype)"
   ]
  },
  {
   "cell_type": "code",
   "execution_count": 12,
   "id": "715e701f",
   "metadata": {},
   "outputs": [
    {
     "data": {
      "text/plain": [
       "<tf.Tensor: shape=(3, 5), dtype=float32, numpy=\n",
       "array([[0.38080657, 0.8961911 , 0.9217665 , 0.680472  , 0.9554783 ],\n",
       "       [0.02590024, 0.46309495, 0.49136436, 0.7326813 , 0.03951478],\n",
       "       [0.21192908, 0.3961258 , 0.9978219 , 0.977653  , 0.43079674]],\n",
       "      dtype=float32)>"
      ]
     },
     "execution_count": 12,
     "metadata": {},
     "output_type": "execute_result"
    }
   ],
   "source": [
    "# transpose a tensor\n",
    "t = tf.random.uniform(shape = (3,5))\n",
    "t"
   ]
  },
  {
   "cell_type": "code",
   "execution_count": 13,
   "id": "a0f6125f",
   "metadata": {},
   "outputs": [
    {
     "data": {
      "text/plain": [
       "<tf.Tensor: shape=(5, 3), dtype=float32, numpy=\n",
       "array([[0.38080657, 0.02590024, 0.21192908],\n",
       "       [0.8961911 , 0.46309495, 0.3961258 ],\n",
       "       [0.9217665 , 0.49136436, 0.9978219 ],\n",
       "       [0.680472  , 0.7326813 , 0.977653  ],\n",
       "       [0.9554783 , 0.03951478, 0.43079674]], dtype=float32)>"
      ]
     },
     "execution_count": 13,
     "metadata": {},
     "output_type": "execute_result"
    }
   ],
   "source": [
    "t_tr = tf.transpose(t)\n",
    "t_tr"
   ]
  },
  {
   "cell_type": "code",
   "execution_count": 14,
   "id": "9348f800",
   "metadata": {},
   "outputs": [
    {
     "name": "stdout",
     "output_type": "stream",
     "text": [
      "tf.Tensor(\n",
      "[0. 0. 0. 0. 0. 0. 0. 0. 0. 0. 0. 0. 0. 0. 0. 0. 0. 0. 0. 0. 0. 0. 0. 0.\n",
      " 0. 0. 0. 0. 0. 0.], shape=(30,), dtype=float32)\n"
     ]
    }
   ],
   "source": [
    "# reshape a tensor\n",
    "t = tf.zeros((30,))\n",
    "print(t)"
   ]
  },
  {
   "cell_type": "code",
   "execution_count": 15,
   "id": "7e1354d5",
   "metadata": {},
   "outputs": [
    {
     "name": "stdout",
     "output_type": "stream",
     "text": [
      "tf.Tensor(\n",
      "[[0. 0. 0. 0. 0. 0.]\n",
      " [0. 0. 0. 0. 0. 0.]\n",
      " [0. 0. 0. 0. 0. 0.]\n",
      " [0. 0. 0. 0. 0. 0.]\n",
      " [0. 0. 0. 0. 0. 0.]], shape=(5, 6), dtype=float32)\n"
     ]
    }
   ],
   "source": [
    "print(tf.reshape(t, shape = (5,6)))"
   ]
  },
  {
   "cell_type": "code",
   "execution_count": 16,
   "id": "8bf95ec6",
   "metadata": {},
   "outputs": [
    {
     "name": "stdout",
     "output_type": "stream",
     "text": [
      "tf.Tensor(\n",
      "[[[[[0.]\n",
      "    [0.]\n",
      "    [0.]\n",
      "    [0.]]]\n",
      "\n",
      "\n",
      "  [[[0.]\n",
      "    [0.]\n",
      "    [0.]\n",
      "    [0.]]]]], shape=(1, 2, 1, 4, 1), dtype=float32)\n"
     ]
    }
   ],
   "source": [
    "# remove unnecessary dimension\n",
    "t = tf.zeros((1,2,1,4,1))\n",
    "print(t)"
   ]
  },
  {
   "cell_type": "code",
   "execution_count": 17,
   "id": "0f2ae4a0",
   "metadata": {},
   "outputs": [
    {
     "name": "stdout",
     "output_type": "stream",
     "text": [
      "tf.Tensor(\n",
      "[[[0. 0. 0. 0.]\n",
      "  [0. 0. 0. 0.]]], shape=(1, 2, 4), dtype=float32)\n"
     ]
    }
   ],
   "source": [
    "t_sqz = tf.squeeze(t, axis = (2,4))\n",
    "print(t_sqz)"
   ]
  },
  {
   "cell_type": "code",
   "execution_count": 18,
   "id": "5f76cac8",
   "metadata": {},
   "outputs": [
    {
     "name": "stdout",
     "output_type": "stream",
     "text": [
      "(1, 2, 1, 4, 1)  -->  (1, 2, 4)\n"
     ]
    }
   ],
   "source": [
    "print(t.shape, ' --> ', t_sqz.shape)"
   ]
  },
  {
   "cell_type": "code",
   "execution_count": 21,
   "id": "d8dbaa50",
   "metadata": {},
   "outputs": [],
   "source": [
    "tf.random.set_seed(1)"
   ]
  },
  {
   "cell_type": "code",
   "execution_count": 23,
   "id": "36327dba",
   "metadata": {},
   "outputs": [
    {
     "data": {
      "text/plain": [
       "<tf.Tensor: id=32, shape=(5, 2), dtype=float32, numpy=\n",
       "array([[-0.67 ,  0.803],\n",
       "       [ 0.262, -0.131],\n",
       "       [-0.416,  0.285],\n",
       "       [ 0.952, -0.13 ],\n",
       "       [ 0.32 ,  0.21 ]], dtype=float32)>"
      ]
     },
     "execution_count": 23,
     "metadata": {},
     "output_type": "execute_result"
    }
   ],
   "source": [
    "t1 = tf.random.uniform(shape = (5,2), minval = -1.0, maxval=1.0)\n",
    "t1"
   ]
  },
  {
   "cell_type": "code",
   "execution_count": 24,
   "id": "9914010b",
   "metadata": {},
   "outputs": [
    {
     "data": {
      "text/plain": [
       "<tf.Tensor: id=38, shape=(5, 2), dtype=float32, numpy=\n",
       "array([[ 0.403, -1.088],\n",
       "       [-0.063,  1.337],\n",
       "       [ 0.712, -0.489],\n",
       "       [-0.764, -1.037],\n",
       "       [-1.252,  0.021]], dtype=float32)>"
      ]
     },
     "execution_count": 24,
     "metadata": {},
     "output_type": "execute_result"
    }
   ],
   "source": [
    "t2 = tf.random.normal(shape = (5,2), mean = 0.0, stddev = 1.0)\n",
    "t2"
   ]
  },
  {
   "cell_type": "code",
   "execution_count": 26,
   "id": "6e016d99",
   "metadata": {},
   "outputs": [
    {
     "data": {
      "text/plain": [
       "array([[-0.27 , -0.874],\n",
       "       [-0.017, -0.175],\n",
       "       [-0.296, -0.139],\n",
       "       [-0.727,  0.135],\n",
       "       [-0.401,  0.004]], dtype=float32)"
      ]
     },
     "execution_count": 26,
     "metadata": {},
     "output_type": "execute_result"
    }
   ],
   "source": [
    "t3 = tf.multiply(t1, t2).numpy()\n",
    "t3"
   ]
  },
  {
   "cell_type": "code",
   "execution_count": 28,
   "id": "e7c43b43",
   "metadata": {},
   "outputs": [
    {
     "name": "stdout",
     "output_type": "stream",
     "text": [
      "tf.Tensor([0.09  0.207], shape=(2,), dtype=float32)\n"
     ]
    }
   ],
   "source": [
    "t4 = tf.math.reduce_mean(t1, axis = 0)\n",
    "print(t4)"
   ]
  },
  {
   "cell_type": "code",
   "execution_count": 30,
   "id": "20656dfe",
   "metadata": {},
   "outputs": [
    {
     "name": "stdout",
     "output_type": "stream",
     "text": [
      "[[-1.144  1.115 -0.87  -0.321  0.856]\n",
      " [ 0.248 -0.191  0.25  -0.064 -0.331]\n",
      " [-0.478  0.407 -0.436  0.022  0.527]\n",
      " [ 0.525 -0.234  0.741 -0.593 -1.194]\n",
      " [-0.099  0.26   0.125 -0.462 -0.396]]\n"
     ]
    }
   ],
   "source": [
    "t5 = tf.linalg.matmul(t1, t2, transpose_b = True)\n",
    "print(t5.numpy())"
   ]
  },
  {
   "cell_type": "code",
   "execution_count": 31,
   "id": "357b6d8b",
   "metadata": {},
   "outputs": [
    {
     "name": "stdout",
     "output_type": "stream",
     "text": [
      "[[-1.711  0.302]\n",
      " [ 0.371 -1.049]]\n"
     ]
    }
   ],
   "source": [
    "t6 = tf.linalg.matmul(t1, t2, transpose_a = True)\n",
    "print(t6.numpy())"
   ]
  },
  {
   "cell_type": "code",
   "execution_count": 33,
   "id": "f2472d45",
   "metadata": {},
   "outputs": [
    {
     "name": "stdout",
     "output_type": "stream",
     "text": [
      "[1.046 0.293 0.504 0.96  0.383]\n"
     ]
    }
   ],
   "source": [
    "# calculate L2 norm of a tensor\n",
    "norm_t1 = tf.norm(t1, ord = 2, axis = 1).numpy()\n",
    "print(norm_t1)"
   ]
  },
  {
   "cell_type": "code",
   "execution_count": 38,
   "id": "ea28599f",
   "metadata": {},
   "outputs": [
    {
     "data": {
      "text/plain": [
       "array([1.046, 0.293, 0.504, 0.96 , 0.383], dtype=float32)"
      ]
     },
     "execution_count": 38,
     "metadata": {},
     "output_type": "execute_result"
    }
   ],
   "source": [
    "np.sqrt(np.sum(np.square(t1), axis = 1))"
   ]
  },
  {
   "cell_type": "code",
   "execution_count": 35,
   "id": "1e70211f",
   "metadata": {},
   "outputs": [
    {
     "data": {
      "text/plain": [
       "<tf.Tensor: id=32, shape=(5, 2), dtype=float32, numpy=\n",
       "array([[-0.67 ,  0.803],\n",
       "       [ 0.262, -0.131],\n",
       "       [-0.416,  0.285],\n",
       "       [ 0.952, -0.13 ],\n",
       "       [ 0.32 ,  0.21 ]], dtype=float32)>"
      ]
     },
     "execution_count": 35,
     "metadata": {},
     "output_type": "execute_result"
    }
   ],
   "source": [
    "t1"
   ]
  },
  {
   "cell_type": "code",
   "execution_count": 37,
   "id": "658c7525",
   "metadata": {},
   "outputs": [
    {
     "data": {
      "text/plain": [
       "array([[0.449, 0.645],\n",
       "       [0.069, 0.017],\n",
       "       [0.173, 0.081],\n",
       "       [0.905, 0.017],\n",
       "       [0.103, 0.044]], dtype=float32)"
      ]
     },
     "execution_count": 37,
     "metadata": {},
     "output_type": "execute_result"
    }
   ],
   "source": [
    "np.square(t1)"
   ]
  },
  {
   "cell_type": "code",
   "execution_count": 39,
   "id": "15e06bad",
   "metadata": {},
   "outputs": [
    {
     "name": "stdout",
     "output_type": "stream",
     "text": [
      "[0.165 0.901 0.631 0.435 0.292 0.643]\n"
     ]
    }
   ],
   "source": [
    "tf.random.set_seed(1)\n",
    "t = tf.random.uniform((6,))\n",
    "print(t.numpy())"
   ]
  },
  {
   "cell_type": "code",
   "execution_count": 40,
   "id": "fa9fdb58",
   "metadata": {},
   "outputs": [
    {
     "data": {
      "text/plain": [
       "[<tf.Tensor: id=66, shape=(2,), dtype=float32, numpy=array([0.165, 0.901], dtype=float32)>,\n",
       " <tf.Tensor: id=67, shape=(2,), dtype=float32, numpy=array([0.631, 0.435], dtype=float32)>,\n",
       " <tf.Tensor: id=68, shape=(2,), dtype=float32, numpy=array([0.292, 0.643], dtype=float32)>]"
      ]
     },
     "execution_count": 40,
     "metadata": {},
     "output_type": "execute_result"
    }
   ],
   "source": [
    "t_splits = tf.split(t, num_or_size_splits=3)\n",
    "t_splits"
   ]
  },
  {
   "cell_type": "code",
   "execution_count": 43,
   "id": "fc5fce9d",
   "metadata": {},
   "outputs": [
    {
     "name": "stdout",
     "output_type": "stream",
     "text": [
      "[0.165 0.901 0.631 0.435 0.292]\n"
     ]
    }
   ],
   "source": [
    "tf.random.set_seed(1)\n",
    "t = tf.random.uniform((5,))\n",
    "print(t.numpy())"
   ]
  },
  {
   "cell_type": "code",
   "execution_count": 44,
   "id": "71694eb3",
   "metadata": {},
   "outputs": [
    {
     "data": {
      "text/plain": [
       "[<tf.Tensor: id=92, shape=(3,), dtype=float32, numpy=array([0.165, 0.901, 0.631], dtype=float32)>,\n",
       " <tf.Tensor: id=93, shape=(2,), dtype=float32, numpy=array([0.435, 0.292], dtype=float32)>]"
      ]
     },
     "execution_count": 44,
     "metadata": {},
     "output_type": "execute_result"
    }
   ],
   "source": [
    "t_splits = tf.split(t, num_or_size_splits=[3,2])\n",
    "t_splits"
   ]
  },
  {
   "cell_type": "code",
   "execution_count": 45,
   "id": "133c88d3",
   "metadata": {},
   "outputs": [
    {
     "name": "stdout",
     "output_type": "stream",
     "text": [
      "<TensorSliceDataset shapes: (), types: tf.float32>\n"
     ]
    }
   ],
   "source": [
    "# create a tensorflow dataset from an existing tensor\n",
    "a = [1.2, 3.4, 7.5, 4.1, 5.0, 1.0]\n",
    "ds = tf.data.Dataset.from_tensor_slices(a)\n",
    "print(ds)"
   ]
  },
  {
   "cell_type": "code",
   "execution_count": 47,
   "id": "c4097f95",
   "metadata": {},
   "outputs": [
    {
     "name": "stdout",
     "output_type": "stream",
     "text": [
      "tf.Tensor(1.2, shape=(), dtype=float32)\n",
      "tf.Tensor(3.4, shape=(), dtype=float32)\n",
      "tf.Tensor(7.5, shape=(), dtype=float32)\n",
      "tf.Tensor(4.1, shape=(), dtype=float32)\n",
      "tf.Tensor(5.0, shape=(), dtype=float32)\n",
      "tf.Tensor(1.0, shape=(), dtype=float32)\n"
     ]
    }
   ],
   "source": [
    "for item in ds:\n",
    "    print(item)"
   ]
  },
  {
   "cell_type": "code",
   "execution_count": 48,
   "id": "dd2d23f2",
   "metadata": {},
   "outputs": [
    {
     "name": "stdout",
     "output_type": "stream",
     "text": [
      "1 [1.2 3.4 7.5]\n",
      "2 [4.1 5.  1. ]\n"
     ]
    }
   ],
   "source": [
    "ds_batch = ds.batch(3)\n",
    "for i,elem in enumerate(ds_batch, 1):\n",
    "    print(i, elem.numpy())"
   ]
  },
  {
   "cell_type": "code",
   "execution_count": null,
   "id": "0d856787",
   "metadata": {},
   "outputs": [],
   "source": []
  },
  {
   "cell_type": "code",
   "execution_count": null,
   "id": "10f238ec",
   "metadata": {},
   "outputs": [],
   "source": []
  },
  {
   "cell_type": "code",
   "execution_count": null,
   "id": "5c09c152",
   "metadata": {},
   "outputs": [],
   "source": []
  },
  {
   "cell_type": "code",
   "execution_count": null,
   "id": "5481151b",
   "metadata": {},
   "outputs": [],
   "source": []
  },
  {
   "cell_type": "code",
   "execution_count": null,
   "id": "14bbbecf",
   "metadata": {},
   "outputs": [],
   "source": []
  },
  {
   "cell_type": "code",
   "execution_count": null,
   "id": "3797b7b0",
   "metadata": {},
   "outputs": [],
   "source": []
  },
  {
   "cell_type": "code",
   "execution_count": null,
   "id": "2bd52960",
   "metadata": {},
   "outputs": [],
   "source": []
  },
  {
   "cell_type": "code",
   "execution_count": null,
   "id": "9d168535",
   "metadata": {},
   "outputs": [],
   "source": []
  },
  {
   "cell_type": "code",
   "execution_count": null,
   "id": "2368b255",
   "metadata": {},
   "outputs": [],
   "source": []
  }
 ],
 "metadata": {
  "kernelspec": {
   "display_name": "Python 3 (ipykernel)",
   "language": "python",
   "name": "python3"
  },
  "language_info": {
   "codemirror_mode": {
    "name": "ipython",
    "version": 3
   },
   "file_extension": ".py",
   "mimetype": "text/x-python",
   "name": "python",
   "nbconvert_exporter": "python",
   "pygments_lexer": "ipython3",
   "version": "3.7.12"
  }
 },
 "nbformat": 4,
 "nbformat_minor": 5
}
