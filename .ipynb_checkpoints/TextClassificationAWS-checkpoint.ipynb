{
 "cells": [
  {
   "cell_type": "code",
   "execution_count": 1,
   "metadata": {},
   "outputs": [],
   "source": [
    "#sandbox notebook for my study on AWS' training module,\n",
    "#Build a Text Classification Model with AWS Glue and Amazon SageMaker"
   ]
  },
  {
   "cell_type": "code",
   "execution_count": 2,
   "metadata": {},
   "outputs": [],
   "source": [
    "#data source is Amazon's product reviews,\n",
    "#which is heavily biased towards books"
   ]
  },
  {
   "cell_type": "code",
   "execution_count": 3,
   "metadata": {},
   "outputs": [],
   "source": [
    "#do this using AWS Glue Development Endpoints\n",
    "#and launch Notebook instance"
   ]
  },
  {
   "cell_type": "code",
   "execution_count": 4,
   "metadata": {},
   "outputs": [],
   "source": [
    "#balancing strategies:\n",
    "# copy records\n",
    "# remove records\n",
    "# more sophisticated approaches, but these don't work so well with texts"
   ]
  },
  {
   "cell_type": "code",
   "execution_count": 5,
   "metadata": {},
   "outputs": [],
   "source": [
    "#here, equalize with the category with lowest count\n",
    "#and remove randomly\n",
    "#so, find the category with the lowest count,\n",
    "#and calculate a samplingfactor Ni for each category"
   ]
  },
  {
   "cell_type": "code",
   "execution_count": null,
   "metadata": {},
   "outputs": [],
   "source": [
    "#read data from the source with a Glue DynamicFrame\n",
    "#point to the table that was created by Glue\n",
    "datasource = glueContext.create_dynamic_frame.from_catalog(\n",
    "    database = database,\n",
    "    table_name = table)"
   ]
  },
  {
   "cell_type": "code",
   "execution_count": null,
   "metadata": {},
   "outputs": [],
   "source": [
    "#convert the DynamicFrame to a Spark DataFrame\n",
    "df = satasource.toDF()\n"
   ]
  }
 ],
 "metadata": {
  "kernelspec": {
   "display_name": "Python 3",
   "language": "python",
   "name": "python3"
  },
  "language_info": {
   "codemirror_mode": {
    "name": "ipython",
    "version": 3
   },
   "file_extension": ".py",
   "mimetype": "text/x-python",
   "name": "python",
   "nbconvert_exporter": "python",
   "pygments_lexer": "ipython3",
   "version": "3.7.3"
  }
 },
 "nbformat": 4,
 "nbformat_minor": 2
}
