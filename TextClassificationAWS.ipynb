{
 "cells": [
  {
   "cell_type": "code",
   "execution_count": 1,
   "metadata": {},
   "outputs": [],
   "source": [
    "#sandbox notebook for my study on AWS' training module,\n",
    "#Build a Text Classification Model with AWS Glue and Amazon SageMaker"
   ]
  },
  {
   "cell_type": "code",
   "execution_count": 2,
   "metadata": {},
   "outputs": [],
   "source": [
    "#data source is Amazon's product reviews,\n",
    "#which is heavily biased towards books"
   ]
  },
  {
   "cell_type": "code",
   "execution_count": 3,
   "metadata": {},
   "outputs": [],
   "source": [
    "#do this using AWS Glue Development Endpoints\n",
    "#and launch Notebook instance"
   ]
  },
  {
   "cell_type": "code",
   "execution_count": 4,
   "metadata": {},
   "outputs": [],
   "source": [
    "#balancing strategies:\n",
    "# copy records\n",
    "# remove records\n",
    "# more sophisticated approaches, but these don't work so well with texts"
   ]
  },
  {
   "cell_type": "code",
   "execution_count": 5,
   "metadata": {},
   "outputs": [],
   "source": [
    "#here, equalize with the category with lowest count\n",
    "#and remove randomly\n",
    "#so, find the category with the lowest count,\n",
    "#and calculate a samplingfactor Ni for each category"
   ]
  },
  {
   "cell_type": "code",
   "execution_count": null,
   "metadata": {},
   "outputs": [],
   "source": [
    "#read data from the source with a Glue DynamicFrame\n",
    "#point to the table that was created by Glue\n",
    "datasource = glueContext.create_dynamic_frame.from_catalog(\n",
    "    database = database,\n",
    "    table_name = table)"
   ]
  },
  {
   "cell_type": "code",
   "execution_count": null,
   "metadata": {},
   "outputs": [],
   "source": [
    "#convert the DynamicFrame to a Spark DataFrame\n",
    "df = satasource.toDF()"
   ]
  },
  {
   "cell_type": "code",
   "execution_count": null,
   "metadata": {},
   "outputs": [],
   "source": [
    "#count number of reviews per category\n",
    "per_category_count = df.groupBy('product_category').count().collect()"
   ]
  },
  {
   "cell_type": "code",
   "execution_count": null,
   "metadata": {},
   "outputs": [],
   "source": [
    "#find the category with the least reviews\n",
    "counts = [x['count'] for x in per_category_count]\n",
    "min_count = float(min(conts))"
   ]
  },
  {
   "cell_type": "code",
   "execution_count": null,
   "metadata": {},
   "outputs": [],
   "source": [
    "#calculate factor to apply to each category and put in a tuple\n",
    "factors = map(lambda x: (x['product_category'],min_count/float(x['count'])),\n",
    "             per_category_count)"
   ]
  },
  {
   "cell_type": "code",
   "execution_count": null,
   "metadata": {},
   "outputs": [],
   "source": [
    "#take a sample of N reviews for each category\n",
    "samples = []\n",
    "for category, n in factors:\n",
    "    sample = glueContext.create_dynamic_frame.from_catalog(\n",
    "        database = database,\n",
    "    table_name = table,\n",
    "    push_down_predicate = \"product_category == '{}'\".format(category))\n",
    "    #this line:\n",
    "    #push_down_predicate = \"product_category == '{}'\".format(category)\n",
    "    #allows push the query via leveraging the partitioning\n",
    "    #this speeds up the process\n",
    "    #take a sample of each category\n",
    "    sample = sample.toDF().sample(\n",
    "        withReplacement=False,\n",
    "        fraction=n,\n",
    "        seed=42)\n",
    "    sample.append(sample)"
   ]
  },
  {
   "cell_type": "code",
   "execution_count": null,
   "metadata": {},
   "outputs": [],
   "source": [
    "#write samples into S3\n",
    "#build a Spark DataFrame, a union of all samples\n",
    "balanced_df = samples[0]   #initialize sample collection\n",
    "for sample in samples[1:]:\n",
    "    balanced_df = balanced_df.union(sample)\n",
    "    \n",
    "#convert back into a Glue DynamicFrame\n",
    "balanced = DynamicFrame.fromDF(balanced_df, glueContext, \"balanced\")\n",
    "\n",
    "#write as Parquet\n",
    "sampled_data_sink = glueContext.write_dynamic_frame.from_options(\n",
    "    frame = balanced,\n",
    "    connection_type = 's3',\n",
    "    connection_options = {\"path\":target, \"partitionKeys\":[\"product_category\"]},\n",
    "    format = \"parquet\")"
   ]
  },
  {
   "cell_type": "markdown",
   "metadata": {},
   "source": [
    "# SageMaker BlazingText\n",
    "## Two modes:\n",
    "### unsupervised, highly optimized version of Word2vec, and used to convert words to vectors (word embeddings)\n",
    "### supervised, extends fastText text classifier, used for multi class/label text classification"
   ]
  },
  {
   "cell_type": "code",
   "execution_count": null,
   "metadata": {},
   "outputs": [],
   "source": [
    "# BlazingText input requirements:\n",
    "# single preprocessed text file\n",
    "# space-separated tokens ( a word or punctuation symbols)\n",
    "# single sentence per line\n",
    "# labels alongside the sentence\n",
    "## a label is a word prefixed by __label__\n",
    "\n",
    "#target input:\n",
    "#__label__10 this product is awesome....\n",
    "#__label_1 wishing they all make products like this!"
   ]
  },
  {
   "cell_type": "code",
   "execution_count": null,
   "metadata": {},
   "outputs": [],
   "source": [
    "#start with DynamicFrame\n",
    "datasource = glueContext.create_dynamic_frame.from_catalog(\n",
    "    database = database, table_name = table)\n",
    "#select the fields that we want\n",
    "select = SelectFields.apply(\n",
    "    frame = datasource,\n",
    "    paths = [\"product_category\",\"review_body\"])\n"
   ]
  }
 ],
 "metadata": {
  "kernelspec": {
   "display_name": "Python 3",
   "language": "python",
   "name": "python3"
  },
  "language_info": {
   "codemirror_mode": {
    "name": "ipython",
    "version": 3
   },
   "file_extension": ".py",
   "mimetype": "text/x-python",
   "name": "python",
   "nbconvert_exporter": "python",
   "pygments_lexer": "ipython3",
   "version": "3.7.3"
  }
 },
 "nbformat": 4,
 "nbformat_minor": 2
}
